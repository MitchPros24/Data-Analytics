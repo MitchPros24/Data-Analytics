{
 "cells": [
  {
   "cell_type": "markdown",
   "id": "e67d1fb4-97e5-4029-b299-aea8bb36be6c",
   "metadata": {},
   "source": [
    "<h1>UK Road Accidents</h1>\n",
    "<hr>\n",
    "<h3>Data: Ken Lloyd Alcoreza</h3>"
   ]
  },
  {
   "cell_type": "code",
   "execution_count": 1,
   "id": "9818e426-9369-4e81-bf76-ed33240d84cb",
   "metadata": {},
   "outputs": [],
   "source": [
    "import numpy as np\n",
    "import pandas as pd\n",
    "from scipy.stats import f_oneway\n",
    "import matplotlib.pyplot as plt\n",
    "\n",
    "data = pd.read_csv('dataset\\\\uk_road_accident.csv')"
   ]
  },
  {
   "cell_type": "code",
   "execution_count": 2,
   "id": "2b739d14-4986-40ce-a2b1-c5e9e8675c5d",
   "metadata": {},
   "outputs": [
    {
     "data": {
      "text/html": [
       "<div>\n",
       "<style scoped>\n",
       "    .dataframe tbody tr th:only-of-type {\n",
       "        vertical-align: middle;\n",
       "    }\n",
       "\n",
       "    .dataframe tbody tr th {\n",
       "        vertical-align: top;\n",
       "    }\n",
       "\n",
       "    .dataframe thead th {\n",
       "        text-align: right;\n",
       "    }\n",
       "</style>\n",
       "<table border=\"1\" class=\"dataframe\">\n",
       "  <thead>\n",
       "    <tr style=\"text-align: right;\">\n",
       "      <th></th>\n",
       "      <th>Index</th>\n",
       "      <th>Accident_Severity</th>\n",
       "      <th>Accident Date</th>\n",
       "      <th>Latitude</th>\n",
       "      <th>Light_Conditions</th>\n",
       "      <th>District Area</th>\n",
       "      <th>Longitude</th>\n",
       "      <th>Number_of_Casualties</th>\n",
       "      <th>Number_of_Vehicles</th>\n",
       "      <th>Road_Surface_Conditions</th>\n",
       "      <th>Road_Type</th>\n",
       "      <th>Urban_or_Rural_Area</th>\n",
       "      <th>Weather_Conditions</th>\n",
       "      <th>Vehicle_Type</th>\n",
       "    </tr>\n",
       "  </thead>\n",
       "  <tbody>\n",
       "    <tr>\n",
       "      <th>0</th>\n",
       "      <td>200701BS64157</td>\n",
       "      <td>Serious</td>\n",
       "      <td>5/6/2019</td>\n",
       "      <td>51.506187</td>\n",
       "      <td>Darkness - lights lit</td>\n",
       "      <td>Kensington and Chelsea</td>\n",
       "      <td>-0.209082</td>\n",
       "      <td>1</td>\n",
       "      <td>2</td>\n",
       "      <td>Dry</td>\n",
       "      <td>Single carriageway</td>\n",
       "      <td>Urban</td>\n",
       "      <td>Fine no high winds</td>\n",
       "      <td>Car</td>\n",
       "    </tr>\n",
       "    <tr>\n",
       "      <th>1</th>\n",
       "      <td>200701BS65737</td>\n",
       "      <td>Serious</td>\n",
       "      <td>2/7/2019</td>\n",
       "      <td>51.495029</td>\n",
       "      <td>Daylight</td>\n",
       "      <td>Kensington and Chelsea</td>\n",
       "      <td>-0.173647</td>\n",
       "      <td>1</td>\n",
       "      <td>2</td>\n",
       "      <td>Wet or damp</td>\n",
       "      <td>Single carriageway</td>\n",
       "      <td>Urban</td>\n",
       "      <td>Raining no high winds</td>\n",
       "      <td>Car</td>\n",
       "    </tr>\n",
       "    <tr>\n",
       "      <th>2</th>\n",
       "      <td>200701BS66127</td>\n",
       "      <td>Serious</td>\n",
       "      <td>26-08-2019</td>\n",
       "      <td>51.517715</td>\n",
       "      <td>Darkness - lighting unknown</td>\n",
       "      <td>Kensington and Chelsea</td>\n",
       "      <td>-0.210215</td>\n",
       "      <td>1</td>\n",
       "      <td>3</td>\n",
       "      <td>Dry</td>\n",
       "      <td>NaN</td>\n",
       "      <td>Urban</td>\n",
       "      <td>NaN</td>\n",
       "      <td>Taxi/Private hire car</td>\n",
       "    </tr>\n",
       "    <tr>\n",
       "      <th>3</th>\n",
       "      <td>200701BS66128</td>\n",
       "      <td>Serious</td>\n",
       "      <td>16-08-2019</td>\n",
       "      <td>51.495478</td>\n",
       "      <td>Daylight</td>\n",
       "      <td>Kensington and Chelsea</td>\n",
       "      <td>-0.202731</td>\n",
       "      <td>1</td>\n",
       "      <td>4</td>\n",
       "      <td>Dry</td>\n",
       "      <td>Single carriageway</td>\n",
       "      <td>Urban</td>\n",
       "      <td>Fine no high winds</td>\n",
       "      <td>Bus or coach (17 or more pass seats)</td>\n",
       "    </tr>\n",
       "    <tr>\n",
       "      <th>4</th>\n",
       "      <td>200701BS66837</td>\n",
       "      <td>Slight</td>\n",
       "      <td>3/9/2019</td>\n",
       "      <td>51.488576</td>\n",
       "      <td>Darkness - lights lit</td>\n",
       "      <td>Kensington and Chelsea</td>\n",
       "      <td>-0.192487</td>\n",
       "      <td>1</td>\n",
       "      <td>2</td>\n",
       "      <td>Dry</td>\n",
       "      <td>NaN</td>\n",
       "      <td>Urban</td>\n",
       "      <td>NaN</td>\n",
       "      <td>Other vehicle</td>\n",
       "    </tr>\n",
       "    <tr>\n",
       "      <th>...</th>\n",
       "      <td>...</td>\n",
       "      <td>...</td>\n",
       "      <td>...</td>\n",
       "      <td>...</td>\n",
       "      <td>...</td>\n",
       "      <td>...</td>\n",
       "      <td>...</td>\n",
       "      <td>...</td>\n",
       "      <td>...</td>\n",
       "      <td>...</td>\n",
       "      <td>...</td>\n",
       "      <td>...</td>\n",
       "      <td>...</td>\n",
       "      <td>...</td>\n",
       "    </tr>\n",
       "    <tr>\n",
       "      <th>660674</th>\n",
       "      <td>201091NM01760</td>\n",
       "      <td>Slight</td>\n",
       "      <td>18-02-2022</td>\n",
       "      <td>57.374005</td>\n",
       "      <td>Daylight</td>\n",
       "      <td>Highland</td>\n",
       "      <td>-3.467828</td>\n",
       "      <td>2</td>\n",
       "      <td>1</td>\n",
       "      <td>Dry</td>\n",
       "      <td>Single carriageway</td>\n",
       "      <td>Rural</td>\n",
       "      <td>Fine no high winds</td>\n",
       "      <td>Car</td>\n",
       "    </tr>\n",
       "    <tr>\n",
       "      <th>660675</th>\n",
       "      <td>201091NM01881</td>\n",
       "      <td>Slight</td>\n",
       "      <td>21-02-2022</td>\n",
       "      <td>57.232273</td>\n",
       "      <td>Darkness - no lighting</td>\n",
       "      <td>Highland</td>\n",
       "      <td>-3.809281</td>\n",
       "      <td>1</td>\n",
       "      <td>1</td>\n",
       "      <td>Frost or ice</td>\n",
       "      <td>Single carriageway</td>\n",
       "      <td>Rural</td>\n",
       "      <td>Fine no high winds</td>\n",
       "      <td>Car</td>\n",
       "    </tr>\n",
       "    <tr>\n",
       "      <th>660676</th>\n",
       "      <td>201091NM01935</td>\n",
       "      <td>Slight</td>\n",
       "      <td>23-02-2022</td>\n",
       "      <td>57.585044</td>\n",
       "      <td>Daylight</td>\n",
       "      <td>Highland</td>\n",
       "      <td>-3.862727</td>\n",
       "      <td>1</td>\n",
       "      <td>3</td>\n",
       "      <td>Frost or ice</td>\n",
       "      <td>Single carriageway</td>\n",
       "      <td>Rural</td>\n",
       "      <td>Fine no high winds</td>\n",
       "      <td>Car</td>\n",
       "    </tr>\n",
       "    <tr>\n",
       "      <th>660677</th>\n",
       "      <td>201091NM01964</td>\n",
       "      <td>Serious</td>\n",
       "      <td>23-02-2022</td>\n",
       "      <td>57.214898</td>\n",
       "      <td>Darkness - no lighting</td>\n",
       "      <td>Highland</td>\n",
       "      <td>-3.823997</td>\n",
       "      <td>1</td>\n",
       "      <td>2</td>\n",
       "      <td>Wet or damp</td>\n",
       "      <td>Single carriageway</td>\n",
       "      <td>Rural</td>\n",
       "      <td>Fine no high winds</td>\n",
       "      <td>Motorcycle over 500cc</td>\n",
       "    </tr>\n",
       "    <tr>\n",
       "      <th>660678</th>\n",
       "      <td>201091NM02142</td>\n",
       "      <td>Serious</td>\n",
       "      <td>28-02-2022</td>\n",
       "      <td>57.575210</td>\n",
       "      <td>Daylight</td>\n",
       "      <td>Highland</td>\n",
       "      <td>-3.895673</td>\n",
       "      <td>1</td>\n",
       "      <td>1</td>\n",
       "      <td>Wet or damp</td>\n",
       "      <td>Dual carriageway</td>\n",
       "      <td>Rural</td>\n",
       "      <td>Snowing no high winds</td>\n",
       "      <td>Car</td>\n",
       "    </tr>\n",
       "  </tbody>\n",
       "</table>\n",
       "<p>660679 rows × 14 columns</p>\n",
       "</div>"
      ],
      "text/plain": [
       "                Index Accident_Severity Accident Date   Latitude  \\\n",
       "0       200701BS64157           Serious      5/6/2019  51.506187   \n",
       "1       200701BS65737           Serious      2/7/2019  51.495029   \n",
       "2       200701BS66127           Serious    26-08-2019  51.517715   \n",
       "3       200701BS66128           Serious    16-08-2019  51.495478   \n",
       "4       200701BS66837            Slight      3/9/2019  51.488576   \n",
       "...               ...               ...           ...        ...   \n",
       "660674  201091NM01760            Slight    18-02-2022  57.374005   \n",
       "660675  201091NM01881            Slight    21-02-2022  57.232273   \n",
       "660676  201091NM01935            Slight    23-02-2022  57.585044   \n",
       "660677  201091NM01964           Serious    23-02-2022  57.214898   \n",
       "660678  201091NM02142           Serious    28-02-2022  57.575210   \n",
       "\n",
       "                   Light_Conditions           District Area  Longitude  \\\n",
       "0             Darkness - lights lit  Kensington and Chelsea  -0.209082   \n",
       "1                          Daylight  Kensington and Chelsea  -0.173647   \n",
       "2       Darkness - lighting unknown  Kensington and Chelsea  -0.210215   \n",
       "3                          Daylight  Kensington and Chelsea  -0.202731   \n",
       "4             Darkness - lights lit  Kensington and Chelsea  -0.192487   \n",
       "...                             ...                     ...        ...   \n",
       "660674                     Daylight                Highland  -3.467828   \n",
       "660675       Darkness - no lighting                Highland  -3.809281   \n",
       "660676                     Daylight                Highland  -3.862727   \n",
       "660677       Darkness - no lighting                Highland  -3.823997   \n",
       "660678                     Daylight                Highland  -3.895673   \n",
       "\n",
       "        Number_of_Casualties  Number_of_Vehicles Road_Surface_Conditions  \\\n",
       "0                          1                   2                     Dry   \n",
       "1                          1                   2             Wet or damp   \n",
       "2                          1                   3                     Dry   \n",
       "3                          1                   4                     Dry   \n",
       "4                          1                   2                     Dry   \n",
       "...                      ...                 ...                     ...   \n",
       "660674                     2                   1                     Dry   \n",
       "660675                     1                   1            Frost or ice   \n",
       "660676                     1                   3            Frost or ice   \n",
       "660677                     1                   2             Wet or damp   \n",
       "660678                     1                   1             Wet or damp   \n",
       "\n",
       "                 Road_Type Urban_or_Rural_Area     Weather_Conditions  \\\n",
       "0       Single carriageway               Urban     Fine no high winds   \n",
       "1       Single carriageway               Urban  Raining no high winds   \n",
       "2                      NaN               Urban                    NaN   \n",
       "3       Single carriageway               Urban     Fine no high winds   \n",
       "4                      NaN               Urban                    NaN   \n",
       "...                    ...                 ...                    ...   \n",
       "660674  Single carriageway               Rural     Fine no high winds   \n",
       "660675  Single carriageway               Rural     Fine no high winds   \n",
       "660676  Single carriageway               Rural     Fine no high winds   \n",
       "660677  Single carriageway               Rural     Fine no high winds   \n",
       "660678    Dual carriageway               Rural  Snowing no high winds   \n",
       "\n",
       "                                Vehicle_Type  \n",
       "0                                        Car  \n",
       "1                                        Car  \n",
       "2                      Taxi/Private hire car  \n",
       "3       Bus or coach (17 or more pass seats)  \n",
       "4                              Other vehicle  \n",
       "...                                      ...  \n",
       "660674                                   Car  \n",
       "660675                                   Car  \n",
       "660676                                   Car  \n",
       "660677                 Motorcycle over 500cc  \n",
       "660678                                   Car  \n",
       "\n",
       "[660679 rows x 14 columns]"
      ]
     },
     "execution_count": 2,
     "metadata": {},
     "output_type": "execute_result"
    }
   ],
   "source": [
    "data"
   ]
  },
  {
   "cell_type": "code",
   "execution_count": 3,
   "id": "839388a8-3d8c-4e0d-aef5-1315d8fca706",
   "metadata": {},
   "outputs": [
    {
     "name": "stdout",
     "output_type": "stream",
     "text": [
      "<class 'pandas.core.frame.DataFrame'>\n",
      "RangeIndex: 660679 entries, 0 to 660678\n",
      "Data columns (total 14 columns):\n",
      " #   Column                   Non-Null Count   Dtype  \n",
      "---  ------                   --------------   -----  \n",
      " 0   Index                    660679 non-null  object \n",
      " 1   Accident_Severity        660679 non-null  object \n",
      " 2   Accident Date            660679 non-null  object \n",
      " 3   Latitude                 660654 non-null  float64\n",
      " 4   Light_Conditions         660679 non-null  object \n",
      " 5   District Area            660679 non-null  object \n",
      " 6   Longitude                660653 non-null  float64\n",
      " 7   Number_of_Casualties     660679 non-null  int64  \n",
      " 8   Number_of_Vehicles       660679 non-null  int64  \n",
      " 9   Road_Surface_Conditions  659953 non-null  object \n",
      " 10  Road_Type                656159 non-null  object \n",
      " 11  Urban_or_Rural_Area      660664 non-null  object \n",
      " 12  Weather_Conditions       646551 non-null  object \n",
      " 13  Vehicle_Type             660679 non-null  object \n",
      "dtypes: float64(2), int64(2), object(10)\n",
      "memory usage: 70.6+ MB\n"
     ]
    }
   ],
   "source": [
    "data.info()"
   ]
  },
  {
   "cell_type": "code",
   "execution_count": 4,
   "id": "4da7fc0f-1561-4a64-aa0f-13b1a33d564d",
   "metadata": {},
   "outputs": [
    {
     "data": {
      "text/plain": [
       "Index                          0\n",
       "Accident_Severity              0\n",
       "Accident Date                  0\n",
       "Latitude                      25\n",
       "Light_Conditions               0\n",
       "District Area                  0\n",
       "Longitude                     26\n",
       "Number_of_Casualties           0\n",
       "Number_of_Vehicles             0\n",
       "Road_Surface_Conditions      726\n",
       "Road_Type                   4520\n",
       "Urban_or_Rural_Area           15\n",
       "Weather_Conditions         14128\n",
       "Vehicle_Type                   0\n",
       "dtype: int64"
      ]
     },
     "execution_count": 4,
     "metadata": {},
     "output_type": "execute_result"
    }
   ],
   "source": [
    "data.isnull().sum()"
   ]
  },
  {
   "cell_type": "code",
   "execution_count": 5,
   "id": "ea793195-3eae-4926-a9c2-d27beca894b7",
   "metadata": {},
   "outputs": [
    {
     "data": {
      "text/plain": [
       "Index                           0\n",
       "Accident_Severity               0\n",
       "Accident Date              395672\n",
       "Latitude                       25\n",
       "Light_Conditions                0\n",
       "District Area                   0\n",
       "Longitude                      26\n",
       "Number_of_Casualties            0\n",
       "Number_of_Vehicles              0\n",
       "Road_Surface_Conditions       726\n",
       "Road_Type                    4520\n",
       "Urban_or_Rural_Area            15\n",
       "Weather_Conditions          14128\n",
       "Vehicle_Type                    0\n",
       "dtype: int64"
      ]
     },
     "execution_count": 5,
     "metadata": {},
     "output_type": "execute_result"
    }
   ],
   "source": [
    "data['Accident Date'] = pd.to_datetime(data['Accident Date'], dayfirst = True, errors = 'coerce')\n",
    "\n",
    "data.isnull().sum()"
   ]
  },
  {
   "cell_type": "code",
   "execution_count": 6,
   "id": "6636ddcb-e2f7-46aa-9fd8-ed54e36642ed",
   "metadata": {},
   "outputs": [
    {
     "data": {
      "text/plain": [
       "Index                           0\n",
       "Accident_Severity               0\n",
       "Accident Date              395672\n",
       "Latitude                       25\n",
       "Light_Conditions                0\n",
       "District Area                   0\n",
       "Longitude                      26\n",
       "Number_of_Casualties            0\n",
       "Number_of_Vehicles              0\n",
       "Road_Surface_Conditions       726\n",
       "Road_Type                    4520\n",
       "Urban_or_Rural_Area            15\n",
       "Weather_Conditions          14128\n",
       "Vehicle_Type                    0\n",
       "Year                       395672\n",
       "Month                      395672\n",
       "Day                        395672\n",
       "DayOfWeek                  395672\n",
       "dtype: int64"
      ]
     },
     "execution_count": 6,
     "metadata": {},
     "output_type": "execute_result"
    }
   ],
   "source": [
    "data['Year'] = data['Accident Date'].dt.year\n",
    "data['Month'] = data['Accident Date'].dt.month\n",
    "data['Day'] = data['Accident Date'].dt.day\n",
    "data['DayOfWeek'] = data['Accident Date'].dt.dayofweek\n",
    "data.isnull().sum()"
   ]
  },
  {
   "cell_type": "code",
   "execution_count": 7,
   "id": "9bbfbb91-eca9-436b-a3c4-cced02eee171",
   "metadata": {},
   "outputs": [
    {
     "data": {
      "text/plain": [
       "Index                      0\n",
       "Accident_Severity          0\n",
       "Accident Date              0\n",
       "Latitude                   0\n",
       "Light_Conditions           0\n",
       "District Area              0\n",
       "Longitude                  0\n",
       "Number_of_Casualties       0\n",
       "Number_of_Vehicles         0\n",
       "Road_Surface_Conditions    0\n",
       "Road_Type                  0\n",
       "Urban_or_Rural_Area        0\n",
       "Weather_Conditions         0\n",
       "Vehicle_Type               0\n",
       "Year                       0\n",
       "Month                      0\n",
       "Day                        0\n",
       "DayOfWeek                  0\n",
       "dtype: int64"
      ]
     },
     "execution_count": 7,
     "metadata": {},
     "output_type": "execute_result"
    }
   ],
   "source": [
    "data['Accident Date'] = data['Accident Date'].fillna('Unaccounted')\n",
    "data['Year'] = data['Year'].fillna(data['Year'].mode()[0])\n",
    "data['Day'] = data['Day'].fillna(data['Day'].mode()[0])\n",
    "data['Month'] = data['Month'].fillna(data['Month'].mode()[0])\n",
    "data['DayOfWeek'] = data['DayOfWeek'].fillna(data['DayOfWeek'].mode()[0])\n",
    "data['Latitude'] = data['Latitude'].fillna(data['Latitude'].mean())\n",
    "data['Longitude'] = data['Longitude'].fillna(data['Longitude'].mean())\n",
    "data['Road_Surface_Conditions'] = data['Road_Surface_Conditions'].fillna(data['Road_Surface_Conditions'].mode()[0])\n",
    "data['Road_Type'] = data['Road_Type'].fillna(data['Road_Type'].mode()[0])\n",
    "data['Urban_or_Rural_Area'] = data['Urban_or_Rural_Area'].fillna(data['Urban_or_Rural_Area'].mode()[0])\n",
    "data['Weather_Conditions'] = data['Weather_Conditions'].fillna('Unaccounted')\n",
    "\n",
    "\n",
    "data.isnull().sum()"
   ]
  },
  {
   "cell_type": "markdown",
   "id": "02a4e2e9-78e4-4da8-9e1d-f5c14e069c02",
   "metadata": {},
   "source": [
    "<h1>Questions</h1>"
   ]
  },
  {
   "cell_type": "markdown",
   "id": "dbbb6366-4dfb-43c4-b2e5-f03367d5ec1e",
   "metadata": {},
   "source": [
    "<h1>1.How many Fatal Accidents has happened in Aberdeen City?</h1>"
   ]
  },
  {
   "cell_type": "code",
   "execution_count": 8,
   "id": "af2f9f0d-1a14-46ff-8edc-d550320513de",
   "metadata": {},
   "outputs": [
    {
     "name": "stdout",
     "output_type": "stream",
     "text": [
      "12\n"
     ]
    }
   ],
   "source": [
    "fatal = data['Accident_Severity'] == 'Fatal'\n",
    "Aberdeen = data['District Area'] == 'Aberdeen City'\n",
    "f_c_count = (fatal & Aberdeen).sum()\n",
    "print(f_c_count)"
   ]
  },
  {
   "cell_type": "markdown",
   "id": "685c985f-168c-4f5e-8613-67150b4d63d3",
   "metadata": {},
   "source": [
    "<h1>Insight:</h1>\n",
    "<h2>There have been 12 fatal accidents in Aberdeen City.</h2>\n",
    "\n"
   ]
  },
  {
   "cell_type": "markdown",
   "id": "93d8eeea-7eff-4a6a-8265-1c3819f4bc03",
   "metadata": {},
   "source": [
    "<h1>2. Which District area has the most Fatal Accidents?</h1>"
   ]
  },
  {
   "cell_type": "code",
   "execution_count": 9,
   "id": "bafd35c1-bfcb-4edd-b7bd-dfe503751303",
   "metadata": {},
   "outputs": [
    {
     "name": "stdout",
     "output_type": "stream",
     "text": [
      "Birmingham\n",
      "105\n"
     ]
    }
   ],
   "source": [
    "fatal = data['Accident_Severity'] == 'Fatal'\n",
    "fatal_counts = data[fatal]['District Area'].value_counts()\n",
    "top_district = fatal_counts.index[0]\n",
    "top_count = fatal_counts.values[0]\n",
    "print(top_district)\n",
    "print(top_count)"
   ]
  },
  {
   "cell_type": "markdown",
   "id": "30970df9-51dc-4960-b057-7a056e86e33d",
   "metadata": {},
   "source": [
    "<h1>Insight:</h1>\n",
    "<h2>Birmingham has the highest number of fatal accidents with 105 cases.</h2>\n"
   ]
  },
  {
   "cell_type": "markdown",
   "id": "aad1b1c3-71aa-4440-a6d4-4d007b5c12e3",
   "metadata": {},
   "source": [
    "<h1>3. How many district are in this dataset?</h1>"
   ]
  },
  {
   "cell_type": "code",
   "execution_count": 10,
   "id": "8eb2b809-354e-47fd-ac39-a4e8af6a2396",
   "metadata": {},
   "outputs": [
    {
     "data": {
      "text/plain": [
       "np.int64(422)"
      ]
     },
     "execution_count": 10,
     "metadata": {},
     "output_type": "execute_result"
    }
   ],
   "source": [
    "data['District Area'].value_counts().count()\n"
   ]
  },
  {
   "cell_type": "markdown",
   "id": "b6e15967-48a6-40d9-b484-9b290b495579",
   "metadata": {},
   "source": [
    "<h1>Insight:</h1>\n",
    "<h2>There are 422 districts included in this dataset.</h2>\n"
   ]
  },
  {
   "cell_type": "markdown",
   "id": "d2140869-755a-4759-9e91-02b1041785a9",
   "metadata": {},
   "source": [
    "<h1>4. What road type has the most accidents?</h1>"
   ]
  },
  {
   "cell_type": "code",
   "execution_count": 11,
   "id": "ccda00d2-29ad-420e-ba68-384d425f7338",
   "metadata": {},
   "outputs": [
    {
     "data": {
      "text/plain": [
       "Road_Type\n",
       "Single carriageway    496663\n",
       "Dual carriageway       99424\n",
       "Roundabout             43992\n",
       "One way street         13559\n",
       "Slip road               7041\n",
       "Name: count, dtype: int64"
      ]
     },
     "execution_count": 11,
     "metadata": {},
     "output_type": "execute_result"
    }
   ],
   "source": [
    "data['Road_Type'].value_counts()"
   ]
  },
  {
   "cell_type": "markdown",
   "id": "50e8d0a4-354a-403b-8a3e-0261b3868514",
   "metadata": {},
   "source": [
    "<h1>Insight:</h1>\n",
    "<h2>Single carriageway has the most accidents with 496,663 cases, making it the most common road type for accidents.</h2>\n",
    "<h2>Dual carriageway is a distant second with 99,424 accidents, showing a much lower rate than single carriageways.</h2>\n",
    "<h2>Slip roads have the fewest accidents at only 7,041 cases, indicating they are relatively safer compared to other road types.</h2>\n"
   ]
  },
  {
   "cell_type": "markdown",
   "id": "7e6e075a-2540-4343-955f-910cd7e77f4d",
   "metadata": {},
   "source": [
    "<h1>5. In the rural, how many fatalities are in the data?</h1>"
   ]
  },
  {
   "cell_type": "code",
   "execution_count": 12,
   "id": "358246c6-b077-4990-add1-2deb59860895",
   "metadata": {},
   "outputs": [
    {
     "name": "stdout",
     "output_type": "stream",
     "text": [
      "5601\n"
     ]
    }
   ],
   "source": [
    "rural = data['Urban_or_Rural_Area'] == 'Rural'\n",
    "fatal = data['Accident_Severity'] == 'Fatal'\n",
    "r_f = (rural & fatal).sum()\n",
    "print(r_f)"
   ]
  },
  {
   "cell_type": "markdown",
   "id": "5cf6aea8-0e1c-444b-ac0d-abc42845ff67",
   "metadata": {},
   "source": [
    "<h1>6. Which vehicle has the highest fatalities?</h1>"
   ]
  },
  {
   "cell_type": "code",
   "execution_count": 13,
   "id": "5cb73b33-7072-41bd-8b38-5c3e33684a2c",
   "metadata": {},
   "outputs": [
    {
     "name": "stdout",
     "output_type": "stream",
     "text": [
      "Car\n",
      "6577\n"
     ]
    }
   ],
   "source": [
    "fatal = data['Accident_Severity'] == 'Fatal'\n",
    "fatal_vehicle = data[fatal]['Vehicle_Type'].value_counts()\n",
    "top_vehicle = fatal_vehicle.index[0]\n",
    "top_counter = fatal_vehicle.values[0]\n",
    "print(top_vehicle)\n",
    "print(top_counter)"
   ]
  },
  {
   "cell_type": "markdown",
   "id": "35576f0e-bffb-4dfd-aec5-71d48026d3c6",
   "metadata": {},
   "source": [
    "<h1>Insight:</h1>\n",
    "<h2>In rural areas, cars account for 6,577 fatal accidents, making them the most common vehicle type involved in rural fatalities.</h2>\n"
   ]
  },
  {
   "cell_type": "markdown",
   "id": "33438808-6ec3-4d82-a474-b957b9656eea",
   "metadata": {},
   "source": [
    "<h1>7. In Aberdeen, how many serious injury has happened during the year 2019?</h1>"
   ]
  },
  {
   "cell_type": "code",
   "execution_count": 14,
   "id": "a46b6da0-8ac8-4eff-9ffe-adeb2a453309",
   "metadata": {},
   "outputs": [
    {
     "name": "stdout",
     "output_type": "stream",
     "text": [
      "162\n"
     ]
    }
   ],
   "source": [
    "london = data['District Area'] ==  'London City'\n",
    "serious = data['Accident_Severity'] == 'Serious'\n",
    "year_2019 = data['Year'] == 2019\n",
    "l_S_2019 = (year_2019 & serious & Aberdeen).sum()\n",
    "print(l_S_2019)\n"
   ]
  },
  {
   "cell_type": "markdown",
   "id": "a04e9649-bf51-4dbc-9ce8-9086ee63708a",
   "metadata": {},
   "source": [
    "<h1>Insight:</h1>\n",
    "<h2>In 2019, Aberdeen recorded 162 serious injury accidents, highlighting a significant safety concern for that year.</h2>\n"
   ]
  },
  {
   "cell_type": "markdown",
   "id": "c3221323-086b-441a-a9a4-51b6de3c9e1e",
   "metadata": {},
   "source": [
    "<h1>8.How many accidents had happened in daylight?</h1>"
   ]
  },
  {
   "cell_type": "code",
   "execution_count": 15,
   "id": "9cc7eaa9-ca7f-44c1-b7a9-769127b16be1",
   "metadata": {},
   "outputs": [
    {
     "data": {
      "text/plain": [
       "np.int64(484880)"
      ]
     },
     "execution_count": 15,
     "metadata": {},
     "output_type": "execute_result"
    }
   ],
   "source": [
    "(data['Light_Conditions'] == 'Daylight').sum()"
   ]
  },
  {
   "cell_type": "markdown",
   "id": "d3459b7d-a6fa-415c-ba4c-0f198b90abdf",
   "metadata": {},
   "source": [
    "<h1>Insight:</h1>\n",
    "<h2>There were 484,880 accidents that happened during daylight, showing that most accidents occur in well-lit conditions rather than at night.</h2>\n"
   ]
  },
  {
   "cell_type": "markdown",
   "id": "9d1973f7-7c06-4ec1-9327-6ae67d17e19e",
   "metadata": {},
   "source": [
    "<h1>9.How many car accidents had happened in the year 2019?</h1>"
   ]
  },
  {
   "cell_type": "code",
   "execution_count": 16,
   "id": "54ff4f3a-d013-4082-91bf-ff24a698812c",
   "metadata": {},
   "outputs": [
    {
     "name": "stdout",
     "output_type": "stream",
     "text": [
      "349931\n"
     ]
    }
   ],
   "source": [
    "car = data['Vehicle_Type'] == 'Car'\n",
    "c_2019 = (year_2019 & car).sum()\n",
    "print(c_2019)"
   ]
  },
  {
   "cell_type": "markdown",
   "id": "945b1eea-792c-48e8-82ff-e0adb3bc62c6",
   "metadata": {},
   "source": [
    "<h1>Insight:</h1>\n",
    "<h2>There were 349,931 car accidents recorded in the year 2019, showing that cars are a major contributor to overall road accidents that year.</h2>\n"
   ]
  },
  {
   "cell_type": "markdown",
   "id": "a932b952-d10c-4bd6-b339-b228443d5245",
   "metadata": {},
   "source": [
    "<h1>10.How many taxi or private car has been in the accidents in the data set</h1>"
   ]
  },
  {
   "cell_type": "code",
   "execution_count": 17,
   "id": "25d8f5fa-a24e-4e7f-8572-a67cfd62680e",
   "metadata": {},
   "outputs": [
    {
     "data": {
      "text/plain": [
       "np.int64(13294)"
      ]
     },
     "execution_count": 17,
     "metadata": {},
     "output_type": "execute_result"
    }
   ],
   "source": [
    "(data['Vehicle_Type'] =='Taxi/Private hire car').sum()"
   ]
  },
  {
   "cell_type": "markdown",
   "id": "070c7aba-be2a-4df4-9c2e-6ab87e91015f",
   "metadata": {},
   "source": [
    "<h1>Insight:</h1>\n",
    "<h2>There were 13,294 accidents involving taxis or private hire cars, highlighting their notable presence in road incidents.</h2>\n"
   ]
  },
  {
   "cell_type": "markdown",
   "id": "ead10d19-ae27-4019-9c4c-555c1f8206d4",
   "metadata": {},
   "source": [
    "<h1>11. What is the overall average number of vehicles involved in accidents?</h1>"
   ]
  },
  {
   "cell_type": "code",
   "execution_count": 18,
   "id": "66951978-b91b-4802-b525-07f82badcdea",
   "metadata": {},
   "outputs": [
    {
     "data": {
      "text/plain": [
       "np.int64(16)"
      ]
     },
     "execution_count": 18,
     "metadata": {},
     "output_type": "execute_result"
    }
   ],
   "source": [
    "all_vehicle = data['Vehicle_Type'].value_counts().count()\n",
    "all_vehicle"
   ]
  },
  {
   "cell_type": "markdown",
   "id": "e77db02b-12df-473d-9a2c-aae61070b2a2",
   "metadata": {},
   "source": [
    "<h1>Insight:</h1>\n",
    "<h2>The overall average number of vehicles involved in accidents is 16, showing that most accidents typically involve multiple vehicles.</h2>\n"
   ]
  },
  {
   "cell_type": "markdown",
   "id": "4a01ee15-bcc6-4e85-b2c9-a638808ee0ac",
   "metadata": {},
   "source": [
    "<h1>12. How many accidents were classified as Fatal, Serious, and Slight?</h1>"
   ]
  },
  {
   "cell_type": "code",
   "execution_count": 19,
   "id": "7a9631de-8c3c-4418-8009-f9e888d62356",
   "metadata": {},
   "outputs": [
    {
     "name": "stdout",
     "output_type": "stream",
     "text": [
      "Fatal = 8661\n",
      "Serious = 88217\n",
      "Slight = 563801\n"
     ]
    }
   ],
   "source": [
    "slight = data['Accident_Severity'] == 'Slight'\n",
    "print(\"Fatal =\" , fatal.sum())\n",
    "print(\"Serious =\" , serious.sum())\n",
    "print(\"Slight =\" ,slight.sum())"
   ]
  },
  {
   "cell_type": "markdown",
   "id": "14c66897-cc1b-43e1-b76b-084bba01b883",
   "metadata": {},
   "source": [
    "<h1>Insight:</h1>\n",
    "<h2>There were 8,661 accidents classified as Fatal, which is the least common severity level.</h2>\n",
    "<h2>Serious accidents numbered 88,217, indicating a significant portion of high-impact crashes.</h2>\n",
    "<h2>Slight accidents were the most frequent with 563,801 cases, showing that most reported accidents result in minor injuries.</h2>\n"
   ]
  },
  {
   "cell_type": "markdown",
   "id": "298a56b0-4b73-49bd-9aed-8df880f9977f",
   "metadata": {},
   "source": [
    "<h1>13. Which vehicle has the most fatalities?</h1>"
   ]
  },
  {
   "cell_type": "code",
   "execution_count": 20,
   "id": "5b6e9a41-e6a6-4eb1-abf7-ef20214bcd91",
   "metadata": {},
   "outputs": [
    {
     "data": {
      "image/png": "[encoded data removed]",
      "text/plain": [
       "<Figure size 1000x500 with 1 Axes>"
      ]
     },
     "metadata": {},
     "output_type": "display_data"
    }
   ],
   "source": [
    "fatal_data = data[data['Accident_Severity'] == 'Fatal']\n",
    "\n",
    "# Group by vehicle type and count how many fatal accidents each has\n",
    "fatalities_by_vehicle = fatal_data['Vehicle_Type'].value_counts()\n",
    "\n",
    "# Plot\n",
    "fatalities_by_vehicle.plot(kind='bar', figsize=(10,5))\n",
    "\n",
    "plt.title(\"Fatal Accidents by Vehicle Type\")\n",
    "plt.xlabel(\"Vehicle Type\")\n",
    "plt.ylabel(\"Number of Fatal Accidents\")\n",
    "plt.show()"
   ]
  },
  {
   "cell_type": "markdown",
   "id": "c3a30418-e7ae-43c6-aabb-f96363348ca5",
   "metadata": {},
   "source": [
    "<h1>Insight:</h1>\n",
    "<h2>Car has the highest number of fatal accidents, making it the most involved vehicle type in fatal crashes.</h2>\n"
   ]
  },
  {
   "cell_type": "markdown",
   "id": "3bd55b53-d5c3-49f0-b6f4-e49acdedb0df",
   "metadata": {},
   "source": [
    "<h1>14. Which road surface condition has the most accidents?</h1>"
   ]
  },
  {
   "cell_type": "code",
   "execution_count": 21,
   "id": "aada9e9a-39b9-4cb2-bfae-28baf6347733",
   "metadata": {},
   "outputs": [
    {
     "data": {
      "text/plain": [
       "array(['Dry', 'Wet or damp', 'Snow', 'Frost or ice',\n",
       "       'Flood over 3cm. deep'], dtype=object)"
      ]
     },
     "execution_count": 21,
     "metadata": {},
     "output_type": "execute_result"
    }
   ],
   "source": [
    "data['Road_Surface_Conditions'].unique()"
   ]
  },
  {
   "cell_type": "code",
   "execution_count": 22,
   "id": "61610f27-35f8-431e-b9c6-775ebac02c4e",
   "metadata": {},
   "outputs": [
    {
     "name": "stdout",
     "output_type": "stream",
     "text": [
      "Dry =  448547\n",
      "Wet or damp =  186708\n",
      "Snow =  5890\n",
      "Frost or ice =  18517\n",
      "Flood over 3cm. deep =  1017\n"
     ]
    }
   ],
   "source": [
    "dry = data['Road_Surface_Conditions'] == 'Dry'\n",
    "wet_d= data['Road_Surface_Conditions'] == 'Wet or damp'\n",
    "snow = data['Road_Surface_Conditions'] == 'Snow'\n",
    "frost_ice = data['Road_Surface_Conditions'] == 'Frost or ice'\n",
    "flood = data['Road_Surface_Conditions'] == 'Flood over 3cm. deep'\n",
    "\n",
    "print(\"Dry = \",dry.sum())\n",
    "print(\"Wet or damp = \",wet_d.sum())\n",
    "print(\"Snow = \",snow.sum())\n",
    "print(\"Frost or ice = \",frost_ice.sum())\n",
    "print(\"Flood over 3cm. deep = \",flood.sum())"
   ]
  },
  {
   "cell_type": "markdown",
   "id": "fa0d2604-bbd5-4c36-a071-82f7ea26e6cb",
   "metadata": {},
   "source": [
    "<h1>Insight:</h1>\n",
    "<h2>Dry road surfaces have the most accidents with 448,547 cases, showing that most crashes occur in normal driving conditions.</h2>\n",
    "<h2>Flooded roads have the fewest accidents at only 1,017 cases, likely because drivers avoid these roads during hazardous conditions.</h2>\n"
   ]
  },
  {
   "cell_type": "markdown",
   "id": "607b85ff-69b9-406c-a783-9bf9043884e4",
   "metadata": {},
   "source": [
    "<h1>15. Which road type (single carriageway, dual carriageway, etc.) has the most accidents?</h1>"
   ]
  },
  {
   "cell_type": "code",
   "execution_count": 23,
   "id": "9a8a232f-c5c1-44ac-a594-ecb2d19e3f9b",
   "metadata": {},
   "outputs": [
    {
     "data": {
      "text/plain": [
       "array(['Single carriageway', 'Dual carriageway', 'One way street',\n",
       "       'Roundabout', 'Slip road'], dtype=object)"
      ]
     },
     "execution_count": 23,
     "metadata": {},
     "output_type": "execute_result"
    }
   ],
   "source": [
    "data['Road_Type'].unique()"
   ]
  },
  {
   "cell_type": "code",
   "execution_count": 24,
   "id": "cc886dc5-d9ef-4813-9560-0bbf11e31c47",
   "metadata": {},
   "outputs": [
    {
     "name": "stdout",
     "output_type": "stream",
     "text": [
      "Single carriageway =  496663\n",
      "Dual carriageway  =  99424\n",
      "One way street =  13559\n",
      "Roundabout =  43992\n",
      "Slip road =  7041\n"
     ]
    }
   ],
   "source": [
    "single_carr = data['Road_Type'] == 'Single carriageway'\n",
    "dual_carr = data['Road_Type'] == 'Dual carriageway'\n",
    "One_w_street = data['Road_Type'] == 'One way street'\n",
    "roundabout = data['Road_Type'] == 'Roundabout'\n",
    "slip_road = data['Road_Type'] == 'Slip road'\n",
    "\n",
    "print(\"Single carriageway = \",single_carr.sum())\n",
    "print(\"Dual carriageway  = \",dual_carr.sum())\n",
    "print(\"One way street = \",One_w_street.sum())\n",
    "print(\"Roundabout = \",roundabout.sum())\n",
    "print(\"Slip road = \",slip_road.sum())"
   ]
  },
  {
   "cell_type": "markdown",
   "id": "a753e967-877a-42c7-80ae-7eed09161383",
   "metadata": {},
   "source": [
    "<h1>Insight:</h1>\n",
    "<h2>Single carriageways have the highest number of accidents with 496,663 cases, making them the most accident-prone road type.</h2>\n",
    "<h2>Slip roads have the fewest accidents at only 7,041 cases, showing they are relatively safer compared to other road types.</h2>\n"
   ]
  },
  {
   "cell_type": "markdown",
   "id": "f3c54ac1-cf16-4bb9-975c-86352ec0f369",
   "metadata": {},
   "source": [
    "<h1>16.In which year did most accidents occur? </h1>"
   ]
  },
  {
   "cell_type": "code",
   "execution_count": 25,
   "id": "5538d22f-b609-4fd4-8e0e-463b4ca70a46",
   "metadata": {},
   "outputs": [
    {
     "data": {
      "text/plain": [
       "array([2019., 2020., 2021., 2022.])"
      ]
     },
     "execution_count": 25,
     "metadata": {},
     "output_type": "execute_result"
    }
   ],
   "source": [
    "data['Year'].unique()"
   ]
  },
  {
   "cell_type": "code",
   "execution_count": 26,
   "id": "f9fec2af-2418-4a2d-bfbc-87474cbb66c7",
   "metadata": {},
   "outputs": [
    {
     "name": "stdout",
     "output_type": "stream",
     "text": [
      "Year 2019 = 467539\n",
      "Year 2020 = 70163\n",
      "Year 2021 = 66172\n",
      "Year 2022 = 56805\n"
     ]
    }
   ],
   "source": [
    "y_2019 = data['Year'] == 2019\n",
    "y_2020 = data['Year'] == 2020\n",
    "y_2021 = data['Year'] == 2021\n",
    "y_2022 = data['Year'] == 2022\n",
    "\n",
    "print(\"Year 2019 =\", y_2019.sum())\n",
    "print(\"Year 2020 =\", y_2020.sum())\n",
    "print(\"Year 2021 =\", y_2021.sum())\n",
    "print(\"Year 2022 =\", y_2022.sum())"
   ]
  },
  {
   "cell_type": "markdown",
   "id": "c784b933-74ad-448d-9a01-e511e00af065",
   "metadata": {},
   "source": [
    "<h1>Insight:</h1>\n",
    "<h2>The year 2019 had the highest number of accidents with 467,539 cases, significantly higher than the following years.</h2>\n",
    "<h2>Accidents steadily decreased from 2020 to 2022, which may indicate improved road safety or reduced travel during these years.</h2>\n"
   ]
  },
  {
   "cell_type": "markdown",
   "id": "87900792-a728-40de-864c-4af29dbe2b7d",
   "metadata": {},
   "source": [
    "<h1>17. Is there a correlation between number of vehicles and number of casualties</h1>"
   ]
  },
  {
   "cell_type": "code",
   "execution_count": 27,
   "id": "e695a279-c008-4f97-8e47-ba9e2b49c617",
   "metadata": {},
   "outputs": [
    {
     "data": {
      "text/plain": [
       "np.float64(0.22888886126927557)"
      ]
     },
     "execution_count": 27,
     "metadata": {},
     "output_type": "execute_result"
    }
   ],
   "source": [
    "data['Number_of_Vehicles'].corr(data['Number_of_Casualties'])"
   ]
  },
  {
   "cell_type": "markdown",
   "id": "02dd458a-0c53-473b-a73b-ee001757880e",
   "metadata": {},
   "source": [
    "<h1>Insight:</h1>  \n",
    "<h2>There is a weak positive correlation (0.23) between the number of vehicles and the number of casualties, meaning more vehicles slightly increase the chance of more people getting hurt.</h2>  \n",
    "<h2>This suggests that multi-vehicle accidents tend to involve more casualties, but the relationship is not very strong.</h2>"
   ]
  },
  {
   "cell_type": "markdown",
   "id": "9941b61e-e5ba-4331-aa56-6cfe02a99e70",
   "metadata": {},
   "source": [
    "<h1>18. How many car accidents happened during rainy weather in Aberdeen on the year 2020?</h1>"
   ]
  },
  {
   "cell_type": "code",
   "execution_count": 28,
   "id": "db33081f-3a28-4c73-a698-8cae111d9f43",
   "metadata": {},
   "outputs": [
    {
     "data": {
      "text/plain": [
       "array(['Fine no high winds', 'Raining no high winds', 'Unaccounted',\n",
       "       'Other', 'Fine + high winds', 'Raining + high winds',\n",
       "       'Snowing no high winds', 'Fog or mist', 'Snowing + high winds'],\n",
       "      dtype=object)"
      ]
     },
     "execution_count": 28,
     "metadata": {},
     "output_type": "execute_result"
    }
   ],
   "source": [
    "data['Weather_Conditions'].unique()"
   ]
  },
  {
   "cell_type": "code",
   "execution_count": 29,
   "id": "fd73a461-b557-4083-9e8f-f1b8ba24fdd3",
   "metadata": {},
   "outputs": [
    {
     "name": "stdout",
     "output_type": "stream",
     "text": [
      "Rain and no wind = 23\n",
      "Rain and wind = 5\n"
     ]
    }
   ],
   "source": [
    "raining = data['Weather_Conditions'] == 'Raining no high winds'\n",
    "raining_wind = data['Weather_Conditions'] == 'Raining + high winds'\n",
    "\n",
    "rain = (raining & car &Aberdeen & y_2020).sum()\n",
    "rainier = (raining_wind & car & Aberdeen & y_2020).sum()\n",
    "\n",
    "print(\"Rain and no wind =\", rain)\n",
    "print(\"Rain and wind =\", rainier)"
   ]
  },
  {
   "cell_type": "markdown",
   "id": "a78451ef-4aea-4498-b184-efcff963460f",
   "metadata": {},
   "source": [
    "<h1>Insight:</h1>  \n",
    "<h2>The data show two data, a rain without wind and rain with wind accidents from the year 2020 in Aberdeen</h2>  \n"
   ]
  },
  {
   "cell_type": "markdown",
   "id": "9b1d3f70-85e2-439d-9b43-b93fa5171f47",
   "metadata": {},
   "source": [
    "<h1>19.How does the correlation between vehicles and casualties differ in urban vs rural areas?</h1>"
   ]
  },
  {
   "cell_type": "code",
   "execution_count": 30,
   "id": "9af109cc-34c3-4d16-b962-e30910a2ddf8",
   "metadata": {},
   "outputs": [
    {
     "name": "stdout",
     "output_type": "stream",
     "text": [
      "Urban correlation: 0.2176153598713953\n",
      "Rural correlation: 0.23607811844076115\n"
     ]
    }
   ],
   "source": [
    "urban_corr = data[data['Urban_or_Rural_Area'] == 'Urban']['Number_of_Vehicles'].corr(data[data['Urban_or_Rural_Area'] == 'Urban']['Number_of_Casualties'])\n",
    "rural_corr = data[data['Urban_or_Rural_Area'] == 'Rural']['Number_of_Vehicles'].corr(data[data['Urban_or_Rural_Area'] == 'Rural']['Number_of_Casualties'])\n",
    "\n",
    "print(f\"Urban correlation: {urban_corr}\")\n",
    "print(f\"Rural correlation: {rural_corr}\")"
   ]
  },
  {
   "cell_type": "markdown",
   "id": "676205dc-0e11-400d-9e94-1c3a0f57d3e5",
   "metadata": {},
   "source": [
    "<h1>Insight:</h1>  \n",
    "<h2>In both urban and rural areas, more vehicles tend to lead to more casualties, but the relationship is slightly stronger in rural areas (0.24 vs 0.22).</h2>  \n",
    "<h2>This suggests that rural accidents involving multiple vehicles may be more dangerous, possibly due to higher speeds or less immediate medical response.</h2>"
   ]
  },
  {
   "cell_type": "markdown",
   "id": "f8e889c4-3a2d-4c9b-8f5b-eb54c17d02ea",
   "metadata": {},
   "source": [
    "<h1>20. Which vehicle type is most often involved in accidents?</h1>"
   ]
  },
  {
   "cell_type": "code",
   "execution_count": 31,
   "id": "cd4fc779-8cdb-44b0-af01-480dc89fe715",
   "metadata": {},
   "outputs": [
    {
     "data": {
      "text/plain": [
       "array(['Car', 'Taxi/Private hire car',\n",
       "       'Bus or coach (17 or more pass seats)', 'Other vehicle',\n",
       "       'Van / Goods 3.5 tonnes mgw or under',\n",
       "       'Motorcycle over 125cc and up to 500cc',\n",
       "       'Goods 7.5 tonnes mgw and over', 'Motorcycle 125cc and under',\n",
       "       'Motorcycle over 500cc', 'Motorcycle 50cc and under',\n",
       "       'Minibus (8 - 16 passenger seats)',\n",
       "       'Goods over 3.5t. and under 7.5t', 'Pedal cycle',\n",
       "       'Agricultural vehicle', 'Ridden horse',\n",
       "       'Data missing or out of range'], dtype=object)"
      ]
     },
     "execution_count": 31,
     "metadata": {},
     "output_type": "execute_result"
    }
   ],
   "source": [
    "data['Vehicle_Type'].unique()"
   ]
  },
  {
   "cell_type": "code",
   "execution_count": 32,
   "id": "374154e6-79b5-468b-86f8-6d9d86781de5",
   "metadata": {},
   "outputs": [
    {
     "data": {
      "image/png": "[encoded data removed]",
      "text/plain": [
       "<Figure size 1000x500 with 1 Axes>"
      ]
     },
     "metadata": {},
     "output_type": "display_data"
    }
   ],
   "source": [
    "vehicle_counts = data['Vehicle_Type'].value_counts()\n",
    "vehicle_counts.plot(kind='bar', figsize=(10,5))\n",
    "\n",
    "plt.title(\"Number of Accidents by Vehicle Type\")\n",
    "plt.xlabel(\"Vehicle Type\")\n",
    "plt.ylabel(\"Count\")\n",
    "\n",
    "plt.show()"
   ]
  },
  {
   "cell_type": "markdown",
   "id": "221fbf83-5a3e-474c-9670-a1d61cc96b89",
   "metadata": {},
   "source": [
    "<h1>Insight:</h1>  \n",
    "<h2>Cars are the most frequently involved vehicle type in accidents, showing their dominant presence on the roads.</h2>  \n",
    "<h2>Vans rank second, indicating that light commercial vehicles also contribute significantly to road incidents.</h2>"
   ]
  },
  {
   "cell_type": "code",
   "execution_count": 33,
   "id": "6ff2f450-664a-44e1-a501-e84deba9c9e7",
   "metadata": {},
   "outputs": [
    {
     "data": {
      "text/plain": [
       "Vehicle_Type\n",
       "False    660675\n",
       "True          4\n",
       "Name: count, dtype: int64"
      ]
     },
     "execution_count": 33,
     "metadata": {},
     "output_type": "execute_result"
    }
   ],
   "source": [
    "horse = data['Vehicle_Type']== 'Ridden horse'\n",
    "horse.value_counts()"
   ]
  },
  {
   "cell_type": "markdown",
   "id": "3bfe3917-0d91-4968-84cc-5bd42d43d102",
   "metadata": {},
   "source": [
    "<h1>Insight:</h1>  \n",
    "<h2>Having this data makes me realize that it might be impossible to have a accident on a Ridden horse but data shows its low but not zero.</h2>  \n"
   ]
  },
  {
   "cell_type": "code",
   "execution_count": 34,
   "id": "6cf12b74-ae1f-4abc-8051-4315f0937e1e",
   "metadata": {},
   "outputs": [
    {
     "data": {
      "text/html": [
       "<div style=\"width:100%;\"><div style=\"position:relative;width:100%;height:0;padding-bottom:60%;\"><span style=\"color:#565656\">Make this Notebook Trusted to load map: File -> Trust Notebook</span><iframe srcdoc=\"&lt;!DOCTYPE html&gt;\n",
       "&lt;html&gt;\n",
       "&lt;head&gt;\n",
       "    \n",
       "    &lt;meta http-equiv=&quot;content-type&quot; content=&quot;text/html; charset=UTF-8&quot; /&gt;\n",
       "    &lt;script src=&quot;https://cdn.jsdelivr.net/npm/leaflet@1.9.3/dist/leaflet.js&quot;&gt;&lt;/script&gt;\n",
       "    &lt;script src=&quot;https://code.jquery.com/jquery-3.7.1.min.js&quot;&gt;&lt;/script&gt;\n",
       "    &lt;script src=&quot;https://cdn.jsdelivr.net/npm/bootstrap@5.2.2/dist/js/bootstrap.bundle.min.js&quot;&gt;&lt;/script&gt;\n",
       "    &lt;script src=&quot;https://cdnjs.cloudflare.com/ajax/libs/Leaflet.awesome-markers/2.0.2/leaflet.awesome-markers.js&quot;&gt;&lt;/script&gt;\n",
       "    &lt;link rel=&quot;stylesheet&quot; href=&quot;https://cdn.jsdelivr.net/npm/leaflet@1.9.3/dist/leaflet.css&quot;/&gt;\n",
       "    &lt;link rel=&quot;stylesheet&quot; href=&quot;https://cdn.jsdelivr.net/npm/bootstrap@5.2.2/dist/css/bootstrap.min.css&quot;/&gt;\n",
       "    &lt;link rel=&quot;stylesheet&quot; href=&quot;https://netdna.bootstrapcdn.com/bootstrap/3.0.0/css/bootstrap-glyphicons.css&quot;/&gt;\n",
       "    &lt;link rel=&quot;stylesheet&quot; href=&quot;https://cdn.jsdelivr.net/npm/@fortawesome/fontawesome-free@6.2.0/css/all.min.css&quot;/&gt;\n",
       "    &lt;link rel=&quot;stylesheet&quot; href=&quot;https://cdnjs.cloudflare.com/ajax/libs/Leaflet.awesome-markers/2.0.2/leaflet.awesome-markers.css&quot;/&gt;\n",
       "    &lt;link rel=&quot;stylesheet&quot; href=&quot;https://cdn.jsdelivr.net/gh/python-visualization/folium/folium/templates/leaflet.awesome.rotate.min.css&quot;/&gt;\n",
       "    \n",
       "            &lt;meta name=&quot;viewport&quot; content=&quot;width=device-width,\n",
       "                initial-scale=1.0, maximum-scale=1.0, user-scalable=no&quot; /&gt;\n",
       "            &lt;style&gt;\n",
       "                #map_4fcac21d90fdea28076c458c3dec73b4 {\n",
       "                    position: relative;\n",
       "                    width: 100.0%;\n",
       "                    height: 100.0%;\n",
       "                    left: 0.0%;\n",
       "                    top: 0.0%;\n",
       "                }\n",
       "                .leaflet-container { font-size: 1rem; }\n",
       "            &lt;/style&gt;\n",
       "\n",
       "            &lt;style&gt;html, body {\n",
       "                width: 100%;\n",
       "                height: 100%;\n",
       "                margin: 0;\n",
       "                padding: 0;\n",
       "            }\n",
       "            &lt;/style&gt;\n",
       "\n",
       "            &lt;style&gt;#map {\n",
       "                position:absolute;\n",
       "                top:0;\n",
       "                bottom:0;\n",
       "                right:0;\n",
       "                left:0;\n",
       "                }\n",
       "            &lt;/style&gt;\n",
       "\n",
       "            &lt;script&gt;\n",
       "                L_NO_TOUCH = false;\n",
       "                L_DISABLE_3D = false;\n",
       "            &lt;/script&gt;\n",
       "\n",
       "        \n",
       "    &lt;script src=&quot;https://cdn.jsdelivr.net/gh/python-visualization/folium@main/folium/templates/leaflet_heat.min.js&quot;&gt;&lt;/script&gt;\n",
       "&lt;/head&gt;\n",
       "&lt;body&gt;\n",
       "    \n",
       "    \n",
       "            &lt;div class=&quot;folium-map&quot; id=&quot;map_4fcac21d90fdea28076c458c3dec73b4&quot; &gt;&lt;/div&gt;\n",
       "        \n",
       "&lt;/body&gt;\n",
       "&lt;script&gt;\n",
       "    \n",
       "    \n",
       "            var map_4fcac21d90fdea28076c458c3dec73b4 = L.map(\n",
       "                &quot;map_4fcac21d90fdea28076c458c3dec73b4&quot;,\n",
       "                {\n",
       "                    center: [51.54570267858487, -0.10901672638313888],\n",
       "                    crs: L.CRS.EPSG3857,\n",
       "                    ...{\n",
       "  &quot;zoom&quot;: 10,\n",
       "  &quot;zoomControl&quot;: true,\n",
       "  &quot;preferCanvas&quot;: false,\n",
       "}\n",
       "\n",
       "                }\n",
       "            );\n",
       "\n",
       "            \n",
       "\n",
       "        \n",
       "    \n",
       "            var tile_layer_c50717574fbe9ebd7ba89409dae9dcce = L.tileLayer(\n",
       "                &quot;https://tile.openstreetmap.org/{z}/{x}/{y}.png&quot;,\n",
       "                {\n",
       "  &quot;minZoom&quot;: 0,\n",
       "  &quot;maxZoom&quot;: 19,\n",
       "  &quot;maxNativeZoom&quot;: 19,\n",
       "  &quot;noWrap&quot;: false,\n",
       "  &quot;attribution&quot;: &quot;\\u0026copy; \\u003ca href=\\&quot;https://www.openstreetmap.org/copyright\\&quot;\\u003eOpenStreetMap\\u003c/a\\u003e contributors&quot;,\n",
       "  &quot;subdomains&quot;: &quot;abc&quot;,\n",
       "  &quot;detectRetina&quot;: false,\n",
       "  &quot;tms&quot;: false,\n",
       "  &quot;opacity&quot;: 1,\n",
       "}\n",
       "\n",
       "            );\n",
       "        \n",
       "    \n",
       "            tile_layer_c50717574fbe9ebd7ba89409dae9dcce.addTo(map_4fcac21d90fdea28076c458c3dec73b4);\n",
       "        \n",
       "    \n",
       "            var heat_map_9c2a3474a0a758a0ba3df1cf7ebfe7a5 = L.heatLayer(\n",
       "                [[51.520363, -0.087443], [51.564529, -0.104781], [51.528823, -0.115635], [51.542158, -0.117248], [51.548732, -0.129092], [51.525055, -0.110601], [51.550414, -0.127436], [51.525759, -0.104085], [51.533376, -0.119196], [51.56097, -0.123973], [51.543087, -0.102355], [51.552691, -0.117967], [51.549851, -0.086928], [51.555884, -0.137742], [51.532443, -0.111449], [51.546528, -0.087212], [51.530104, -0.117024], [51.53959, -0.097453], [51.561778, -0.14082], [51.562585, -0.140643], [51.566247, -0.133423], [51.531723, -0.105855], [51.548626, -0.078037], [51.537405, -0.106917], [51.568517, -0.123518], [51.560973, -0.124117], [51.556518, -0.121127], [51.541764, -0.098372], [51.564922, -0.13492], [51.557295, -0.119075], [51.566829, -0.108004], [51.568881, -0.123791], [51.52541, -0.088097], [51.551621, -0.107337], [51.548222, -0.097381], [51.528903, -0.115055], [51.562246, -0.136328], [51.536335, -0.101915], [51.570296, -0.12229], [51.524783, -0.110468], [51.564708, -0.132765], [51.562018, -0.1108], [51.531316, -0.11409], [51.569605, -0.12405], [51.560424, -0.123563], [51.556794, -0.138427], [51.546528, -0.087212], [51.552053, -0.084095], [51.52717, -0.107918], [51.532179, -0.106269], [51.5567, -0.115637], [51.542506, -0.099783], [51.550811, -0.085157], [51.564897, -0.133334], [51.557664, -0.119637], [51.522268, -0.105094], [51.546064, -0.102952], [51.526357, -0.113286], [51.556886, -0.138567], [51.537213, -0.10058], [51.527687, -0.089876], [51.522121, -0.107119], [51.567726, -0.13596], [51.566542, -0.134998], [51.536842, -0.116602], [51.529126, -0.095438], [51.565362, -0.134325], [51.570185, -0.120996], [51.531542, -0.111342], [51.562171, -0.125943], [51.535025, -0.104276], [51.540718, -0.117163], [51.561431, -0.124675], [51.53182, -0.106284], [51.528738, -0.115927], [51.526076, -0.112577], [51.556645, -0.117803], [51.55187, -0.111654], [51.524691, -0.110328], [51.551382, -0.126098], [51.524125, -0.103143], [51.539984, -0.093976], [51.536541, -0.103492], [51.564118, -0.135242], [51.551638, -0.091757], [51.525769, -0.088082], [51.563921, -0.106104], [51.566966, -0.122139], [51.560973, -0.124117], [51.563473, -0.128631], [51.566739, -0.108007], [51.556237, -0.098057], [51.531456, -0.111634], [51.552177, -0.1252], [51.525145, -0.110597], [51.530104, -0.117024], [51.527714, -0.113807], [51.544589, -0.12306], [51.556794, -0.138427], [51.549763, -0.087076], [51.560535, -0.102494], [51.542132, -0.110038], [51.525672, -0.104232], [51.524766, -0.103837], [51.531144, -0.103428], [51.546159, -0.103237], [51.567544, -0.135823], [51.549066, -0.110616], [51.551593, -0.111232], [51.552508, -0.112204], [51.539114, -0.101366], [51.523152, -0.098571], [51.546062, -0.102808], [51.533076, -0.106087], [51.552758, -0.133398], [51.522107, -0.106254], [51.525421, -0.088817], [51.536598, -0.101471], [51.538008, -0.099682], [51.555217, -0.129691], [51.523152, -0.098571], [51.548553, -0.084531], [51.567178, -0.112895], [51.531958, -0.109306], [51.568243, -0.123241], [51.530858, -0.102431], [51.531086, -0.116551], [51.559318, -0.121877], [51.524186, -0.095789], [51.523334, -0.098707], [51.534342, -0.117714], [51.535117, -0.104417], [51.564093, -0.105664], [51.522121, -0.107119], [51.526993, -0.096969], [51.56189, -0.125233], [51.545598, -0.124317], [51.559848, -0.115651], [51.54207, -0.117395], [51.54207, -0.117395], [51.559237, -0.111204], [51.546345, -0.103661], [51.564302, -0.129896], [51.550087, -0.118218], [51.553096, -0.098476], [51.553794, -0.113882], [51.537792, -0.091904], [51.538054, -0.102564], [51.541485, -0.097807], [51.54952, -0.110886], [51.553889, -0.114167], [51.522031, -0.107122], [51.523771, -0.109068], [51.546128, -0.118093], [51.557645, -0.112857], [51.52682, -0.10851], [51.560535, -0.102494], [51.549662, -0.108572], [51.542652, -0.103238], [51.569185, -0.137199], [51.54846, -0.08439], [51.563045, -0.107584], [51.538623, -0.098791], [51.564328, -0.131482], [51.551133, -0.11053], [51.565454, -0.134466], [51.557284, -0.10162], [51.56323, -0.107865], [51.530582, -0.10201], [51.572602, -0.125947], [51.546156, -0.103092], [51.527593, -0.100692], [51.555401, -0.11872], [51.545979, -0.103244], [51.55591, -0.116824], [51.562122, -0.117289], [51.554168, -0.092517], [51.561688, -0.140824], [51.53143, -0.104426], [51.546415, -0.085774], [51.519914, -0.087462], [51.561569, -0.09971], [51.560896, -0.113732], [51.52682, -0.10851], [51.531014, -0.117707], [51.522268, -0.105094], [51.523716, -0.111233], [51.525185, -0.090845], [51.533571, -0.108951], [51.531689, -0.109317], [51.529126, -0.095438], [51.546058, -0.085933], [51.531824, -0.106572], [51.567969, -0.122963], [51.557664, -0.119637], [51.556794, -0.138427], [51.527593, -0.100692], [51.522508, -0.103211], [51.557839, -0.119341], [51.561705, -0.124953], [51.523675, -0.09754], [51.551382, -0.126098], [51.550679, -0.110261], [51.531529, -0.104998], [51.546953, -0.091232], [51.562268, -0.126372], [51.546833, -0.083882], [51.529367, -0.115901], [51.54526, -0.103274], [51.536248, -0.102062], [51.5298, -0.09815], [51.526961, -0.111675], [51.555364, -0.12204], [51.552879, -0.11291], [51.555117, -0.117866], [51.560108, -0.115063], [51.523845, -0.096956], [51.535555, -0.103677], [51.550395, -0.109407], [51.567267, -0.112892], [51.563137, -0.107724], [51.546731, -0.088645], [51.569784, -0.124043], [51.550383, -0.086473], [51.555552, -0.111357], [51.522121, -0.107119], [51.566236, -0.121447], [51.522268, -0.105094], [51.531316, -0.11409], [51.531241, -0.103857], [51.549226, -0.087243], [51.558364, -0.118454], [51.526225, -0.093974], [51.531309, -0.113658], [51.560973, -0.124117], [51.559226, -0.121736], [51.547551, -0.105919], [51.55582, -0.116828], [51.52626, -0.112858], [51.523242, -0.098567], [51.522029, -0.106978], [51.52331, -0.108367], [51.52331, -0.108367], [51.570595, -0.124154], [51.539402, -0.102508], [51.566964, -0.121995], [51.536248, -0.102062], [51.551295, -0.126246], [51.552416, -0.112064], [51.570326, -0.124165], [51.544448, -0.097539], [51.562729, -0.127075], [51.564531, -0.104925], [51.549617, -0.12819], [51.525232, -0.11045], [51.546713, -0.098598], [51.524186, -0.095789], [51.564899, -0.116597], [51.526355, -0.113142], [51.561157, -0.124398], [51.544231, -0.08976], [51.551382, -0.126098], [51.527435, -0.107619], [51.548831, -0.101683], [51.525412, -0.110442], [51.562157, -0.136332], [51.533078, -0.106232], [51.55314, -0.123574], [51.552484, -0.105137], [51.545856, -0.11796], [51.522029, -0.106978], [51.539723, -0.094563], [51.548463, -0.123478], [51.539492, -0.102504], [51.529367, -0.115901], [51.553979, -0.114163], [51.524605, -0.093897], [51.548822, -0.129088], [51.533883, -0.111533], [51.561482, -0.116594], [51.549204, -0.108014], [51.522121, -0.107119], [51.548065, -0.109936], [51.54553, -0.103263], [51.567353, -0.112599], [51.536248, -0.102062], [51.530473, -0.100861], [51.550487, -0.109547], [51.52566, -0.086933], [51.538533, -0.109899], [51.563485, -0.106988], [51.546618, -0.087208], [51.564957, -0.120202], [51.523681, -0.109072], [51.546474, -0.083897], [51.568361, -0.141994], [51.565549, -0.13475], [51.563471, -0.128487], [51.548368, -0.08425], [51.540575, -0.102748], [51.529816, -0.115883], [51.525502, -0.088237], [51.550305, -0.109411], [51.530196, -0.117164], [51.557018, -0.135532], [51.546528, -0.087212], [51.560111, -0.115208], [51.557385, -0.119071], [51.544454, -0.103452], [51.559299, -0.137603], [51.538008, -0.099682], [51.566418, -0.121584], [51.56492, -0.134776], [51.528167, -0.09173], [51.562246, -0.136328], [51.530669, -0.101862], [51.547457, -0.105634], [51.535555, -0.103677], [51.550764, -0.109969], [51.557571, -0.119496], [51.541569, -0.102995], [51.522351, -0.104659], [51.564519, -0.132195], [51.531608, -0.109897], [51.53077, -0.119303], [51.524253, -0.111067], [51.530874, -0.114541], [51.560058, -0.123145], [51.542119, -0.092588], [51.535855, -0.111163], [51.544954, -0.095498], [51.549907, -0.118226], [51.531226, -0.114094], [51.560385, -0.098749], [51.54654, -0.099038], [51.537607, -0.102727], [51.562246, -0.136328], [51.550483, -0.098152], [51.564531, -0.104925], [51.564894, -0.13319], [51.551739, -0.131565], [51.550663, -0.098145], [51.525421, -0.088817], [51.530151, -0.103181], [51.535382, -0.104117], [51.554209, -0.134205], [51.558315, -0.137932], [51.532988, -0.106235], [51.557477, -0.130464], [51.524506, -0.110047], [51.559848, -0.115651], [51.555265, -0.115841], [51.544339, -0.107495], [51.541658, -0.102991], [51.555834, -0.117693], [51.531542, -0.111342], [51.560734, -0.109267], [51.537792, -0.091904], [51.560625, -0.10249], [51.522107, -0.106254], [51.54667, -0.118215], [51.546532, -0.104086], [51.540993, -0.095231], [51.526415, -0.100165], [51.564526, -0.104636], [51.546626, -0.098746], [51.529703, -0.097721], [51.525682, -0.110431], [51.558161, -0.139525], [51.550397, -0.109551], [51.54676, -0.118211], [51.540808, -0.117159], [51.545247, -0.108034], [51.549939, -0.108993], [51.556092, -0.116961], [51.541027, -0.102873], [51.520273, -0.087447], [51.525573, -0.087081], [51.560182, -0.091833], [51.548245, -0.087717], [51.546528, -0.087212], [51.525753, -0.087073], [51.55171, -0.079638], [51.525753, -0.087073], [51.525939, -0.087498], [51.53421, -0.098398], [51.55991, -0.0917], [51.546479, -0.084185], [51.529034, -0.095298], [51.525755, -0.087218], [51.52893, -0.094437], [51.52522, -0.087528], [51.550804, -0.084724], [51.522153, -0.086936], [51.527968, -0.090585], [51.527578, -0.088727], [51.54952, -0.077711], [51.54575, -0.083639], [51.563687, -0.102796], [51.546635, -0.082736], [51.548245, -0.087717], [51.551431, -0.079073], [51.527587, -0.089303], [51.525753, -0.087073], [51.528741, -0.093869], [51.527684, -0.089732], [51.526575, -0.087904], [51.528259, -0.09187], [51.551708, -0.079494], [51.56405, -0.108552], [51.558728, -0.090884], [51.543068, -0.084617], [51.525842, -0.08707], [51.549938, -0.08678], [51.564614, -0.104488], [51.546566, -0.084037], [51.561477, -0.099569], [51.551431, -0.079073], [51.54369, -0.084158], [51.52414, -0.087429], [51.546564, -0.083893], [51.562871, -0.136014], [51.564013, -0.106245], [51.562866, -0.135726], [51.549226, -0.087243], [51.553412, -0.123707], [51.525055, -0.110601], [51.529071, -0.097603], [51.529069, -0.097459], [51.566508, -0.121581], [51.531231, -0.114382], [51.546516, -0.091972], [51.532718, -0.106246], [51.54943, -0.077714], [51.556097, -0.117249], [51.538098, -0.099678], [51.532002, -0.10642], [51.555726, -0.116543], [51.547867, -0.081098], [51.538095, -0.099534], [51.522197, -0.106251], [51.556279, -0.117386], [51.521165, -0.086977], [51.525502, -0.110438], [51.522197, -0.106251], [51.542564, -0.092281], [51.558502, -0.110225], [51.561848, -0.111385], [51.549299, -0.113924], [51.530275, -0.099716], [51.569423, -0.123913], [51.568678, -0.133612], [51.5234, -0.108363], [51.539721, -0.094419], [51.556279, -0.117386], [51.531318, -0.114235], [51.5297, -0.097577], [51.531316, -0.11409], [51.540838, -0.102304], [51.536662, -0.116609], [51.56394, -0.135393], [51.564982, -0.133042], [51.544875, -0.101703], [51.531907, -0.106136], [51.550766, -0.110113], [51.547983, -0.110372], [51.547167, -0.082281], [51.542209, -0.092585], [51.563139, -0.102241], [51.525417, -0.088529], [51.538095, -0.099534], [51.541109, -0.113541], [51.549761, -0.086932], [51.547639, -0.105771], [51.531316, -0.11409], [51.52405, -0.087433], [51.563722, -0.104958], [51.546249, -0.103233], [51.561889, -0.136487], [51.562967, -0.108308], [51.532893, -0.105951], [51.552267, -0.125196], [51.532735, -0.107255], [51.522197, -0.106251], [51.535557, -0.103822], [51.531817, -0.10614], [51.547597, -0.08659], [51.549993, -0.117934], [51.560834, -0.137973], [51.52635, -0.112854], [51.531404, -0.113943], [51.547168, -0.093387], [51.558028, -0.11991], [51.529698, -0.097433], [51.564567, -0.135223], [51.566458, -0.107298], [51.519646, -0.087618], [51.550584, -0.109976], [51.551472, -0.126095], [51.531808, -0.105563], [51.531169, -0.116115], [51.558002, -0.123951], [51.565867, -0.120885], [51.522469, -0.106383], [51.548142, -0.114693], [51.539721, -0.094419], [51.525433, -0.111739], [51.534622, -0.107177], [51.548063, -0.109792], [51.546038, -0.118097], [51.546204, -0.100494], [51.533973, -0.111529], [51.565454, -0.134466], [51.544541, -0.103304], [51.545019, -0.088429], [51.522197, -0.106251], [51.543834, -0.092949], [51.564795, -0.132617], [51.523325, -0.098131], [51.529126, -0.095438], [51.524186, -0.095789], [51.56198, -0.12523], [51.561429, -0.124531], [51.522356, -0.104947], [51.536842, -0.116602], [51.554809, -0.104319], [51.531988, -0.105556], [51.551562, -0.126091], [51.519826, -0.08761], [51.53949, -0.091256], [51.546214, -0.101071], [51.546505, -0.08577], [51.536245, -0.101918], [51.560652, -0.098594], [51.531783, -0.109601], [51.547741, -0.101007], [51.546923, -0.083878], [51.541507, -0.093623], [51.552792, -0.124309], [51.523239, -0.098423], [51.522439, -0.104511], [51.572513, -0.125951], [51.542132, -0.110038], [51.537543, -0.104316], [51.558537, -0.118014], [51.548162, -0.088153], [51.525509, -0.088669], [51.562103, -0.110508], [51.567309, -0.13237], [51.531718, -0.105567], [51.543193, -0.10336], [51.53095, -0.119296], [51.524186, -0.095789], [51.555905, -0.116536], [51.563848, -0.135253], [51.557219, -0.114317], [51.553212, -0.133668], [51.53752, -0.102875], [51.554283, -0.110688], [51.564696, -0.115162], [51.528063, -0.090869], [51.53143, -0.104426], [51.530662, -0.10143], [51.556279, -0.117386], [51.542559, -0.091993], [51.53485, -0.104572], [51.566106, -0.135882], [51.533344, -0.111555], [51.540461, -0.095686], [51.538095, -0.099534], [51.556094, -0.117105], [51.528259, -0.09187], [51.550089, -0.118362], [51.556794, -0.138427], [51.522121, -0.107119], [51.520361, -0.087299], [51.563835, -0.106397], [51.549388, -0.108295], [51.531228, -0.114238], [51.564006, -0.105812], [51.560634, -0.114176], [51.551382, -0.126098], [51.547926, -0.118019], [51.529511, -0.097008], [51.54575, -0.083639], [51.536842, -0.116602], [51.551024, -0.098274], [51.536842, -0.116602], [51.550854, -0.109965], [51.557735, -0.112853], [51.546124, -0.101075], [51.531316, -0.11409], [51.563231, -0.102382], [51.569526, -0.124775], [51.528074, -0.09159], [51.563102, -0.127925], [51.564441, -0.104929], [51.564441, -0.104929], [51.567106, -0.108425], [51.550562, -0.131036], [51.546177, -0.126745], [51.529279, -0.116049], [51.546679, -0.118792], [51.523161, -0.099147], [51.543101, -0.103219], [51.542119, -0.092588], [51.546204, -0.100494], [51.564328, -0.131482], [51.533501, -0.121354], [51.539492, -0.102504], [51.553403, -0.12313], [51.560111, -0.115208], [51.556704, -0.13843], [51.553627, -0.103503], [51.559663, -0.098635], [51.52518, -0.090557], [51.559132, -0.121452], [51.532988, -0.106235], [51.564093, -0.105664], [51.522266, -0.10495], [51.546204, -0.100494], [51.540757, -0.102884], [51.549907, -0.118226], [51.55187, -0.111654], [51.531732, -0.106432], [51.549229, -0.087387], [51.539492, -0.102504], [51.525504, -0.088381], [51.549207, -0.091571], [51.557166, -0.133506], [51.556004, -0.117109], [51.563229, -0.102238], [51.528499, -0.10671], [51.522185, -0.10553], [51.525511, -0.088814], [51.559663, -0.098635], [51.560056, -0.123001], [51.546064, -0.102952], [51.560053, -0.122856], [51.550029, -0.108989], [51.523152, -0.098571], [51.544973, -0.107757], [51.519788, -0.101882], [51.545568, -0.100088], [51.558355, -0.117877], [51.560332, -0.123422], [51.554043, -0.090358], [51.536485, -0.116761], [51.533885, -0.111677], [51.548735, -0.129236], [51.522029, -0.106978], [51.528363, -0.092731], [51.535115, -0.104273], [51.524482, -0.102984], [51.549206, -0.108158], [51.553473, -0.105096], [51.548082, -0.12782], [51.536184, -0.103651], [51.522109, -0.106398], [51.529608, -0.097437], [51.547551, -0.105919], [51.564708, -0.132765], [51.568837, -0.115424], [51.533078, -0.106232], [51.524502, -0.087558], [51.561118, -0.11632], [51.549752, -0.108568], [51.555912, -0.116968], [51.557645, -0.112857], [51.560472, -0.098601], [51.529611, -0.097581], [51.567845, -0.109693], [51.54823, -0.114545], [51.546847, -0.118064], [51.564616, -0.104633], [51.526662, -0.104335], [51.546159, -0.103237], [51.55035, -0.117775], [51.556149, -0.098205], [51.559867, -0.122431], [51.558311, -0.120764], [51.529099, -0.110434], [51.53182, -0.106284], [51.528137, -0.100958], [51.542734, -0.091697], [51.530978, -0.121025], [51.5557, -0.098223], [51.546161, -0.103381], [51.54535, -0.10327], [51.550573, -0.098149], [51.567265, -0.112747], [51.526263, -0.113002], [51.549371, -0.079592], [51.566966, -0.122139], [51.565457, -0.13461], [51.537745, -0.100126], [51.566098, -0.107313], [51.55187, -0.111654], [51.537423, -0.091343], [51.562547, -0.126938], [51.560058, -0.123145], [51.54849, -0.113957], [51.566387, -0.136592], [51.567779, -0.139277], [51.566671, -0.137446], [51.557664, -0.119637], [51.525695, -0.105673], [51.55561, -0.098227], [51.541424, -0.09406], [51.545495, -0.117831], [51.560392, -0.093699], [51.547836, -0.118023], [51.544274, -0.103459], [51.52497, -0.110893], [51.545421, -0.102113], [51.534049, -0.110661], [51.556972, -0.11577], [51.526081, -0.112865], [51.520418, -0.085279], [51.542997, -0.091254], [51.537167, -0.103322], [51.53186, -0.114356], [51.565551, -0.134895], [51.555912, -0.116968], [51.523424, -0.098704], [51.552052, -0.11179], [51.525504, -0.110582], [51.536215, -0.116772], [51.546532, -0.104086], [51.559666, -0.121141], [51.547186, -0.116752], [51.546798, -0.098306], [51.535204, -0.104269], [51.531226, -0.114094], [51.536395, -0.116764], [51.547967, -0.098257], [51.564283, -0.139996], [51.531518, -0.104278], [51.558449, -0.118162], [51.531079, -0.116119], [51.560108, -0.115063], [51.560198, -0.11506], [51.532628, -0.10625], [51.533076, -0.106087], [51.558712, -0.117718], [51.559318, -0.121877], [51.556486, -0.130361], [51.533067, -0.100032], [51.524414, -0.109907], [51.564328, -0.131482], [51.519824, -0.087466], [51.539495, -0.102648], [51.547886, -0.109944], [51.551382, -0.126098], [51.560699, -0.12384], [51.55676, -0.125012], [51.526177, -0.107671], [51.546713, -0.098598], [51.56383, -0.122845], [51.532628, -0.10625], [51.537318, -0.107065], [51.564897, -0.12208], [51.53009, -0.099435], [51.546625, -0.08764], [51.532677, -0.109276], [51.566496, -0.126487], [51.557661, -0.119493], [51.548919, -0.079467], [51.560546, -0.114324], [51.536233, -0.090095], [51.552663, -0.133114], [51.558537, -0.118014], [51.552159, -0.101689], [51.521167, -0.087122], [51.532628, -0.10625], [51.551382, -0.126098], [51.553193, -0.110012], [51.537165, -0.103178], [51.537432, -0.103023], [51.523325, -0.098131], [51.563192, -0.127921], [51.552797, -0.124598], [51.551382, -0.126098], [51.522508, -0.103211], [51.54676, -0.118211], [51.524334, -0.099386], [51.526942, -0.088321], [51.549664, -0.108716], [51.563918, -0.10596], [51.564417, -0.131478], [51.534932, -0.104136], [51.529823, -0.116315], [51.555972, -0.137595], [51.54364, -0.103197], [51.52251, -0.103355], [51.549226, -0.087243], [51.539359, -0.105394], [51.563483, -0.106844], [51.536248, -0.102062], [51.546474, -0.083897], [51.532577, -0.119806], [51.560198, -0.11506], [51.53863, -0.099223], [51.56642, -0.121728], [51.558133, -0.098555], [51.523585, -0.097544], [51.556094, -0.117105], [51.564521, -0.13234], [51.55187, -0.111654], [51.549997, -0.118222], [51.53138, -0.112502], [51.561329, -0.112705], [51.555457, -0.105446], [51.531309, -0.113658], [51.546455, -0.082744], [51.555175, -0.115844], [51.541336, -0.094207], [51.558795, -0.117282], [51.531449, -0.111201], [51.543553, -0.103345], [51.541579, -0.098091], [51.564441, -0.104929], [51.564441, -0.104929], [51.560018, -0.115067], [51.530759, -0.101858], [51.524609, -0.094185], [51.562157, -0.136332], [51.524437, -0.094625], [51.531425, -0.120862], [51.525187, -0.09099], [51.532728, -0.106823], [51.540721, -0.106203], [51.525592, -0.088234], [51.548932, -0.107881], [51.557178, -0.10624], [51.542134, -0.110182], [51.563219, -0.118398], [51.56244, -0.120305], [51.535739, -0.103958], [51.563036, -0.140769], [51.573602, -0.120999], [51.543066, -0.084473], [51.56189, -0.125233], [51.549297, -0.091567], [51.566418, -0.121584], [51.555552, -0.111357], [51.564702, -0.104341], [51.522197, -0.106251], [51.549207, -0.091571], [51.521614, -0.086959], [51.525185, -0.090845], [51.529124, -0.095294], [51.539814, -0.116912], [51.545372, -0.087981], [51.564424, -0.131911], [51.520505, -0.101708], [51.523872, -0.087585], [51.53095, -0.102571], [51.56823, -0.111264], [51.536599, -0.095992], [51.526357, -0.113286], [51.530427, -0.103602], [51.544461, -0.103884], [51.539315, -0.102656], [51.564702, -0.104341], [51.525185, -0.090845], [51.540356, -0.117034], [51.522491, -0.102202], [51.540957, -0.109654], [51.56651, -0.121725], [51.559661, -0.1096], [51.522213, -0.107259], [51.552792, -0.124309], [51.55967, -0.115803], [51.538005, -0.099538], [51.551382, -0.126098], [51.546616, -0.087064], [51.565872, -0.121174], [51.522121, -0.107119], [51.559226, -0.121736], [51.534162, -0.117722], [51.562486, -0.117562], [51.533795, -0.111681], [51.558508, -0.105031], [51.559318, -0.121877], [51.557661, -0.119493], [51.535946, -0.116783], [51.567845, -0.109693], [51.526824, -0.108798], [51.524011, -0.096084], [51.556774, -0.092408], [51.564139, -0.130912], [51.562547, -0.126938], [51.554528, -0.092502], [51.54207, -0.117395], [51.548932, -0.107881], [51.561502, -0.112265], [51.541077, -0.117148], [51.529124, -0.095294], [51.522268, -0.105094], [51.526085, -0.113153], [51.545532, -0.103407], [51.563286, -0.128206], [51.560053, -0.122856], [51.535207, -0.104413], [51.56582, -0.106747], [51.531631, -0.105715], [51.541485, -0.097807], [51.555576, -0.118425], [51.522181, -0.105242], [51.526263, -0.113002], [51.564708, -0.132765], [51.564134, -0.130624], [51.535857, -0.111307], [51.565456, -0.140237], [51.541485, -0.097807], [51.536874, -0.118619], [51.550856, -0.110109], [51.523156, -0.098859], [51.52414, -0.10963], [51.520476, -0.08888], [51.522567, -0.101334], [51.563581, -0.135408], [51.541117, -0.102869], [51.55323, -0.12357], [51.521437, -0.08711], [51.539402, -0.102508], [51.541115, -0.102725], [51.55732, -0.131913], [51.521944, -0.10727], [51.525419, -0.088673], [51.560143, -0.122853], [51.552601, -0.112345], [51.557182, -0.134516], [51.531318, -0.114235], [51.530759, -0.101858], [51.559525, -0.140479], [51.52779, -0.107316], [51.552559, -0.10975], [51.522109, -0.106398], [51.569425, -0.124058], [51.531226, -0.114094], [51.564984, -0.133186], [51.53959, -0.097453], [51.535117, -0.104417], [51.56176, -0.111532], [51.54605, -0.102087], [51.53739, -0.100429], [51.550031, -0.109134], [51.542732, -0.091553], [51.531689, -0.109317], [51.550467, -0.130752], [51.543877, -0.090063], [51.546569, -0.084181], [51.559963, -0.12286], [51.55985, -0.115795], [51.563659, -0.129056], [51.529795, -0.097861], [51.550218, -0.109559], [51.572515, -0.126095], [51.55552, -0.137469], [51.55187, -0.111654], [51.54355, -0.125555], [51.546427, -0.108706], [51.539505, -0.097745], [51.554105, -0.11084], [51.524437, -0.094625], [51.522123, -0.107263], [51.522199, -0.106395], [51.54799, -0.12768], [51.547976, -0.10994], [51.555544, -0.122032], [51.550674, -0.109972], [51.563137, -0.107724], [51.534405, -0.104879], [51.559963, -0.12286], [51.564297, -0.135234], [51.53739, -0.100429], [51.537038, -0.100876], [51.570014, -0.115952], [51.559779, -0.122579], [51.527486, -0.110789], [51.542134, -0.110182], [51.519788, -0.101882], [51.523078, -0.099583], [51.561933, -0.111093], [51.55314, -0.123574], [51.537607, -0.102727], [51.53738, -0.094229], [51.564037, -0.130195], [51.563918, -0.10596], [51.572508, -0.120034], [51.521134, -0.101682], [51.530185, -0.099719], [51.555661, -0.118133], [51.560056, -0.123001], [51.564006, -0.105812], [51.537833, -0.099978], [51.54272, -0.090833], [51.55534, -0.098238], [51.539582, -0.102501], [51.547733, -0.106056], [51.547062, -0.092382], [51.558537, -0.118014], [51.541251, -0.094499], [51.532628, -0.10625], [51.548506, -0.098235], [51.542618, -0.106701], [51.564328, -0.131482], [51.549317, -0.115077], [51.541203, -0.097097], [51.563047, -0.102101], [51.543782, -0.117613], [51.564897, -0.133334], [51.522066, -0.087084], [51.54644, -0.103946], [51.564991, -0.133619], [51.524232, -0.08757], [51.555884, -0.137742], [51.531815, -0.105996], [51.535647, -0.103818], [51.558217, -0.12048], [51.541798, -0.117262], [51.546202, -0.10035], [51.533165, -0.106084], [51.574149, -0.12141], [51.54654, -0.099038], [51.531014, -0.117707], [51.560285, -0.137418], [51.541442, -0.106317], [51.556785, -0.115345], [51.557751, -0.119489], [51.556961, -0.115049], [51.544429, -0.107491], [51.563583, -0.118671], [51.551076, -0.084857], [51.551569, -0.126523], [51.531224, -0.11395], [51.523896, -0.111226], [51.522121, -0.107119], [51.537607, -0.102727], [51.525145, -0.110597], [51.550487, -0.109547], [51.560108, -0.115063], [51.570563, -0.127763], [51.539585, -0.102645], [51.558855, -0.12103], [51.552664, -0.10513], [51.569605, -0.12405], [51.561571, -0.099854], [51.525412, -0.088241], [51.559502, -0.110905], [51.526523, -0.112414], [51.52469, -0.093605], [51.569605, -0.12405], [51.522188, -0.105674], [51.556794, -0.138427], [51.554794, -0.097828], [51.541168, -0.094936], [51.550487, -0.109547], [51.546121, -0.10093], [51.549763, -0.087076], [51.522266, -0.10495], [51.565632, -0.123059], [51.564328, -0.131482], [51.53028, -0.105627], [51.565082, -0.105623], [51.547064, -0.092526], [51.546256, -0.103665], [51.54369, -0.084158], [51.546455, -0.082744], [51.557751, -0.119489], [51.527689, -0.09002], [51.53633, -0.11273], [51.524266, -0.095209], [51.568448, -0.119192], [51.556794, -0.138427], [51.553949, -0.134792], [51.562547, -0.126938], [51.531539, -0.111198], [51.564708, -0.132765], [51.539455, -0.116927], [51.531307, -0.113514], [51.537792, -0.091904], [51.550856, -0.110109], [51.562246, -0.136328], [51.549623, -0.095015], [51.525669, -0.104088], [51.570542, -0.115209], [51.534352, -0.107188], [51.566016, -0.135886], [51.525341, -0.089397], [51.560546, -0.114324], [51.522309, -0.102066], [51.564132, -0.13048], [51.551719, -0.085696], [51.527124, -0.088458], [51.556928, -0.135536], [51.564422, -0.131766], [51.530662, -0.10143], [51.525857, -0.087934], [51.560108, -0.115063], [51.538008, -0.099682], [51.531228, -0.114238], [51.552785, -0.112626], [51.546667, -0.118071], [51.554622, -0.115002], [51.567793, -0.112004], [51.531824, -0.106572], [51.528408, -0.101091], [51.548492, -0.114101], [51.560018, -0.115067], [51.538724, -0.099508], [51.563673, -0.135549], [51.57087, -0.124431], [51.544339, -0.107495], [51.55065, -0.086318], [51.524568, -0.086114], [51.525944, -0.087786], [51.546561, -0.083749], [51.52526, -0.089977], [51.526668, -0.088044], [51.56018, -0.091688], [51.527968, -0.090585], [51.551807, -0.080066], [51.563876, -0.103365], [51.546937, -0.090223], [51.52797, -0.090729], [51.52893, -0.094437], [51.525426, -0.089105], [51.564704, -0.104485], [51.527777, -0.089872], [51.526852, -0.088325], [51.552008, -0.081356], [51.564529, -0.104781], [51.56018, -0.091688], [51.524773, -0.087691], [51.56369, -0.10294], [51.52658, -0.088192], [51.528542, -0.092723], [51.54961, -0.077707], [51.528739, -0.093724], [51.525483, -0.087085], [51.559187, -0.091441], [51.561018, -0.099011], [51.525182, -0.090701], [51.551705, -0.079349], [51.528072, -0.091446], [51.546545, -0.08274], [51.545119, -0.083521], [51.559364, -0.09129], [51.54943, -0.077714], [51.528741, -0.093869], [51.529322, -0.096439], [51.530838, -0.095655], [51.528353, -0.092155], [51.544852, -0.083676], [51.525592, -0.088234], [51.568969, -0.123644], [51.555518, -0.098087], [51.533165, -0.106084], [51.552601, -0.112345], [51.560636, -0.11432], [51.546949, -0.090944], [51.542882, -0.117506], [51.572874, -0.120452], [51.525483, -0.087085], [51.536779, -0.107087], [51.531428, -0.104282], [51.54727, -0.10521], [51.556967, -0.137987], [51.528286, -0.115802], [51.543967, -0.090059], [51.531021, -0.11814], [51.540645, -0.095967], [51.55349, -0.134234], [51.524276, -0.095785], [51.549111, -0.107874], [51.549817, -0.118229], [51.568145, -0.139694], [51.54003, -0.096858], [51.53432, -0.105171], [51.555916, -0.11163], [51.546053, -0.102231], [51.562212, -0.117285], [51.531139, -0.114242], [51.559375, -0.114228], [51.562246, -0.136328], [51.560896, -0.113732], [51.562103, -0.110508], [51.556794, -0.138427], [51.55725, -0.138841], [51.548735, -0.129236], [51.553951, -0.134936], [51.552942, -0.133679], [51.526265, -0.113146], [51.529281, -0.116193], [51.548827, -0.129377], [51.530286, -0.117161], [51.530385, -0.117733], [51.522038, -0.107555], [51.553218, -0.134101], [51.54891, -0.12894], [51.548735, -0.129236], [51.530291, -0.117449], [51.522031, -0.107122], [51.54864, -0.128951], [51.564238, -0.131485], [51.571199, -0.122542], [51.551811, -0.085836], [51.547828, -0.10634], [51.557166, -0.133506], [51.559397, -0.126779], [51.541384, -0.09161], [51.531249, -0.115535], [51.553316, -0.123278], [51.56385, -0.135397], [51.550766, -0.110113], [51.524096, -0.095792], [51.568533, -0.1189], [51.525395, -0.087233], [51.546951, -0.091088], [51.543601, -0.100747], [51.546041, -0.101511], [51.546258, -0.087223], [51.552421, -0.112352], [51.56091, -0.137104], [51.553925, -0.110847], [51.558975, -0.117274], [51.560196, -0.114916], [51.531539, -0.111198], [51.531338, -0.104285], [51.523327, -0.098275], [51.561758, -0.111388], [51.542822, -0.091549], [51.564614, -0.104488], [51.536338, -0.102059], [51.562079, -0.125803], [51.566219, -0.109183], [51.56097, -0.123973], [51.562639, -0.121451], [51.540446, -0.11703], [51.529608, -0.097437], [51.554043, -0.135077], [51.525097, -0.090993], [51.566418, -0.121584], [51.553797, -0.114026], [51.566741, -0.108152], [51.556884, -0.138423], [51.56862, -0.118752], [51.544041, -0.122506], [51.557129, -0.114321], [51.556276, -0.111615], [51.562788, -0.11957], [51.535469, -0.103969], [51.561387, -0.099573], [51.522121, -0.107119], [51.546472, -0.083753], [51.565364, -0.134469], [51.547566, -0.101303], [51.523427, -0.09337], [51.563135, -0.10758], [51.557732, -0.112709], [51.532744, -0.107831], [51.553925, -0.110847], [51.5537, -0.113597], [51.522301, -0.107111], [51.545757, -0.084071], [51.551371, -0.131003], [51.564266, -0.105224], [51.54928, -0.090558], [51.563007, -0.12764], [51.525663, -0.087077], [51.534252, -0.117718], [51.563223, -0.107432], [51.52699, -0.096825], [51.569146, -0.117864], [51.55187, -0.111654], [51.564529, -0.104781], [51.524251, -0.110923], [51.559742, -0.114646], [51.555083, -0.115704], [51.53139, -0.113078], [51.544776, -0.117861], [51.55746, -0.112576], [51.562166, -0.120028], [51.522268, -0.105094], [51.522408, -0.102638], [51.570936, -0.122985], [51.530662, -0.10143], [51.557151, -0.138268], [51.531526, -0.099231], [51.547182, -0.105357], [51.531628, -0.105571], [51.522278, -0.105671], [51.558787, -0.111223], [51.552421, -0.112352], [51.558136, -0.098699], [51.547064, -0.092526], [51.558403, -0.098543], [51.552647, -0.098495], [51.543061, -0.117499], [51.559735, -0.091996], [51.543874, -0.089919], [51.526467, -0.108957], [51.565178, -0.128417], [51.536842, -0.116602], [51.525057, -0.110745], [51.546384, -0.0839], [51.550043, -0.109854], [51.565012, -0.134917], [51.539585, -0.102645], [51.543601, -0.100747], [51.557331, -0.13826], [51.538008, -0.099682], [51.550768, -0.110257], [51.548645, -0.12924], [51.563137, -0.107724], [51.54461, -0.118733], [51.556276, -0.111615], [51.546528, -0.087212], [51.543174, -0.091102], [51.53564, -0.103386], [51.567265, -0.112747], [51.571142, -0.124564], [51.551272, -0.085859], [51.562249, -0.136472], [51.53173, -0.106288], [51.53308, -0.106376], [51.532675, -0.109132], [51.565652, -0.141239], [51.522944, -0.107949], [51.560202, -0.109722], [51.530137, -0.102317], [51.54653, -0.087356], [51.539273, -0.11679], [51.56176, -0.111532], [51.526265, -0.113146], [51.566578, -0.137305], [51.567876, -0.122823], [51.559325, -0.116683], [51.537877, -0.102716], [51.546526, -0.087068], [51.556184, -0.117101], [51.553338, -0.113468], [51.52072, -0.087284], [51.564269, -0.105369], [51.555454, -0.122036], [51.525759, -0.104085], [51.546261, -0.087367], [51.560016, -0.114923], [51.552403, -0.12245], [51.541027, -0.102873], [51.533925, -0.103024], [51.553147, -0.09054], [51.558675, -0.098676], [51.542997, -0.091254], [51.565516, -0.110223], [51.563918, -0.10596], [51.528556, -0.11579], [51.536395, -0.116764], [51.567516, -0.111583], [51.525182, -0.090701], [51.56583, -0.13546], [51.559316, -0.121733], [51.537607, -0.102727], [51.56029, -0.1152], [51.540463, -0.09583], [51.562778, -0.107739], [51.566072, -0.133719], [51.557067, -0.116055], [51.531173, -0.116403], [51.547238, -0.086605], [51.562965, -0.108164], [51.55412, -0.128582], [51.562016, -0.110656], [51.566777, -0.132824], [51.565187, -0.134621], [51.548645, -0.12924], [51.556253, -0.121426], [51.55196, -0.11165], [51.528263, -0.092158], [51.522671, -0.102195], [51.522266, -0.10495], [51.544669, -0.08902], [51.533078, -0.106232], [51.558136, -0.098699], [51.549795, -0.128039], [51.569605, -0.12405], [51.53191, -0.10628], [51.557661, -0.119493], [51.543782, -0.117613], [51.549853, -0.087072], [51.546762, -0.118356], [51.547062, -0.092382], [51.548835, -0.113077], [51.54717, -0.093531], [51.526465, -0.108813], [51.551135, -0.110674], [51.566205, -0.136455], [51.552267, -0.125196], [51.54065, -0.096255], [51.520354, -0.086867], [51.524877, -0.110753], [51.524502, -0.087558], [51.522264, -0.104806], [51.538501, -0.102401], [51.549138, -0.092872], [51.546457, -0.082888], [51.524096, -0.095792], [51.547794, -0.109803], [51.522434, -0.104223], [51.564612, -0.104344], [51.563048, -0.135863], [51.526263, -0.113002], [51.562419, -0.107754], [51.538296, -0.08972], [51.531075, -0.104729], [51.524783, -0.110468], [51.56645, -0.134858], [51.541577, -0.097947], [51.522121, -0.107119], [51.55187, -0.111654], [51.562544, -0.126794], [51.559228, -0.121881], [51.555175, -0.115844], [51.529005, -0.115772], [51.524967, -0.110749], [51.54943, -0.110889], [51.54676, -0.118211], [51.525417, -0.088529], [51.527973, -0.090873], [51.566293, -0.136307], [51.553228, -0.123426], [51.52414, -0.10963], [51.557403, -0.131477], [51.56978, -0.123754], [51.550283, -0.102488], [51.567265, -0.112747], [51.531624, -0.110906], [51.546625, -0.08764], [51.535675, -0.111171], [51.550831, -0.119774], [51.53095, -0.102571], [51.559325, -0.116683], [51.561417, -0.112557], [51.529124, -0.095294], [51.54925, -0.088684], [51.522121, -0.107119], [51.544973, -0.107757], [51.546624, -0.104227], [51.553366, -0.098465], [51.524437, -0.094625], [51.522397, -0.101918], [51.550589, -0.110264], [51.536248, -0.102062], [51.535559, -0.103966], [51.53743, -0.102878], [51.526467, -0.108957], [51.57065, -0.116359], [51.525419, -0.088673], [51.565748, -0.107904], [51.554271, -0.09886], [51.535761, -0.110879], [51.531314, -0.113946], [51.537918, -0.099686], [51.561622, -0.136642], [51.550752, -0.098141], [51.526202, -0.109256], [51.556092, -0.116961], [51.532383, -0.113325], [51.556914, -0.112166], [51.557559, -0.113149], [51.562246, -0.136328], [51.570012, -0.132692], [51.551292, -0.126102], [51.539817, -0.117056], [51.535765, -0.111167], [51.563129, -0.118401], [51.554834, -0.122639], [51.536717, -0.114444], [51.537792, -0.091904], [51.53328, -0.118767], [51.557839, -0.119341], [51.522358, -0.105091], [51.569515, -0.124054], [51.549615, -0.128046], [51.541986, -0.106583], [51.54663, -0.099034], [51.542708, -0.106697], [51.546526, -0.087068], [51.561431, -0.124675], [51.55187, -0.111654], [51.545438, -0.103122], [51.545168, -0.125488], [51.535409, -0.116949], [51.560053, -0.122856], [51.523152, -0.098571], [51.570123, -0.128358], [51.563471, -0.128487], [51.55187, -0.111654], [51.535562, -0.10411], [51.522491, -0.102202], [51.564991, -0.133619], [51.557843, -0.119629], [51.547864, -0.125378], [51.537697, -0.102723], [51.550766, -0.110113], [51.531912, -0.106424], [51.545677, -0.117968], [51.528651, -0.093872], [51.552693, -0.112485], [51.558539, -0.118158], [51.556092, -0.116961], [51.533458, -0.107513], [51.560474, -0.098745], [51.525428, -0.089249], [51.526467, -0.108957], [51.541888, -0.117259], [51.525057, -0.110745], [51.554622, -0.115002], [51.545347, -0.125481], [51.557664, -0.119637], [51.565367, -0.134613], [51.549433, -0.077859], [51.522604, -0.092539], [51.536335, -0.101915], [51.569927, -0.1161], [51.530083, -0.099003], [51.563471, -0.128487], [51.540789, -0.116006], [51.558489, -0.120613], [51.524688, -0.093461], [51.566019, -0.13603], [51.558283, -0.113408], [51.540116, -0.096566], [51.559318, -0.121877], [51.52682, -0.10851], [51.525454, -0.090834], [51.521616, -0.087103], [51.556522, -0.138293], [51.534164, -0.117866], [51.537038, -0.100876], [51.523278, -0.09525], [51.564134, -0.130624], [51.543437, -0.090658], [51.543699, -0.090215], [51.56314, -0.107868], [51.557645, -0.112857], [51.525944, -0.109988], [51.565907, -0.106599], [51.564798, -0.132761], [51.569605, -0.12405], [51.539402, -0.102508], [51.546128, -0.112468], [51.535817, -0.103234], [51.548735, -0.129236], [51.529795, -0.097861], [51.542134, -0.110182], [51.542122, -0.092732], [51.524858, -0.092877], [51.562779, -0.135874], [51.546813, -0.104796], [51.524934, -0.092009], [51.546083, -0.087519], [51.546624, -0.104227], [51.569333, -0.123917], [51.524967, -0.110749], [51.557841, -0.119485], [51.530759, -0.101858], [51.546071, -0.103384], [51.528932, -0.094581], [51.543693, -0.117617], [51.549594, -0.126749], [51.527784, -0.090304], [51.528072, -0.091446], [51.557645, -0.112857], [51.522268, -0.105094], [51.525133, -0.087676], [51.54508, -0.103281], [51.522029, -0.106978], [51.520684, -0.090601], [51.537792, -0.091904], [51.524967, -0.110749], [51.564134, -0.11937], [51.553707, -0.130907], [51.53739, -0.100429], [51.54207, -0.117395], [51.521939, -0.106982], [51.547836, -0.118023], [51.551105, -0.108801], [51.558765, -0.098672], [51.524183, -0.095645], [51.550215, -0.109414], [51.524181, -0.095501], [51.552073, -0.113088], [51.564441, -0.104929], [51.556004, -0.117109], [51.560198, -0.11506], [51.549939, -0.108993], [51.564044, -0.130628], [51.543101, -0.103219], [51.523034, -0.107946], [51.571181, -0.127016], [51.549822, -0.118518], [51.531723, -0.105855], [51.534497, -0.105019], [51.523034, -0.107946], [51.557617, -0.116753], [51.532894, -0.111574], [51.551016, -0.120055], [51.524594, -0.087699], [51.525187, -0.09099], [51.526357, -0.113286], [51.528363, -0.092731], [51.531542, -0.111342], [51.531314, -0.113946], [51.540176, -0.117041], [51.530277, -0.09986], [51.533078, -0.106232], [51.567318, -0.138574], [51.548642, -0.129096], [51.553923, -0.110703], [51.531734, -0.106576], [51.543434, -0.095995], [51.522559, -0.10638], [51.558099, -0.118753], [51.547064, -0.092526], [51.550766, -0.110113], [51.552746, -0.099068], [51.55104, -0.11039], [51.565377, -0.140962], [51.545334, -0.102261], [51.540861, -0.092641], [51.566831, -0.108148], [51.531378, -0.112358], [51.546528, -0.087212], [51.523771, -0.109068], [51.551192, -0.108653], [51.529341, -0.097592], [51.523313, -0.108511], [51.520257, -0.086439], [51.543601, -0.100747], [51.524186, -0.095789], [51.525336, -0.089109], [51.566539, -0.134854], [51.564384, -0.140714], [51.557933, -0.119626], [51.550948, -0.110249], [51.535382, -0.104117], [51.520361, -0.087299], [51.563943, -0.12991], [51.549943, -0.081587], [51.567316, -0.13843], [51.560432, -0.141019], [51.562781, -0.136018], [51.526201, -0.092533], [51.526415, -0.100165], [51.564475, -0.135083], [51.569602, -0.123906], [51.567592, -0.138851], [51.560198, -0.11506], [51.55444, -0.114865], [51.540799, -0.105478], [51.559316, -0.121733], [51.529124, -0.095294], [51.543601, -0.100747], [51.524514, -0.099379], [51.542382, -0.092145], [51.550811, -0.085157], [51.551742, -0.131709], [51.564044, -0.130628], [51.550467, -0.130752], [51.551407, -0.110807], [51.566576, -0.137161], [51.537971, -0.091897], [51.550487, -0.109547], [51.550835, -0.108812], [51.547367, -0.105638], [51.557642, -0.112713], [51.563376, -0.128202], [51.563918, -0.10596], [51.523131, -0.097274], [51.551382, -0.126098], [51.551114, -0.09827], [51.568745, -0.115283], [51.550591, -0.110408], [51.545761, -0.112051], [51.554311, -0.118044], [51.522344, -0.104226], [51.570872, -0.124575], [51.546062, -0.102808], [51.550665, -0.081701], [51.540954, -0.10951], [51.542119, -0.092588], [51.549087, -0.128789], [51.541479, -0.102999], [51.55187, -0.111654], [51.552265, -0.125052], [51.560182, -0.091833], [51.552177, -0.1252], [51.533494, -0.120921], [51.554158, -0.114155], [51.561613, -0.124812], [51.540556, -0.095971], [51.544883, -0.107761], [51.560652, -0.098594], [51.549844, -0.108709], [51.525857, -0.087934], [51.537303, -0.100577], [51.541476, -0.102854], [51.560375, -0.137415], [51.56277, -0.10168], [51.537138, -0.107072], [51.560293, -0.115344], [51.522906, -0.100023], [51.558765, -0.098672], [51.550573, -0.098149], [51.520873, -0.09117], [51.566879, -0.122287], [51.56088, -0.11835], [51.546343, -0.103517], [51.563308, -0.10714], [51.549522, -0.11103], [51.549117, -0.091574], [51.565268, -0.13404], [51.553884, -0.113878], [51.554556, -0.105339], [51.560427, -0.123707], [51.550858, -0.110253], [51.548735, -0.129236], [51.55147, -0.12595], [51.55, -0.118366], [51.561157, -0.124398], [51.565961, -0.12117], [51.548822, -0.129088], [51.540648, -0.096111], [51.536128, -0.11692], [51.550487, -0.109547], [51.559735, -0.091996], [51.545963, -0.102235], [51.548654, -0.101835], [51.548735, -0.129236], [51.547095, -0.094399], [51.564708, -0.132765], [51.533163, -0.10594], [51.548135, -0.097529], [51.543601, -0.100747], [51.563137, -0.107724], [51.531542, -0.111342], [51.556558, -0.117951], [51.547926, -0.118019], [51.537974, -0.092041], [51.564565, -0.135079], [51.554622, -0.115002], [51.5636, -0.102944], [51.564526, -0.104636], [51.543782, -0.117613], [51.537038, -0.100876], [51.528917, -0.110297], [51.525589, -0.088089], [51.525315, -0.087813], [51.53143, -0.104426], [51.549941, -0.086924], [51.538008, -0.099682], [51.538008, -0.099682], [51.534252, -0.117718], [51.526263, -0.113002], [51.562246, -0.136328], [51.551522, -0.112389], [51.546427, -0.108706], [51.544669, -0.08902], [51.562106, -0.110653], [51.531003, -0.116987], [51.54856, -0.107175], [51.547063, -0.109112], [51.537138, -0.107072], [51.539503, -0.097601], [51.550766, -0.110113], [51.562106, -0.110653], [51.525757, -0.10394], [51.552177, -0.1252], [51.551928, -0.132134], [51.549617, -0.12819], [51.536842, -0.116602], [51.562265, -0.126228], [51.533787, -0.105625], [51.546769, -0.118788], [51.546488, -0.118078], [51.523872, -0.087585], [51.553979, -0.114163], [51.535737, -0.103814], [51.541029, -0.103017], [51.560023, -0.115356], [51.564898, -0.105342], [51.531776, -0.109169], [51.531449, -0.111201], [51.549997, -0.118222], [51.538008, -0.099682], [51.541764, -0.098372], [51.560108, -0.115063], [51.565288, -0.140965], [51.531454, -0.111489], [51.520931, -0.100249], [51.531459, -0.111778], [51.546564, -0.083893], [51.546488, -0.079281], [51.543251, -0.106963], [51.52682, -0.10851], [51.562169, -0.125799], [51.524968, -0.099648], [51.569784, -0.124043], [51.57096, -0.124427], [51.565742, -0.141235], [51.557664, -0.119637], [51.557661, -0.119493], [51.527683, -0.100689], [51.566308, -0.10918], [51.526822, -0.108654], [51.560108, -0.115063], [51.543326, -0.10047], [51.541669, -0.098087], [51.556239, -0.098201], [51.564519, -0.132195], [51.536248, -0.102062], [51.569085, -0.142253], [51.532718, -0.106246], [51.557661, -0.119493], [51.541251, -0.094499], [51.531686, -0.109173], [51.558407, -0.098832], [51.550307, -0.109555], [51.522119, -0.106975], [51.549021, -0.107877], [51.545603, -0.113355], [51.548105, -0.118012], [51.533873, -0.105333], [51.532721, -0.106391], [51.533503, -0.121498], [51.54943, -0.077714], [51.528169, -0.091874], [51.554043, -0.090358], [51.549433, -0.077859], [51.528167, -0.09173], [51.527687, -0.089876], [51.54934, -0.077718], [51.545748, -0.083495], [51.548243, -0.087572], [51.525753, -0.087073], [51.528842, -0.094585], [51.525753, -0.087073], [51.546457, -0.082888], [51.529034, -0.095298], [51.528932, -0.094581], [51.528363, -0.092731], [51.55982, -0.091703], [51.528552, -0.0933], [51.524322, -0.087566], [51.546455, -0.082744], [51.558097, -0.090766], [51.551819, -0.080787], [51.526398, -0.088056], [51.54934, -0.077718], [51.531028, -0.118572], [51.552601, -0.112345], [51.564093, -0.105664], [51.523325, -0.098131], [51.54952, -0.110886], [51.533965, -0.105474], [51.523149, -0.098427], [51.541524, -0.116985], [51.550045, -0.109998], [51.535469, -0.103969], [51.552972, -0.124302], [51.550215, -0.109414], [51.535472, -0.104113], [51.540556, -0.095971], [51.561419, -0.112701], [51.533073, -0.105943], [51.553237, -0.124003], [51.524271, -0.095497], [51.536248, -0.102062], [51.548889, -0.122018], [51.531314, -0.113946], [51.548052, -0.097965], [51.549662, -0.108572], [51.553237, -0.124003], [51.544429, -0.107491], [51.542642, -0.091557], [51.562188, -0.110216], [51.547161, -0.092954], [51.555053, -0.119456], [51.563395, -0.106992], [51.562869, -0.13587], [51.533966, -0.111097], [51.546628, -0.09889], [51.543782, -0.117613], [51.560822, -0.109119], [51.561341, -0.124679], [51.538439, -0.115238], [51.529911, -0.116167], [51.562157, -0.136332], [51.525573, -0.087081], [51.558189, -0.118749], [51.546253, -0.103521], [51.560027, -0.110017], [51.546204, -0.100494], [51.539854, -0.102633], [51.57063, -0.115061], [51.574964, -0.121809], [51.569085, -0.142253], [51.57251, -0.120179], [51.520774, -0.090598], [51.523334, -0.098707], [51.562585, -0.140643], [51.529913, -0.116311], [51.522485, -0.107392], [51.556617, -0.138578], [51.556794, -0.138427], [51.556794, -0.138427], [51.550649, -0.130888], [51.550013, -0.130482], [51.528645, -0.115787], [51.558615, -0.139795], [51.556797, -0.138571], [51.529913, -0.116311], [51.526263, -0.113002], [51.527742, -0.115536], [51.526915, -0.114417], [51.526265, -0.113146], [51.546204, -0.100494], [51.536419, -0.107102], [51.544339, -0.107495], [51.563219, -0.118398], [51.542436, -0.106564], [51.55941, -0.122017], [51.569641, -0.137613], [51.549204, -0.108014], [51.535629, -0.097186], [51.540954, -0.10951], [51.541485, -0.097807], [51.531188, -0.106166], [51.536248, -0.102062], [51.535117, -0.104417], [51.561666, -0.111248], [51.546963, -0.091809], [51.557661, -0.119493], [51.562246, -0.136328], [51.528649, -0.093728], [51.536831, -0.121505], [51.549343, -0.077862], [51.54216, -0.117392], [51.53182, -0.106284], [51.535117, -0.104417], [51.538535, -0.098939], [51.54207, -0.117395], [51.566012, -0.135597], [51.546701, -0.108983], [51.547551, -0.105919], [51.565364, -0.134469], [51.529126, -0.095438], [51.56645, -0.134858], [51.521437, -0.08711], [51.558189, -0.118749], [51.564234, -0.108833], [51.552032, -0.12737], [51.551382, -0.126098], [51.548194, -0.106758], [51.527463, -0.109348], [51.564616, -0.104633], [51.536842, -0.116602], [51.541569, -0.102995], [51.530083, -0.099003], [51.565362, -0.134325], [51.562016, -0.110656], [51.557956, -0.137946], [51.548102, -0.106617], [51.547549, -0.105775], [51.562915, -0.1275], [51.5636, -0.102944], [51.548546, -0.084098], [51.556004, -0.117109], [51.522268, -0.105094], [51.525424, -0.088961], [51.560108, -0.115063], [51.542598, -0.099923], [51.57087, -0.124431], [51.543877, -0.090063], [51.565364, -0.134469], [51.551382, -0.126098], [51.535224, -0.099942], [51.539635, -0.116919], [51.522906, -0.100023], [51.523036, -0.10809], [51.526308, -0.088059], [51.52058, -0.089741], [51.545241, -0.102121], [51.544993, -0.103429], [51.550856, -0.110109], [51.531542, -0.111342], [51.562639, -0.127078], [51.550856, -0.110109], [51.560108, -0.115063], [51.535555, -0.103677], [51.52367, -0.097252], [51.570102, -0.115804], [51.538664, -0.106865], [51.54676, -0.118211], [51.534622, -0.107177], [51.553979, -0.114163], [51.558887, -0.117422], [51.552355, -0.125049], [51.522404, -0.10235], [51.57078, -0.124435], [51.532535, -0.111589], [51.570452, -0.115213], [51.550679, -0.110261], [51.546438, -0.103802], [51.523152, -0.098571], [51.546526, -0.087068], [51.531539, -0.111198], [51.548735, -0.129236], [51.530759, -0.101858], [51.558226, -0.121056], [51.526308, -0.088059], [51.564179, -0.105372], [51.560056, -0.123001], [51.562018, -0.1108], [51.549764, -0.098182], [51.535855, -0.111163], [51.536774, -0.095696], [51.531721, -0.105711], [51.523036, -0.10809], [51.56189, -0.125233], [51.566201, -0.136167], [51.556884, -0.138423], [51.542562, -0.103242], [51.548557, -0.129388], [51.530667, -0.101718], [51.5736, -0.120855], [51.541577, -0.097947], [51.527401, -0.088879], [51.560712, -0.113451], [51.524417, -0.110051], [51.552326, -0.112068], [51.524504, -0.087702], [51.546348, -0.103806], [51.556974, -0.138419], [51.530761, -0.102002], [51.545587, -0.117971], [51.560108, -0.115063], [51.523027, -0.107514], [51.561339, -0.124535], [51.535022, -0.104132], [51.543601, -0.100747], [51.547057, -0.092093], [51.560108, -0.115063], [51.526247, -0.100893], [51.531776, -0.109169], [51.566452, -0.135002], [51.550092, -0.118507], [51.552134, -0.105729], [51.558196, -0.113556], [51.559012, -0.125208], [51.546251, -0.103377], [51.550766, -0.110113], [51.539243, -0.098188], [51.560196, -0.137422], [51.57177, -0.11891], [51.556094, -0.117105], [51.551076, -0.084857], [51.557664, -0.119637], [51.548822, -0.084519], [51.522268, -0.105094], [51.533354, -0.106653], [51.526357, -0.113286], [51.554622, -0.115002], [51.562452, -0.126653], [51.529162, -0.103222], [51.562792, -0.108604], [51.556313, -0.119548], [51.542586, -0.110308], [51.54553, -0.103263], [51.53191, -0.10628], [51.54644, -0.103946], [51.526488, -0.088052], [51.528408, -0.101091], [51.519968, -0.101875], [51.564134, -0.130624], [51.524437, -0.094625], [51.557629, -0.128727], [51.563471, -0.128487], [51.52469, -0.093605], [51.559318, -0.121877], [51.531872, -0.1207], [51.542469, -0.091997], [51.525334, -0.088965], [51.526036, -0.087927], [51.56227, -0.120889], [51.550946, -0.110105], [51.530761, -0.102002], [51.539068, -0.098484], [51.555552, -0.111357], [51.552177, -0.1252], [51.556702, -0.138286], [51.545889, -0.103248], [51.569083, -0.142109], [51.557751, -0.119489], [51.552295, -0.132552], [51.556186, -0.111619], [51.562106, -0.110653], [51.533076, -0.106087], [51.54667, -0.118215], [51.537792, -0.091904], [51.562534, -0.109336], [51.560973, -0.124117], [51.524461, -0.090587], [51.547557, -0.08414], [51.524417, -0.110051], [51.535523, -0.107284], [51.563851, -0.12977], [51.54644, -0.103946], [51.550811, -0.085157], [51.558396, -0.120472], [51.552419, -0.112208], [51.551292, -0.126102], [51.558228, -0.1212], [51.564475, -0.135083], [51.53743, -0.102878], [51.546791, -0.108979], [51.541117, -0.102869], [51.52973, -0.110552], [51.550806, -0.084869], [51.547274, -0.105498], [51.529027, -0.094866], [51.557295, -0.119075], [51.524414, -0.109907], [51.547551, -0.105919], [51.53624, -0.112733], [51.548332, -0.087569], [51.522278, -0.105671], [51.560382, -0.115341], [51.544693, -0.118297], [51.519824, -0.087466], [51.563125, -0.118113], [51.556944, -0.136545], [51.565364, -0.134469], [51.539723, -0.094563], [51.545889, -0.103248], [51.562536, -0.10948], [51.546578, -0.079277], [51.563471, -0.128487], [51.560242, -0.123426], [51.564151, -0.103642], [51.551105, -0.108801], [51.550196, -0.102636], [51.537303, -0.100577], [51.534852, -0.104716], [51.525592, -0.088234], [51.558855, -0.12103], [51.557664, -0.119637], [51.563943, -0.135537], [51.522266, -0.093851], [51.525021, -0.091861], [51.558403, -0.137784], [51.557841, -0.119485], [51.537884, -0.092044], [51.548326, -0.098242], [51.564134, -0.130624], [51.569605, -0.12405], [51.568971, -0.123788], [51.543782, -0.117613], [51.525339, -0.089253], [51.553635, -0.098454], [51.558765, -0.098672], [51.565364, -0.134469], [51.556002, -0.116964], [51.556792, -0.115778], [51.54653, -0.087356], [51.552574, -0.105133], [51.525419, -0.088673], [51.546717, -0.104367], [51.558537, -0.118014], [51.523843, -0.096812], [51.573513, -0.121003], [51.54943, -0.077714], [51.525502, -0.088237], [51.55609, -0.116816], [51.522156, -0.08708], [51.547185, -0.105502], [51.560108, -0.115063], [51.561984, -0.125518], [51.557571, -0.119496], [51.550487, -0.109547], [51.57352, -0.127064], [51.558449, -0.118162], [51.545889, -0.103248], [51.526467, -0.108957], [51.553951, -0.134936], [51.546831, -0.089218], [51.562549, -0.127082], [51.549936, -0.108849], [51.527403, -0.089023], [51.5227, -0.087346], [51.558228, -0.1212], [51.560652, -0.098594], [51.545571, -0.083646], [51.527009, -0.097978], [51.560973, -0.124117], [51.523291, -0.085014], [51.558224, -0.120912], [51.562384, -0.105591], [51.551382, -0.126098], [51.534444, -0.107328], [51.554709, -0.09812], [51.563782, -0.119817], [51.550766, -0.110113], [51.542506, -0.099783], [51.536752, -0.116606], [51.563309, -0.118394], [51.536537, -0.097724], [51.565368, -0.140385], [51.558672, -0.137773], [51.53347, -0.108234], [51.564614, -0.104488], [51.522121, -0.107119], [51.533394, -0.109102], [51.564614, -0.104488], [51.539636, -0.094711], [51.537038, -0.100876], [51.527099, -0.114697], [51.565627, -0.134026], [51.543782, -0.117613], [51.546048, -0.101943], [51.541514, -0.094056], [51.556131, -0.113785], [51.538095, -0.099534], [51.546526, -0.087068], [51.55737, -0.11258], [51.522248, -0.08722], [51.519727, -0.087038], [51.551649, -0.131569], [51.547609, -0.098416], [51.524165, -0.111214], [51.529703, -0.097721], [51.525837, -0.10336], [51.563598, -0.102799], [51.553124, -0.133816], [51.553473, -0.105096], [51.563137, -0.102097], [51.553237, -0.124003], [51.524524, -0.094477], [51.547062, -0.092382], [51.54667, -0.118215], [51.562108, -0.110797], [51.561799, -0.136491], [51.537787, -0.102719], [51.559966, -0.123004], [51.533396, -0.109246], [51.53408, -0.107055], [51.525334, -0.088965], [51.559408, -0.121873], [51.525424, -0.088961], [51.565441, -0.127973], [51.545979, -0.103244], [51.550121, -0.10913], [51.537151, -0.09121], [51.546922, -0.105945], [51.546903, -0.104792], [51.528106, -0.115809], [51.522123, -0.107263], [51.567224, -0.138289], [51.522404, -0.10235], [51.550487, -0.109547], [51.539495, -0.102648], [51.561445, -0.136794], [51.560475, -0.115481], [51.566362, -0.135006], [51.566561, -0.124897], [51.548194, -0.106758], [51.557645, -0.112857], [51.556617, -0.138578], [51.538232, -0.102413], [51.531542, -0.111342], [51.556707, -0.138574], [51.558855, -0.12103], [51.558364, -0.118454], [51.541428, -0.094348], [51.559456, -0.09143], [51.552781, -0.117963], [51.535472, -0.104113], [51.535647, -0.103818], [51.531383, -0.112646], [51.562781, -0.136018], [51.54207, -0.117395], [51.557919, -0.113134], [51.54681, -0.08244], [51.561677, -0.111969], [51.545724, -0.087534], [51.52859, -0.101228], [51.531012, -0.117563], [51.562544, -0.126794], [51.532739, -0.107543], [51.521434, -0.086966], [51.55049, -0.109691], [51.539585, -0.102645], [51.529703, -0.097721], [51.531231, -0.114382], [51.546426, -0.086495], [51.540906, -0.095379], [51.569685, -0.129098], [51.53405, -0.105182], [51.564006, -0.105812], [51.560606, -0.123699], [51.531228, -0.114238], [51.561532, -0.108512], [51.550121, -0.10913], [51.559132, -0.121452], [51.546258, -0.087223], [51.560108, -0.115063], [51.530388, -0.117877], [51.543964, -0.089915], [51.561709, -0.108361], [51.531368, -0.106158], [51.525412, -0.088241], [51.542696, -0.105976], [51.563746, -0.1064], [51.554832, -0.122494], [51.544582, -0.089168], [51.520117, -0.088895], [51.538273, -0.099383], [51.555915, -0.117112], [51.558762, -0.137769], [51.522027, -0.106834], [51.555546, -0.11655], [51.531535, -0.110909], [51.554979, -0.098109], [51.568333, -0.123237], [51.560973, -0.124117], [51.543946, -0.116597], [51.535292, -0.104121], [51.546667, -0.118071], [51.521527, -0.087106], [51.525753, -0.087073], [51.564328, -0.131482], [51.571388, -0.128739], [51.531675, -0.108453], [51.519557, -0.087621], [51.542158, -0.117248], [51.546667, -0.118071], [51.540393, -0.102611], [51.535115, -0.104273], [51.552754, -0.105126], [51.559321, -0.122021], [51.549284, -0.107434], [51.564521, -0.13234], [51.529916, -0.105354], [51.544361, -0.103311], [51.536184, -0.103651], [51.54708, -0.126996], [51.56405, -0.108552], [51.557014, -0.118365], [51.528827, -0.110301], [51.543782, -0.117613], [51.548669, -0.108325], [51.552047, -0.105877], [51.551382, -0.126098], [51.532092, -0.106417], [51.537792, -0.091904], [51.533626, -0.106786], [51.565009, -0.134772], [51.560973, -0.124117], [51.550118, -0.108986], [51.52267, -0.107673], [51.560112, -0.109725], [51.534666, -0.098812], [51.549851, -0.086928], [51.559926, -0.114927], [51.560148, -0.123141], [51.529002, -0.098904], [51.541485, -0.097807], [51.558855, -0.12103], [51.564356, -0.105221], [51.542831, -0.103231], [51.567879, -0.122967], [51.553046, -0.123289], [51.531012, -0.117563], [51.536245, -0.101918], [51.539494, -0.091544], [51.525145, -0.110597], [51.539243, -0.098188], [51.536363, -0.103644], [51.547551, -0.105919], [51.549277, -0.107001], [51.525419, -0.088673], [51.522508, -0.103211], [51.533708, -0.100726], [51.543066, -0.084473], [51.552421, -0.112352], [51.558944, -0.098665], [51.555372, -0.105738], [51.531765, -0.108449], [51.531144, -0.103428], [51.531321, -0.114379], [51.554488, -0.117892], [51.558627, -0.11801], [51.54653, -0.103942], [51.524052, -0.087577], [51.54792, -0.106481], [51.561417, -0.112557], [51.561429, -0.124531], [51.543172, -0.090958], [51.550297, -0.092246], [51.531686, -0.109173], [51.526536, -0.107656], [51.537472, -0.105472], [51.53529, -0.103977], [51.520361, -0.087299], [51.5648, -0.132905], [51.563558, -0.128339], [51.564703, -0.132476], [51.548054, -0.114841], [51.56536, -0.134181], [51.560196, -0.137422], [51.531834, -0.107148], [51.522031, -0.107122], [51.550858, -0.110253], [51.563943, -0.12991], [51.527311, -0.088882], [51.54952, -0.110886], [51.556276, -0.117242], [51.557571, -0.119496], [51.550215, -0.109414], [51.537446, -0.103887], [51.525918, -0.10278], [51.544429, -0.107491], [51.532361, -0.106405], [51.564006, -0.105812], [51.553383, -0.1051], [51.520878, -0.091458], [51.529516, -0.097296], [51.522738, -0.10075], [51.562103, -0.110508], [51.551653, -0.098248], [51.550121, -0.10913], [51.522491, -0.102202], [51.535382, -0.104117], [51.535737, -0.103814], [51.526944, -0.088465], [51.5602, -0.115204], [51.548099, -0.084261], [51.522494, -0.102346], [51.560108, -0.115063], [51.532577, -0.119806], [51.52682, -0.10851], [51.5631, -0.127781], [51.546528, -0.087212], [51.556794, -0.138427], [51.525419, -0.088673], [51.554253, -0.11444], [51.559592, -0.122154], [51.540641, -0.095679], [51.535946, -0.116783], [51.531746, -0.107296], [51.553325, -0.123855], [51.53734, -0.102882], [51.530856, -0.102287], [51.5337, -0.105773], [51.558855, -0.12103], [51.560108, -0.115063], [51.526467, -0.108957], [51.563823, -0.12804], [51.536096, -0.103799], [51.526036, -0.087927], [51.545709, -0.103255], [51.534602, -0.117127], [51.558046, -0.098702], [51.549546, -0.118096], [51.55361, -0.113601], [51.533343, -0.105932], [51.551868, -0.11151], [51.559065, -0.117271], [51.563833, -0.106252], [51.551114, -0.09827], [51.560108, -0.115063], [51.572418, -0.120038], [51.553147, -0.124006], [51.530083, -0.099003], [51.564042, -0.130483], [51.560053, -0.122856], [51.548757, -0.108177], [51.55499, -0.115564], [51.564093, -0.105664], [51.538923, -0.100653], [51.535765, -0.111167], [51.522116, -0.106831], [51.555282, -0.105742], [51.550856, -0.110109], [51.524788, -0.110756], [51.537435, -0.103167], [51.559323, -0.116539], [51.546474, -0.083897], [51.54552, -0.102686], [51.55694, -0.136257], [51.546058, -0.085933], [51.557645, -0.112857], [51.559231, -0.122025], [51.543875, -0.123378], [51.53173, -0.106288], [51.550556, -0.108246], [51.543782, -0.117613], [51.534532, -0.107181], [51.551382, -0.126098], [51.534442, -0.107184], [51.557224, -0.120232], [51.524482, -0.102984], [51.530374, -0.100288], [51.54952, -0.110886], [51.557241, -0.138264], [51.536248, -0.102062], [51.531769, -0.108737], [51.523325, -0.098131], [51.531962, -0.120696], [51.563485, -0.106988], [51.551382, -0.126098], [51.528653, -0.094016], [51.530669, -0.101862], [51.564521, -0.13234], [51.567542, -0.135679], [51.544695, -0.101711], [51.57096, -0.124427], [51.552352, -0.124904], [51.564441, -0.104929], [51.541759, -0.098084], [51.524605, -0.093897], [51.56899, -0.141969], [51.55187, -0.111654], [51.552783, -0.112481], [51.533468, -0.10809], [51.546159, -0.103237], [51.523615, -0.099416], [51.522185, -0.10553], [51.571178, -0.126872], [51.536599, -0.095992], [51.536842, -0.116602], [51.531834, -0.107148], [51.531475, -0.112786], [51.546346, -0.103661], [51.549723, -0.117945], [51.555661, -0.118133], [51.551499, -0.110948], [51.551114, -0.09827], [51.547551, -0.105919], [51.548012, -0.106621], [51.543174, -0.091102], [51.553186, -0.098472], [51.552573, -0.133118], [51.566853, -0.137583], [51.531604, -0.120855], [51.548596, -0.098231], [51.563493, -0.135556], [51.546956, -0.091376], [51.567267, -0.112892], [51.537766, -0.101422], [51.525767, -0.087938], [51.551114, -0.09827], [51.557735, -0.112853], [51.548912, -0.129085], [51.56798, -0.118057], [51.559498, -0.116243], [51.523239, -0.098423], [51.549271, -0.089981], [51.525679, -0.088086], [51.556087, -0.116672], [51.560108, -0.115063], [51.55947, -0.114513], [51.546494, -0.112886], [51.546627, -0.104371], [51.545963, -0.102235], [51.546053, -0.102231], [51.547062, -0.092382], [51.559378, -0.114372], [51.559192, -0.102838], [51.531999, -0.106276], [51.548824, -0.129232], [51.522123, -0.107263], [51.529521, -0.097584], [51.53739, -0.100429], [51.540463, -0.09583], [51.528169, -0.091874], [51.525679, -0.088086], [51.527401, -0.088879], [51.525504, -0.088381], [51.564614, -0.104488], [51.546457, -0.082888], [51.564614, -0.104488], [51.545753, -0.083783], [51.528349, -0.091866], [51.528169, -0.091874], [51.546294, -0.083904], [51.54934, -0.077718], [51.527881, -0.090733], [51.528842, -0.094585], [51.564522, -0.104348], [51.543066, -0.084473], [51.560744, -0.098734], [51.528552, -0.0933], [51.55982, -0.091703], [51.527495, -0.089163], [51.551618, -0.079497], [51.563316, -0.10209], [51.527491, -0.088875], [51.551433, -0.079217], [51.529034, -0.095298], [51.551528, -0.079501], [51.527861, -0.095059], [51.55635, -0.133107], [51.529797, -0.098005], [51.523843, -0.096812], [51.550121, -0.10913], [51.564008, -0.105957], [51.550737, -0.130741], [51.565747, -0.119015], [51.526117, -0.109548], [51.567134, -0.138293], [51.548335, -0.087713], [51.55542, -0.10314], [51.562188, -0.110216], [51.53173, -0.106288], [51.559237, -0.116831], [51.558399, -0.120616], [51.536233, -0.090095], [51.558489, -0.120613], [51.546472, -0.083753], [51.539678, -0.097305], [51.53994, -0.096862], [51.55138, -0.125954], [51.549705, -0.128042], [51.539363, -0.116786], [51.54823, -0.114545], [51.528455, -0.092871], [51.552778, -0.112193], [51.531081, -0.116263], [51.555477, -0.117852], [51.531539, -0.111198], [51.534127, -0.109937], [51.526944, -0.088465], [51.565553, -0.135039], [51.56729, -0.108706], [51.564616, -0.104633], [51.568309, -0.11054], [51.567567, -0.109127], [51.566555, -0.107726], [51.570556, -0.138586], [51.574964, -0.121809], [51.574964, -0.121809], [51.566827, -0.107859]],\n",
       "                {\n",
       "  &quot;minOpacity&quot;: 0.5,\n",
       "  &quot;maxZoom&quot;: 18,\n",
       "  &quot;radius&quot;: 25,\n",
       "  &quot;blur&quot;: 15,\n",
       "}\n",
       "            );\n",
       "        \n",
       "    \n",
       "            heat_map_9c2a3474a0a758a0ba3df1cf7ebfe7a5.addTo(map_4fcac21d90fdea28076c458c3dec73b4);\n",
       "        \n",
       "    \n",
       "            tile_layer_c50717574fbe9ebd7ba89409dae9dcce.addTo(map_4fcac21d90fdea28076c458c3dec73b4);\n",
       "        \n",
       "    \n",
       "            heat_map_9c2a3474a0a758a0ba3df1cf7ebfe7a5.addTo(map_4fcac21d90fdea28076c458c3dec73b4);\n",
       "        \n",
       "&lt;/script&gt;\n",
       "&lt;/html&gt;\" style=\"position:absolute;width:100%;height:100%;left:0;top:0;border:none !important;\" allowfullscreen webkitallowfullscreen mozallowfullscreen></iframe></div></div>"
      ],
      "text/plain": [
       "<folium.folium.Map at 0x17d1380ded0>"
      ]
     },
     "execution_count": 34,
     "metadata": {},
     "output_type": "execute_result"
    }
   ],
   "source": [
    "import folium\n",
    "from folium.plugins import HeatMap\n",
    "islington = data[data['District Area'] == 'Islington']\n",
    "isling_loc = list(zip(islington['Latitude'], islington['Longitude']))\n",
    "isling_map = folium.Map(location=[islington['Latitude'].mean(), islington['Longitude'].mean()], zoom_start=10)\n",
    "HeatMap(isling_loc).add_to(isling_map)\n",
    "isling_map.save('isling_heatmap.html')\n",
    "isling_map"
   ]
  },
  {
   "cell_type": "markdown",
   "id": "9e83d44f-67a0-42da-807f-6354e36c5a0d",
   "metadata": {},
   "source": [
    "<h1>Insight</h1>\n",
    "<h2>Base on the HeatMap in Islington shows a various Accidents, the heatmap shows the visual representation of accidents and it shows that their are too many accident near Victoria Tavern in Islington</h2>"
   ]
  },
  {
   "cell_type": "markdown",
   "id": "c0ea974d-2e8a-4d03-9b19-fe9fd70abd5f",
   "metadata": {},
   "source": [
    "<h1>Insight</h1>\n",
    "<h2>One of the Accidents happened near Victoria Tavern on LiverPool Road November 30, 2022,Elderly woman struck near junction of Liverpool Road and Richmond Avenue </h2>\n"
   ]
  },
  {
   "cell_type": "markdown",
   "id": "94f5d813-d4be-4211-bf0a-c2f7ea5730a6",
   "metadata": {},
   "source": [
    "<h1>Insight</h1>\n",
    "<h2>Outside Shu La La / Pera Schnitzel Garden, Upper Street, Islington, A three-vehicle collision resulted in one car mounting the pavement and crashing into the café’s outdoor seating area</h2>\n"
   ]
  },
  {
   "cell_type": "markdown",
   "id": "5a91b697-f145-413c-9f94-2f37ad160954",
   "metadata": {},
   "source": [
    "<h1>Insight</h1>\n",
    "<h2>Near Moonlight Supermarket, Holloway Road, just a short walk from Liverpool Road, A woman was found unresponsive on the pavement</h2>\n"
   ]
  },
  {
   "cell_type": "markdown",
   "id": "9101009c-363d-481d-acd5-40b8478dcafc",
   "metadata": {},
   "source": [
    "<h1>Insight</h1>\n",
    "<h2>On July 2021, Cyclist hit by van near Victoria Tavern causing serious leg injury, taken to Royal London Hospital</h2>\n"
   ]
  },
  {
   "cell_type": "code",
   "execution_count": 35,
   "id": "ad629b33-0c22-4136-ae7d-3f6297eacbaf",
   "metadata": {},
   "outputs": [
    {
     "data": {
      "text/html": [
       "<div style=\"width:100%;\"><div style=\"position:relative;width:100%;height:0;padding-bottom:60%;\"><span style=\"color:#565656\">Make this Notebook Trusted to load map: File -> Trust Notebook</span><iframe srcdoc=\"&lt;!DOCTYPE html&gt;\n",
       "&lt;html&gt;\n",
       "&lt;head&gt;\n",
       "    \n",
       "    &lt;meta http-equiv=&quot;content-type&quot; content=&quot;text/html; charset=UTF-8&quot; /&gt;\n",
       "    &lt;script src=&quot;https://cdn.jsdelivr.net/npm/leaflet@1.9.3/dist/leaflet.js&quot;&gt;&lt;/script&gt;\n",
       "    &lt;script src=&quot;https://code.jquery.com/jquery-3.7.1.min.js&quot;&gt;&lt;/script&gt;\n",
       "    &lt;script src=&quot;https://cdn.jsdelivr.net/npm/bootstrap@5.2.2/dist/js/bootstrap.bundle.min.js&quot;&gt;&lt;/script&gt;\n",
       "    &lt;script src=&quot;https://cdnjs.cloudflare.com/ajax/libs/Leaflet.awesome-markers/2.0.2/leaflet.awesome-markers.js&quot;&gt;&lt;/script&gt;\n",
       "    &lt;link rel=&quot;stylesheet&quot; href=&quot;https://cdn.jsdelivr.net/npm/leaflet@1.9.3/dist/leaflet.css&quot;/&gt;\n",
       "    &lt;link rel=&quot;stylesheet&quot; href=&quot;https://cdn.jsdelivr.net/npm/bootstrap@5.2.2/dist/css/bootstrap.min.css&quot;/&gt;\n",
       "    &lt;link rel=&quot;stylesheet&quot; href=&quot;https://netdna.bootstrapcdn.com/bootstrap/3.0.0/css/bootstrap-glyphicons.css&quot;/&gt;\n",
       "    &lt;link rel=&quot;stylesheet&quot; href=&quot;https://cdn.jsdelivr.net/npm/@fortawesome/fontawesome-free@6.2.0/css/all.min.css&quot;/&gt;\n",
       "    &lt;link rel=&quot;stylesheet&quot; href=&quot;https://cdnjs.cloudflare.com/ajax/libs/Leaflet.awesome-markers/2.0.2/leaflet.awesome-markers.css&quot;/&gt;\n",
       "    &lt;link rel=&quot;stylesheet&quot; href=&quot;https://cdn.jsdelivr.net/gh/python-visualization/folium/folium/templates/leaflet.awesome.rotate.min.css&quot;/&gt;\n",
       "    \n",
       "            &lt;meta name=&quot;viewport&quot; content=&quot;width=device-width,\n",
       "                initial-scale=1.0, maximum-scale=1.0, user-scalable=no&quot; /&gt;\n",
       "            &lt;style&gt;\n",
       "                #map_a157bffb00ce80adc2e501921102fc84 {\n",
       "                    position: relative;\n",
       "                    width: 100.0%;\n",
       "                    height: 100.0%;\n",
       "                    left: 0.0%;\n",
       "                    top: 0.0%;\n",
       "                }\n",
       "                .leaflet-container { font-size: 1rem; }\n",
       "            &lt;/style&gt;\n",
       "\n",
       "            &lt;style&gt;html, body {\n",
       "                width: 100%;\n",
       "                height: 100%;\n",
       "                margin: 0;\n",
       "                padding: 0;\n",
       "            }\n",
       "            &lt;/style&gt;\n",
       "\n",
       "            &lt;style&gt;#map {\n",
       "                position:absolute;\n",
       "                top:0;\n",
       "                bottom:0;\n",
       "                right:0;\n",
       "                left:0;\n",
       "                }\n",
       "            &lt;/style&gt;\n",
       "\n",
       "            &lt;script&gt;\n",
       "                L_NO_TOUCH = false;\n",
       "                L_DISABLE_3D = false;\n",
       "            &lt;/script&gt;\n",
       "\n",
       "        \n",
       "    &lt;script src=&quot;https://cdn.jsdelivr.net/gh/python-visualization/folium@main/folium/templates/leaflet_heat.min.js&quot;&gt;&lt;/script&gt;\n",
       "&lt;/head&gt;\n",
       "&lt;body&gt;\n",
       "    \n",
       "    \n",
       "            &lt;div class=&quot;folium-map&quot; id=&quot;map_a157bffb00ce80adc2e501921102fc84&quot; &gt;&lt;/div&gt;\n",
       "        \n",
       "&lt;/body&gt;\n",
       "&lt;script&gt;\n",
       "    \n",
       "    \n",
       "            var map_a157bffb00ce80adc2e501921102fc84 = L.map(\n",
       "                &quot;map_a157bffb00ce80adc2e501921102fc84&quot;,\n",
       "                {\n",
       "                    center: [53.775276947708434, -2.701084513880888],\n",
       "                    crs: L.CRS.EPSG3857,\n",
       "                    ...{\n",
       "  &quot;zoom&quot;: 10,\n",
       "  &quot;zoomControl&quot;: true,\n",
       "  &quot;preferCanvas&quot;: false,\n",
       "}\n",
       "\n",
       "                }\n",
       "            );\n",
       "\n",
       "            \n",
       "\n",
       "        \n",
       "    \n",
       "            var tile_layer_22243dbd77f0b3b404ca83df494e206d = L.tileLayer(\n",
       "                &quot;https://tile.openstreetmap.org/{z}/{x}/{y}.png&quot;,\n",
       "                {\n",
       "  &quot;minZoom&quot;: 0,\n",
       "  &quot;maxZoom&quot;: 19,\n",
       "  &quot;maxNativeZoom&quot;: 19,\n",
       "  &quot;noWrap&quot;: false,\n",
       "  &quot;attribution&quot;: &quot;\\u0026copy; \\u003ca href=\\&quot;https://www.openstreetmap.org/copyright\\&quot;\\u003eOpenStreetMap\\u003c/a\\u003e contributors&quot;,\n",
       "  &quot;subdomains&quot;: &quot;abc&quot;,\n",
       "  &quot;detectRetina&quot;: false,\n",
       "  &quot;tms&quot;: false,\n",
       "  &quot;opacity&quot;: 1,\n",
       "}\n",
       "\n",
       "            );\n",
       "        \n",
       "    \n",
       "            tile_layer_22243dbd77f0b3b404ca83df494e206d.addTo(map_a157bffb00ce80adc2e501921102fc84);\n",
       "        \n",
       "    \n",
       "            var heat_map_7078082bcf996fc2c40908294fc77c49 = L.heatLayer(\n",
       "                [[53.755289, -2.688539], [53.759664, -2.693616], [53.765242, -2.70812], [53.769076, -2.698171], [53.757345, -2.706015], [53.76024, -2.687255], [53.755057, -2.712954], [53.75667, -2.69842], [53.756353, -2.706606], [53.76516, -2.691431], [53.756224, -2.682336], [53.758553, -2.69921], [53.760356, -2.69833], [53.769206, -2.691194], [53.759616, -2.686334], [53.75789, -2.720131], [53.756939, -2.682954], [53.768945, -2.705148], [53.763848, -2.700663], [53.767158, -2.703298], [53.755053, -2.713561], [53.76501, -2.716915], [53.769067, -2.699688], [53.763083, -2.708539], [53.75915, -2.704681], [53.757793, -2.690855], [53.75997, -2.702874], [53.757534, -2.704502], [53.762682, -2.700189], [53.758793, -2.719388], [53.765697, -2.691743], [53.760044, -2.705606], [53.763054, -2.698071], [53.748449, -2.720728], [53.767693, -2.704065], [53.759115, -2.695276], [53.758897, -2.686474], [53.764155, -2.709619], [53.758381, -2.697994], [53.758932, -2.695879], [53.755689, -2.697191], [53.757072, -2.706618], [53.760634, -2.696969], [53.765289, -2.700232], [53.762471, -2.690173], [53.75947, -2.696192], [53.757545, -2.717698], [53.758157, -2.705422], [53.767418, -2.704971], [53.759704, -2.686791], [53.770651, -2.70548], [53.762332, -2.698514], [53.756849, -2.682952], [53.758099, -2.699961], [53.765601, -2.708278], [53.7593, -2.69452], [53.751116, -2.710612], [53.756046, -2.682029], [53.756511, -2.710248], [53.759087, -2.715449], [53.761642, -2.693649], [53.768285, -2.710295], [53.757475, -2.683569], [53.761515, -2.700018], [53.75999, -2.699537], [53.753779, -2.716269], [53.762635, -2.708228], [53.763984, -2.723117], [53.764396, -2.699155], [53.784007, -2.711623], [53.754408, -2.71628], [53.761117, -2.691061], [53.755955, -2.68218], [53.75772, -2.703292], [53.758697, -2.70528], [53.758191, -2.699659], [53.76039, -2.707887], [53.757619, -2.72043], [53.757444, -2.7045], [53.75917, -2.685872], [53.763636, -2.690799], [53.758194, -2.699204], [53.761642, -2.693649], [53.763321, -2.698531], [53.763057, -2.697616], [53.769174, -2.696656], [53.76811, -2.709534], [53.766554, -2.69904], [53.759385, -2.69528], [53.767782, -2.704218], [53.76024, -2.687255], [53.758383, -2.697539], [53.765656, -2.698873], [53.760473, -2.693629], [53.759115, -2.695276], [53.774517, -2.689764], [53.758457, -2.684799], [53.770023, -2.705318], [53.769206, -2.691194], [53.762963, -2.698221], [53.758156, -2.705574], [53.763669, -2.700509], [53.768977, -2.699687], [53.766179, -2.701612], [53.762989, -2.693823], [53.763613, -2.694743], [53.757626, -2.704048], [53.767915, -2.71211], [53.767659, -2.70983], [53.757009, -2.701915], [53.758256, -2.719075], [53.760472, -2.693781], [53.757883, -2.690857], [53.75725, -2.706924], [53.767914, -2.712261], [53.763924, -2.703092], [53.759209, -2.69467], [53.761119, -2.721248], [53.759061, -2.704679], [53.76006, -2.702876], [53.759748, -2.71], [53.762289, -2.705947], [53.761116, -2.691213], [53.760501, -2.704248], [53.760134, -2.705607], [53.760969, -2.70107], [53.760849, -2.706226], [53.758436, -2.719078], [53.759696, -2.703628], [53.765943, -2.695844], [53.757883, -2.690857], [53.758515, -2.705732], [53.758172, -2.702844], [53.760143, -2.70409], [53.761412, -2.670891], [53.76514, -2.710242], [53.762381, -2.690172], [53.75697, -2.708588], [53.763363, -2.706723], [53.762558, -2.706103], [53.760681, -2.704251], [53.758694, -2.705886], [53.761394, -2.705325], [53.761305, -2.705172], [53.762069, -2.697448], [53.76121, -2.721098], [53.757344, -2.706167], [53.767182, -2.699202], [53.760134, -2.705607], [53.761501, -2.702293], [53.759024, -2.695577], [53.755869, -2.697042], [53.774683, -2.707672], [53.758457, -2.684799], [53.759705, -2.686639], [53.763913, -2.704912], [53.762881, -2.697006], [53.762288, -2.706098], [53.760044, -2.705606], [53.758566, -2.697087], [53.765069, -2.691581], [53.755123, -2.716898], [53.756684, -2.695994], [53.757004, -2.717992], [53.761118, -2.69091], [53.760043, -2.705757], [53.753361, -2.680014], [53.760061, -2.702724], [53.763924, -2.703092], [53.758194, -2.699204], [53.760681, -2.704251], [53.762828, -2.690483], [53.749908, -2.686479], [53.762694, -2.698217], [53.756422, -2.710095], [53.757003, -2.718144], [53.757249, -2.707076], [53.760365, -2.696813], [53.767738, -2.696328], [53.760087, -2.698174], [53.755956, -2.682028], [53.76229, -2.705795], [53.759208, -2.694822], [53.756046, -2.682029], [53.758247, -2.705424], [53.762302, -2.703672], [53.759308, -2.693155], [53.757762, -2.711483], [53.765077, -2.720709], [53.759061, -2.704679], [53.774196, -2.714037], [53.760081, -2.714556], [53.75993, -2.694379], [53.761027, -2.691212], [53.773641, -2.685805], [53.757429, -2.691607], [53.768395, -2.691484], [53.773658, -2.713724], [53.764888, -2.643488], [53.765638, -2.654271], [53.768285, -2.710295], [53.760848, -2.706378], [53.777676, -2.68754], [53.765857, -2.663528], [53.765688, -2.661553], [53.761354, -2.681054], [53.812483, -2.758428], [53.791249, -2.702941], [53.809912, -2.723604], [53.769206, -2.691194], [53.795877, -2.695428], [53.79125, -2.638427], [53.783743, -2.679747], [53.778288, -2.690585], [53.823143, -2.735377], [53.772371, -2.655741], [53.77013, -2.67103], [53.766631, -2.68569], [53.779765, -2.651455], [53.764973, -2.6444], [53.769853, -2.672239], [53.765184, -2.655174], [53.768666, -2.691337], [53.804512, -2.629214], [53.772734, -2.687307], [53.763751, -2.686402], [53.79477, -2.635747], [53.763917, -2.688832], [53.77194, -2.668783], [53.800255, -2.635375], [53.774908, -2.652139], [53.766921, -2.682054], [53.768299, -2.676918], [53.76327, -2.676078], [53.764968, -2.64531], [53.780492, -2.698057], [53.78043, -2.677417], [53.768761, -2.705904], [53.878831, -2.648735], [53.879811, -2.6667], [53.769216, -2.689525], [53.790981, -2.638423], [53.765614, -2.65867], [53.777403, -2.688142], [53.762901, -2.677741], [53.765857, -2.663528], [53.777563, -2.659767], [53.773028, -2.66698], [53.765302, -2.682331], [53.803418, -2.681431], [53.765228, -2.679599], [53.774683, -2.707672], [53.782744, -2.665464], [53.778803, -2.710169], [53.788551, -2.687717], [53.768127, -2.67555], [53.774517, -2.689916], [53.767463, -2.681608], [53.802218, -2.71755], [53.778524, -2.696355], [53.788211, -2.668435], [53.763087, -2.676682], [53.815893, -2.73039], [53.770291, -2.705474], [53.804505, -2.63058], [53.780701, -2.677269], [53.76246, -2.676217], [53.781801, -2.657254], [53.760332, -2.686953], [53.807802, -2.730553], [53.767746, -2.679336], [53.769502, -2.686647], [53.772039, -2.683047], [53.786753, -2.671902], [53.804154, -2.678406], [53.777545, -2.709996], [53.784723, -2.6488], [53.7649, -2.673981], [53.770141, -2.684989], [53.804404, -2.632704], [53.763741, -2.672294], [53.796332, -2.694525], [53.791378, -2.696264], [53.778119, -2.688761], [53.790708, -2.655723], [53.770651, -2.70548], [53.770124, -2.672092], [53.770038, -2.671332], [53.791559, -2.696116], [53.801412, -2.71708], [53.765058, -2.645311], [53.765649, -2.652299], [53.790743, -2.697316], [53.783674, -2.659863], [53.808478, -2.722972], [53.765638, -2.654271], [53.780791, -2.677271], [53.782793, -2.704166], [53.760241, -2.687103], [53.769862, -2.670722], [53.775129, -2.692809], [53.785084, -2.648502], [53.780702, -2.677117], [53.778119, -2.688761], [53.815179, -2.729618], [53.784111, -2.709348], [53.806285, -2.633796], [53.849697, -2.698904], [53.846613, -2.688213], [53.770051, -2.684987], [53.762808, -2.678347], [53.765153, -2.660786], [53.811451, -2.642682], [53.774877, -2.68977], [53.769862, -2.670571], [53.769872, -2.684833], [53.76148, -2.690461], [53.773202, -2.683977], [53.765082, -2.673529], [53.772243, -2.678802], [53.782093, -2.6694], [53.770042, -2.686504], [53.780808, -2.657997], [53.770141, -2.684837], [53.784098, -2.680511], [53.768855, -2.705147], [53.805005, -2.670979], [53.765695, -2.66034], [53.768051, -2.688899], [53.761228, -2.671647], [53.78253, -2.655444], [53.779997, -2.65844], [53.763535, -2.676993], [53.762023, -2.689863], [53.766121, -2.680524], [53.784011, -2.680054], [53.828708, -2.608305], [53.810263, -2.646461], [53.770943, -2.686064], [53.8044, -2.633312], [53.805418, -2.661268], [53.762023, -2.689863], [53.802039, -2.717395], [53.778428, -2.681785], [53.821349, -2.734738], [53.764968, -2.64531], [53.809912, -2.723604], [53.769079, -2.666007], [53.770124, -2.655858], [53.791335, -2.688218], [53.829659, -2.615764], [53.822781, -2.658503], [53.768978, -2.683908], [53.768946, -2.704996], [53.778037, -2.702872], [53.83234, -2.652727], [53.760792, -2.68514], [53.772511, -2.67911], [53.791425, -2.688068], [53.765947, -2.66353], [53.761842, -2.690011], [53.766658, -2.680988], [53.769067, -2.699688], [53.804602, -2.629215], [53.792131, -2.70584], [53.769084, -2.696806], [53.760792, -2.68514], [53.76834, -2.685566], [53.770862, -2.668614], [53.772371, -2.655741], [53.766301, -2.680527], [53.76112, -2.690606], [53.773292, -2.683978], [53.763473, -2.671986], [53.79935, -2.716286], [53.782455, -2.652711], [53.780793, -2.676815], [53.784723, -2.6488], [53.786412, -2.700129], [53.772419, -2.679412], [53.772767, -2.681542], [53.782649, -2.666525], [53.776048, -2.689334], [53.770829, -2.658448], [53.804072, -2.627385], [53.823484, -2.6614], [53.772176, -2.690484], [53.769207, -2.691042], [53.809642, -2.723599], [53.776026, -2.661261], [53.785392, -2.705424], [53.777947, -2.702871], [53.767391, -2.67842], [53.791341, -2.654974], [53.809104, -2.723438], [53.780791, -2.677119], [53.770944, -2.685912], [53.766596, -2.691758], [53.772371, -2.655741], [53.768617, -2.668275], [53.800247, -2.716453], [53.766142, -2.676883], [53.7848, -2.683558], [53.765622, -2.657153], [53.777277, -2.709688], [53.79616, -2.708489], [53.767193, -2.665673], [53.762023, -2.689863], [53.765857, -2.663528], [53.777545, -2.709996], [53.753283, -2.67789], [53.786591, -2.700283], [53.760789, -2.685595], [53.773347, -2.690048], [53.764367, -2.672759], [53.804793, -2.62694], [53.853877, -2.691068], [53.799259, -2.716436], [53.76639, -2.68068], [53.796405, -2.727622], [53.7663, -2.680678], [53.767995, -2.667051], [53.780881, -2.677272], [53.769219, -2.688919], [53.766391, -2.680528], [53.798974, -2.70383], [53.774011, -2.65167], [53.792053, -2.703866], [53.82071, -2.69113], [53.809912, -2.723604], [53.832653, -2.738279], [53.815272, -2.729012], [53.767793, -2.686771], [53.781301, -2.698071], [53.768618, -2.668123], [53.770829, -2.658448], [53.779144, -2.698035], [53.791007, -2.713563], [53.778029, -2.688759], [53.791335, -2.688218], [53.765573, -2.666103], [53.771757, -2.669387], [53.780042, -2.69805], [53.765745, -2.651238], [53.768341, -2.669333], [53.822095, -2.66867], [53.775474, -2.66368], [53.7649, -2.673981], [53.782836, -2.665162], [53.77747, -2.676458], [53.798004, -2.715808], [53.765727, -2.654424], [53.780086, -2.658593], [53.769068, -2.683909], [53.761802, -2.681364], [53.769867, -2.685591], [53.780791, -2.677271], [53.778029, -2.688759], [53.790263, -2.70247], [53.772768, -2.68139], [53.777765, -2.687693], [53.791883, -2.686709], [53.765614, -2.65867], [53.77014, -2.685141], [53.77013, -2.67103], [53.777677, -2.687388], [53.802794, -2.711486], [53.799456, -2.69822], [53.765375, -2.669286], [53.784543, -2.648949], [53.820702, -2.737613], [53.765121, -2.650167], [53.786501, -2.700282], [53.780702, -2.677117], [53.765695, -2.722692], [53.77706, -2.73093], [53.769854, -2.733384], [53.761835, -2.765252], [53.760046, -2.720319], [53.769153, -2.745054], [53.781214, -2.756802], [53.812483, -2.758428], [53.762094, -2.738255], [53.796663, -2.71457], [53.760002, -2.7276], [53.772453, -2.719773], [53.799261, -2.716133], [53.76266, -2.748428], [53.764074, -2.723119], [53.761251, -2.758111], [53.770427, -2.727932], [53.788022, -2.731576], [53.80638, -2.785044], [53.787955, -2.712753], [53.78361, -2.761702], [53.768276, -2.726832], [53.774773, -2.707674], [53.774091, -2.746052], [53.781267, -2.790343], [53.773658, -2.713724], [53.768856, -2.704995], [53.776024, -2.708909], [53.76279, -2.727344], [53.784034, -2.751389], [53.766123, -2.726188], [53.773674, -2.726015], [53.784937, -2.750798], [53.781623, -2.719475], [53.762901, -2.738572], [53.799798, -2.716446], [53.790769, -2.723274], [53.784773, -2.718922], [53.768624, -2.698619], [53.761671, -2.790581], [53.773658, -2.713724], [53.762155, -2.742958], [53.793317, -2.732882], [53.772083, -2.721588], [53.77168, -2.728712], [53.790343, -2.748769], [53.768997, -2.726541], [53.761483, -2.791792], [53.759814, -2.757934], [53.810714, -2.75384], [53.77979, -2.740083], [53.784755, -2.751098], [53.770784, -2.728393], [53.77665, -2.709374], [53.772176, -2.721134], [53.762694, -2.728405], [53.772176, -2.721134], [53.769535, -2.726702], [53.779181, -2.751302], [53.773195, -2.715992], [53.776971, -2.730776], [53.790962, -2.750298], [53.759734, -2.727443], [53.761409, -2.747344], [53.768098, -2.726526], [53.766968, -2.763828], [53.768378, -2.753992], [53.788926, -2.715805], [53.788926, -2.715805], [53.764987, -2.720859], [53.77027, -2.753267], [53.780597, -2.725679], [53.767346, -2.7608], [53.771509, -2.712322], [53.783872, -2.71921], [53.762607, -2.727948], [53.78937, -2.716723], [53.788459, -2.748128], [53.765077, -2.720709], [53.776128, -2.721505], [53.820939, -2.742934], [53.777498, -2.732758], [53.787866, -2.712751], [53.769104, -2.70864], [53.789622, -2.74906], [53.777001, -2.769018], [53.762499, -2.730828], [53.782972, -2.719346], [53.776349, -2.71468], [53.769481, -2.735653], [53.775331, -2.748957], [53.776734, -2.740029], [53.773658, -2.713724], [53.764762, -2.728289], [53.761813, -2.754633], [53.780727, -2.719156], [53.770021, -2.705621], [53.784773, -2.718922], [53.786578, -2.717586], [53.762606, -2.7281], [53.767064, -2.762768], [53.778056, -2.729733], [53.76838, -2.753688], [53.762786, -2.728103], [53.767774, -2.735472], [53.779011, -2.735213], [53.792148, -2.733014], [53.768186, -2.726831], [53.771899, -2.722343], [53.769908, -2.724585], [53.809957, -2.745626], [53.769481, -2.735653], [53.79698, -2.721711], [53.768823, -2.710608], [53.784057, -2.747746], [53.763816, -2.721142], [53.768858, -2.704691], [53.767914, -2.712261], [53.763805, -2.723114], [53.800515, -2.760641], [53.786578, -2.717586], [53.776968, -2.71636], [53.777545, -2.709996], [53.77329, -2.715235], [53.771419, -2.712321], [53.772308, -2.729026], [53.769718, -2.71123], [53.797647, -2.715346], [53.797038, -2.727026], [53.768292, -2.753383], [53.773588, -2.75454], [53.79139, -2.78188], [53.775882, -2.717556], [53.798007, -2.715352], [53.78944, -2.74936], [53.789551, -2.716575], [53.777719, -2.740653], [53.77706, -2.73093], [53.765695, -2.722692], [53.785802, -2.712109], [53.761555, -2.738245], [53.783559, -2.711464], [53.773658, -2.713724], [53.800039, -2.721156], [53.779251, -2.710329], [53.7687, -2.759915], [53.792443, -2.713891], [53.786757, -2.717741], [53.766968, -2.763828], [53.762797, -2.740846], [53.761346, -2.728381], [53.767998, -2.757323], [53.761762, -2.73385], [53.769951, -2.732323], [53.770784, -2.728393], [53.766082, -2.717995], [53.779539, -2.751612], [53.779079, -2.724136], [53.769794, -2.713659], [53.777899, -2.725936], [53.767005, -2.728934], [53.761334, -2.759326], [53.789441, -2.749208], [53.777166, -2.713329], [53.797379, -2.71519], [53.787952, -2.757378], [53.767566, -2.725455], [53.777546, -2.709845], [53.774773, -2.707674], [53.822282, -2.799773], [53.766966, -2.764131], [53.779079, -2.724136], [53.770175, -2.754176], [53.804111, -2.760555], [53.797737, -2.715348], [53.79745, -2.718227], [53.776128, -2.721505], [53.782931, -2.711302], [53.796036, -2.714256], [53.773658, -2.713724], [53.768395, -2.751261], [53.761522, -2.728991], [53.770651, -2.70548], [53.777545, -2.709996], [53.771274, -2.736443], [53.812303, -2.758425], [53.770783, -2.728545], [53.790073, -2.748764], [53.770409, -2.730814], [53.777545, -2.709996], [53.773643, -2.716304], [53.763155, -2.726441], [53.773568, -2.713723], [53.773658, -2.713724], [53.773196, -2.715841], [53.770131, -2.732175], [53.780052, -2.741301], [53.815834, -2.782487], [53.773463, -2.760152], [53.794083, -2.739879], [53.795879, -2.679336], [53.799867, -2.689269], [53.845216, -2.726949], [53.799867, -2.689269], [53.801623, -2.934517], [53.801202, -2.691568], [53.799867, -2.689269], [53.803365, -2.819153], [53.782021, -2.649821], [53.798728, -2.72994], [53.799956, -2.720092], [53.805757, -2.696655], [53.798452, -2.685298], [53.791731, -2.665758], [53.782021, -2.649821], [53.797872, -2.737668], [53.79349, -2.672769], [53.79349, -2.672769], [53.788888, -2.659793], [53.801133, -2.718746], [53.814493, -2.709102], [53.795879, -2.679336], [53.799804, -2.773382], [53.776833, -2.645188], [53.795879, -2.679336], [53.766275, -2.636075], [53.827561, -2.718287], [53.774333, -2.641963], [53.804953, -2.695882], [53.807441, -2.700783], [53.805769, -2.694681], [53.799867, -2.689269], [53.804953, -2.695882], [53.799223, -2.765932], [53.827561, -2.718287], [53.827561, -2.718287], [53.808794, -2.699894], [53.770579, -2.638113], [53.776833, -2.645188], [53.81227, -2.704964], [53.798062, -2.736001], [53.836349, -2.72178], [53.806006, -2.902118], [53.804953, -2.695882], [53.782021, -2.649821], [53.776833, -2.645188], [53.776833, -2.645188], [53.798062, -2.736001], [53.80324, -2.811103], [53.774333, -2.641963], [53.808794, -2.699894], [53.797429, -2.751021], [53.754137, -2.716427], [53.762727, -2.707926], [53.768947, -2.704845], [53.775237, -2.689624], [53.758971, -2.704678], [53.757531, -2.704957], [53.758285, -2.699054], [53.75752, -2.691457], [53.768856, -2.704995], [53.764486, -2.699157], [53.767159, -2.703146], [53.759023, -2.695729], [53.764921, -2.716762], [53.758062, -2.691011], [53.764169, -2.707192], [53.762517, -2.697759], [53.762, -2.693806], [53.764918, -2.717369], [53.764846, -2.714333], [53.7618, -2.697292], [53.768376, -2.710145], [53.762815, -2.708231], [53.762787, -2.697612], [53.759359, -2.69983], [53.758899, -2.716811], [53.75924, -2.704682], [53.757493, -2.711327], [53.762639, -2.70747], [53.755693, -2.711751], [53.760136, -2.720321], [53.763413, -2.698229], [53.75897, -2.704829], [53.75772, -2.703443], [53.756511, -2.710248], [53.76742, -2.704667], [53.754475, -2.704906], [53.764486, -2.699157], [53.764922, -2.71661], [53.763977, -2.709312], [53.759923, -2.695592], [53.749943, -2.711351], [53.757519, -2.691609], [53.758256, -2.719075], [53.757348, -2.720577], [53.764273, -2.704766], [53.76115, -2.700922], [53.768946, -2.704996], [53.754766, -2.716437], [53.758609, -2.705127], [53.768852, -2.705753], [53.76219, -2.707462], [53.768665, -2.706964], [53.77079, -2.697137], [53.765691, -2.708279], [53.765166, -2.720862], [53.760504, -2.703793], [53.762378, -2.7061], [53.774684, -2.70752], [53.768486, -2.691334], [53.756046, -2.682029], [53.756512, -2.710097], [53.757532, -2.704805], [53.764974, -2.707812], [53.761979, -2.697447], [53.760186, -2.696658], [53.754045, -2.71688], [53.758922, -2.697548], [53.793431, -2.71406], [53.764332, -2.710077], [53.758192, -2.699507], [53.760681, -2.704251], [53.757625, -2.7042], [53.760134, -2.705607], [53.881592, -2.653341], [53.765081, -2.720102], [53.761208, -2.690911], [53.756961, -2.694785], [53.762401, -2.702156], [53.759062, -2.719544], [53.760299, -2.692716], [53.758987, -2.717116], [53.749797, -2.690117], [53.757521, -2.691306], [53.755876, -2.711299], [53.758346, -2.719077], [53.764724, -2.704622], [53.764396, -2.699155], [53.751178, -2.715315], [53.757718, -2.703747], [53.756734, -2.70282], [53.760415, -2.70364], [53.760784, -2.701978], [53.759425, -2.703927], [53.748857, -2.712546], [53.762726, -2.708078], [53.774695, -2.690222], [53.764486, -2.699157], [53.784994, -2.648501], [53.804401, -2.63316], [53.75936, -2.714847], [53.760564, -2.693479], [53.770733, -2.691371], [53.770741, -2.705482], [53.767872, -2.70422], [53.759206, -2.695125], [53.756147, -2.711001], [53.757151, -2.692968], [53.756512, -2.710097], [53.764915, -2.717824], [53.750097, -2.684814], [53.756562, -2.686133], [53.76751, -2.704669], [53.759909, -2.697867], [53.753779, -2.716269], [53.758474, -2.697389], [53.757476, -2.683418], [53.769068, -2.699536], [53.753092, -2.679858], [53.760186, -2.696658], [53.754321, -2.715823], [53.760061, -2.702724], [53.762877, -2.697613], [53.759067, -2.688146], [53.761471, -2.692129], [53.761297, -2.691064], [53.758566, -2.697087], [53.758474, -2.697389], [53.760512, -2.702428], [53.764397, -2.699004], [53.762401, -2.702156], [53.758473, -2.69754], [53.756512, -2.710097], [53.76015, -2.702877], [53.761208, -2.690911], [53.764014, -2.702942], [53.756046, -2.682029], [53.765007, -2.717522], [53.76024, -2.702879], [53.760415, -2.70364], [53.766675, -2.709055], [53.758158, -2.705271], [53.756512, -2.710097], [53.755392, -2.717055], [53.754873, -2.713557], [53.76373, -2.690042], [53.761564, -2.706996], [53.75915, -2.704681], [53.760563, -2.693631], [53.76115, -2.700922], [53.760061, -2.702724], [53.756878, -2.709041], [53.761331, -2.700621], [53.759465, -2.71227], [53.768946, -2.704996], [53.759553, -2.712575], [53.760046, -2.720319], [53.760134, -2.705607], [53.763447, -2.722805], [53.758337, -2.705425], [53.76121, -2.690608], [53.766803, -2.702533], [53.763172, -2.70854], [53.762291, -2.705643], [53.762647, -2.706256], [53.753262, -2.712469], [53.761209, -2.690759], [53.761573, -2.705328], [53.762881, -2.697006], [53.757623, -2.704503], [53.755057, -2.712954], [53.75752, -2.691457], [53.762705, -2.696245], [53.759937, -2.693166], [53.760415, -2.70364], [53.765378, -2.700234], [53.762069, -2.697448], [53.758382, -2.69769], [53.760027, -2.693167], [53.758284, -2.699206], [53.757811, -2.703141], [53.770737, -2.690764], [53.756265, -2.706301], [53.752519, -2.716399], [53.781982, -2.656953], [53.780597, -2.710655], [53.804806, -2.720631], [53.768516, -2.686176], [53.793959, -2.636191], [53.770219, -2.671183], [53.787586, -2.699086], [53.769067, -2.699688], [53.792793, -2.684751], [53.769493, -2.688164], [53.775845, -2.661561], [53.772858, -2.681391], [53.765768, -2.663375], [53.768801, -2.667519], [53.770219, -2.671183], [53.780087, -2.658441], [53.763177, -2.676684], [53.780938, -2.650715], [53.774377, -2.682933], [53.781165, -2.674697], [53.775972, -2.670972], [53.83382, -2.738452], [53.775297, -2.679155], [53.777767, -2.687389], [53.76568, -2.66307], [53.777942, -2.688151], [53.774495, -2.709035], [53.78247, -2.697938], [53.767046, -2.691614], [53.770117, -2.657071], [53.830319, -2.737782], [53.854152, -2.690161], [53.783554, -2.697046], [53.76382, -2.674115], [53.850759, -2.670191], [53.793518, -2.683548], [53.774119, -2.664872], [53.770141, -2.684989], [53.773412, -2.646198], [53.769296, -2.691196], [53.78162, -2.657403], [53.783914, -2.6969], [53.773293, -2.683826], [53.775867, -2.689483], [53.802932, -2.718473], [53.77013, -2.67103], [53.800339, -2.716151], [53.78489, -2.683408], [53.762096, -2.677121], [53.815894, -2.730238], [53.879991, -2.666703], [53.774728, -2.668524], [53.763069, -2.679868], [53.781164, -2.674848], [53.772462, -2.655591], [53.785978, -2.697541], [53.771277, -2.690621], [53.852487, -2.69819], [53.765669, -2.665042], [53.763384, -2.687609], [53.765058, -2.645311], [53.778119, -2.688761], [53.773204, -2.683673], [53.76639, -2.68068], [53.774254, -2.688698], [53.780881, -2.67712], [53.784981, -2.683257], [53.780791, -2.677119], [53.773196, -2.715841], [53.792245, -2.68626], [53.76507, -2.69143], [53.774119, -2.664872], [53.781321, -2.662862], [53.765719, -2.655941], [53.783356, -2.65227], [53.76547, -2.668377], [53.770402, -2.670579], [53.765948, -2.663378], [53.770382, -2.705324], [53.770382, -2.705324], [53.767812, -2.683434], [53.777685, -2.686022], [53.760792, -2.68514], [53.777636, -2.709846], [53.770219, -2.671032], [53.775445, -2.652602], [53.772189, -2.656193], [53.771193, -2.673778], [53.767257, -2.686307], [53.766572, -2.680228], [53.804538, -2.720474], [53.765719, -2.655941], [53.80649, -2.662499], [53.821617, -2.657725], [53.763439, -2.678053], [53.770944, -2.685912], [53.783584, -2.659862], [53.778032, -2.67237], [53.765683, -2.662464], [53.7607, -2.685442], [53.767818, -2.682372], [53.768486, -2.691334], [53.797423, -2.707751], [53.791972, -2.65468], [53.778426, -2.682089], [53.767908, -2.682373], [53.769313, -2.688162], [53.765698, -2.691592], [53.83759, -2.739278], [53.777855, -2.687694], [53.762747, -2.688964], [53.765563, -2.667923], [53.763624, -2.676994], [53.799065, -2.70368], [53.761356, -2.68075], [53.788416, -2.647339], [53.783219, -2.660919], [53.764824, -2.671552], [53.774517, -2.689764], [53.850948, -2.668674], [53.765693, -2.660643], [53.778285, -2.659172], [53.777408, -2.70271], [53.778014, -2.659471], [53.786488, -2.717585], [53.765593, -2.678543], [53.802218, -2.71755], [53.769036, -2.704998], [53.779948, -2.650851], [53.796753, -2.714572], [53.763452, -2.675626], [53.778428, -2.681785], [53.778468, -2.690436], [53.772177, -2.690333], [53.763473, -2.671986], [53.804401, -2.63316], [53.783446, -2.652271], [53.760699, -2.685594], [53.764299, -2.684742], [53.803599, -2.681131], [53.765008, -2.670645], [53.774868, -2.691287], [53.770737, -2.690764], [53.841302, -2.657577], [53.777101, -2.67797], [53.780845, -2.651168], [53.791516, -2.687918], [53.805253, -2.721094], [53.764076, -2.676698], [53.781254, -2.67485], [53.777998, -2.662354], [53.798168, -2.703361], [53.793082, -2.6969], [53.767818, -2.682372], [53.770957, -2.683637], [53.778029, -2.688759], [53.854152, -2.690161], [53.792699, -2.685356], [53.767509, -2.689346], [53.765465, -2.669287], [53.78, -2.657833], [53.805097, -2.670525], [53.772086, -2.690483], [53.778336, -2.682239], [53.77013, -2.67103], [53.778206, -2.689217], [53.760882, -2.685142], [53.762096, -2.677121], [53.832139, -2.63996], [53.765734, -2.65321], [53.789015, -2.700779], [53.769304, -2.674051], [53.765058, -2.645311], [53.769684, -2.670264], [53.795877, -2.695428], [53.775044, -2.691897], [53.784801, -2.683406], [53.758378, -2.682826], [53.770686, -2.683936], [53.775867, -2.689483], [53.803621, -2.708463], [53.760792, -2.68514], [53.765228, -2.646982], [53.803316, -2.63451], [53.786409, -2.700584], [53.781282, -2.653603], [53.82094, -2.742782], [53.765161, -2.691279], [53.777798, -2.697557], [53.779254, -2.678763], [53.762579, -2.68699], [53.850451, -2.677027], [53.810002, -2.723605], [53.788593, -2.664342], [53.765948, -2.663378], [53.770219, -2.671183], [53.778426, -2.697719], [53.766481, -2.68053], [53.822182, -2.669279], [53.769151, -2.669194], [53.772447, -2.690337], [53.768481, -2.676466], [53.783833, -2.679748], [53.777049, -2.655055], [53.776408, -2.689188], [53.770107, -2.690906], [53.769776, -2.685893], [53.793251, -2.714057], [53.836155, -2.738797], [53.762024, -2.689711], [53.859721, -2.658778], [53.779245, -2.696064], [53.765845, -2.681733], [53.809955, -2.73135], [53.781254, -2.67485], [53.824953, -2.671906], [53.785803, -2.711957], [53.770141, -2.684989], [53.778127, -2.702874], [53.764664, -2.683838], [53.806506, -2.722027], [53.781621, -2.657251], [53.768176, -2.682681], [53.781098, -2.654359], [53.853971, -2.69031], [53.769867, -2.685743], [53.78274, -2.697791], [53.777636, -2.709846], [53.775387, -2.694786], [53.791256, -2.654062], [53.833055, -2.653498], [53.798606, -2.689856], [53.766208, -2.68098], [53.774256, -2.688394], [53.775595, -2.657916], [53.797828, -2.715197], [53.765058, -2.645311], [53.776048, -2.689334], [53.787166, -2.7094], [53.772069, -2.677737], [53.780087, -2.658441], [53.772507, -2.679717], [53.791427, -2.687764], [53.770219, -2.671183], [53.777291, -2.660067], [53.76592, -2.684313], [53.778817, -2.692263], [53.76924, -2.669347], [53.777832, -2.707118], [53.770141, -2.684989], [52.553865761110956, -1.431210368502073], [53.773993, -2.687176], [53.778642, -2.691501], [53.799059, -2.719773], [53.762003, -2.677575], [53.76639, -2.68068], [53.762902, -2.67759], [53.763636, -2.690799], [53.758224, -2.724384], [53.773749, -2.713574], [53.773749, -2.713574], [53.779791, -2.739931], [53.777059, -2.71621], [53.76117, -2.727772], [53.765256, -2.720864], [53.78622, -2.717428], [53.767625, -2.75944], [53.792533, -2.713893], [53.784343, -2.745171], [53.796708, -2.765583], [53.78302, -2.711303], [53.788647, -2.717318], [53.7628, -2.740391], [53.772333, -2.678804], [53.762695, -2.728253], [53.762679, -2.730832], [53.770806, -2.709579], [53.762708, -2.740844], [53.785702, -2.743374], [53.764803, -2.73633], [53.770784, -2.728241], [53.778478, -2.734293], [53.757005, -2.717841], [53.791455, -2.713723], [53.770784, -2.728241], [53.768555, -2.7103], [53.777546, -2.709845], [53.774867, -2.706916], [53.772177, -2.720982], [53.768646, -2.739887], [53.764764, -2.77107], [53.765785, -2.722542], [53.770807, -2.739318], [53.771546, -2.706102], [53.788043, -2.757076], [53.780817, -2.719006], [53.779268, -2.737342], [53.76188, -2.729149], [53.809735, -2.737876], [53.762708, -2.740844], [53.779879, -2.740236], [53.767915, -2.71211], [53.76421, -2.773335], [53.761528, -2.742644], [53.779268, -2.737342], [53.780196, -2.761336], [53.76818, -2.756871], [53.770345, -2.711544], [53.794084, -2.739727], [53.794083, -2.739879], [53.768813, -2.741862], [53.777277, -2.709688], [53.778986, -2.724589], [53.761551, -2.738852], [53.783559, -2.711464], [53.776651, -2.709223], [53.828346, -2.736988], [53.768375, -2.710297], [53.792121, -2.751837], [53.774684, -2.70752], [53.779966, -2.740693], [53.771989, -2.722345], [53.772681, -2.741475], [53.75771, -2.720128], [53.828256, -2.737138], [53.768459, -2.72638], [53.780816, -2.719157], [53.776651, -2.709223], [53.780727, -2.719156], [53.787474, -2.718057], [53.793579, -2.776911], [53.768649, -2.739432], [53.779181, -2.751302], [53.766759, -2.724986], [53.76976, -2.734141], [53.770783, -2.728545], [53.790289, -2.713248], [53.795923, -2.71805], [53.797201, -2.714883], [53.771327, -2.712774], [53.776434, -2.715441], [53.791141, -2.750453], [53.790379, -2.713249], [53.770555, -2.721561], [53.766436, -2.718912], [53.768648, -2.739583], [53.761537, -2.741127], [53.789442, -2.749057], [53.770649, -2.720956], [53.768946, -2.704996], [53.773196, -2.715841], [53.776651, -2.709223], [53.761569, -2.73597], [53.762499, -2.730828], [53.786669, -2.746882], [53.768812, -2.742014], [53.761527, -2.728081], [53.763987, -2.722662], [53.770428, -2.72778], [53.780143, -2.741151], [53.783063, -2.719196], [53.773967, -2.707053], [53.768755, -2.706966], [53.795669, -2.730342], [53.771268, -2.707463], [53.775062, -2.748801], [53.776077, -2.730002], [53.767832, -2.725914], [53.772266, -2.720984], [53.764947, -2.770618], [53.767625, -2.75944], [53.758553, -2.758366], [53.77412, -2.755764], [53.76139, -2.792245], [53.76929, -2.707581], [53.785114, -2.751256], [53.775065, -2.748345], [53.762887, -2.740847], [53.766854, -2.724229], [53.784632, -2.741989], [53.777259, -2.712723], [53.787059, -2.712282], [53.81564, -2.770788], [53.788468, -2.717315], [53.76865, -2.73928], [53.773659, -2.713573], [53.759644, -2.727442], [53.768648, -2.739583], [53.773748, -2.713726], [53.769144, -2.746571], [53.766587, -2.723769], [53.768899, -2.742622], [53.786668, -2.717588], [53.774684, -2.70752], [53.770345, -2.711544], [53.771618, -2.724159], [53.768756, -2.706662], [53.769766, -2.733079], [53.77041, -2.730662], [53.766083, -2.717844], [53.770783, -2.728545], [53.772668, -2.728881], [53.771957, -2.727503], [53.778344, -2.726703], [53.766492, -2.724678], [53.763844, -2.746022], [53.767361, -2.714528], [53.799818, -2.785074], [53.762798, -2.740694], [53.786759, -2.746884], [53.798726, -2.759243], [53.791097, -2.713413], [53.768565, -2.708631], [53.770958, -2.714285], [53.770649, -2.720956], [53.763471, -2.748139], [53.797827, -2.715349], [53.77674, -2.709376], [53.794329, -2.714075], [53.768576, -2.751113], [53.782032, -2.740881], [53.788288, -2.732187], [53.762798, -2.740694], [53.758798, -2.71863], [53.768576, -2.751113], [53.771047, -2.714439], [53.767915, -2.71211], [53.774976, -2.748192], [53.784863, -2.718771], [53.793992, -2.740029], [53.802433, -2.797422], [53.789739, -2.71506], [53.8301, -2.617442], [53.798011, -2.683773], [53.847542, -2.728661], [53.823434, -2.717001], [53.823434, -2.717001], [53.79792, -2.684075], [53.798018, -2.757408], [53.811026, -2.702513], [53.774511, -2.642421], [53.789337, -2.6598], [53.805716, -2.703639], [53.826125, -2.717958], [53.779069, -2.647195], [53.794114, -2.67369], [53.776835, -2.644885], [53.805577, -2.696652], [53.794908, -2.676284], [53.792174, -2.66698], [53.792174, -2.666828], [53.766453, -2.636533], [53.801048, -2.717833], [53.798689, -2.765011], [53.800213, -2.722222], [53.790847, -2.663012], [53.802722, -2.69296], [53.800034, -2.722067], [53.782021, -2.649821], [53.808794, -2.699894], [53.796233, -2.680404], [53.778174, -2.646575], [53.824331, -2.71732], [53.792706, -2.668202], [53.799108, -2.769726], [53.780678, -2.648889], [53.799462, -2.727523], [53.828546, -2.718911], [53.797387, -2.682852], [53.840379, -2.724129], [53.82003, -2.71512], [53.786134, -2.653831], [53.788894, -2.658731], [53.788983, -2.658732], [53.756354, -2.706454], [53.763214, -2.716733], [53.757439, -2.705259], [53.758474, -2.697389], [53.762552, -2.722183], [53.758814, -2.685108], [53.759925, -2.710458], [53.760096, -2.696657], [53.75469, -2.714161], [53.758725, -2.685106], [53.751084, -2.71592], [53.760176, -2.698327], [53.762378, -2.7061], [53.759469, -2.711663], [53.759705, -2.686488], [53.754724, -2.69308], [53.76024, -2.687255], [53.756163, -2.692952], [53.765136, -2.695527], [53.764653, -2.701284], [53.756314, -2.682185], [53.757533, -2.704654], [53.758566, -2.697087], [53.758436, -2.719078], [53.762697, -2.69761], [53.762291, -2.705643], [53.759754, -2.693618], [53.757285, -2.716177], [53.759206, -2.695125], [53.762787, -2.697612], [53.765467, -2.700539], [53.760027, -2.693167], [53.765077, -2.720709], [53.764039, -2.698694], [53.757991, -2.718312], [53.761262, -2.697131], [53.768049, -2.704678], [53.757884, -2.690705], [53.760134, -2.705607], [53.758647, -2.698605], [53.757891, -2.719979], [53.770181, -2.693638], [53.75819, -2.699811], [53.756117, -2.700838], [53.762605, -2.698064], [53.760134, -2.705607], [53.760096, -2.696657], [53.759025, -2.695426], [53.760681, -2.704251], [53.762787, -2.697612], [53.762606, -2.697912], [53.764614, -2.692636], [53.764013, -2.703093], [53.757721, -2.70314], [53.758113, -2.697686], [53.758793, -2.719388], [53.760044, -2.705606], [53.755867, -2.681875], [53.760134, -2.705607], [53.760344, -2.700453], [53.756314, -2.682185], [53.762697, -2.69761], [53.766644, -2.699041], [53.759514, -2.703928], [53.769178, -2.696049], [53.759438, -2.686028], [53.762696, -2.697762], [53.761573, -2.705328], [53.7593, -2.69452], [53.753149, -2.71641], [53.758787, -2.705281], [53.757519, -2.691609], [53.763146, -2.697769], [53.759555, -2.712272], [53.759465, -2.71227], [53.762608, -2.697457], [53.760563, -2.693631], [53.765078, -2.720557], [53.760936, -2.691362], [53.764397, -2.699004], [53.75967, -2.708026], [53.762284, -2.706857], [53.758383, -2.697539], [53.759908, -2.698019], [53.760418, -2.687561], [53.761291, -2.692126], [53.756777, -2.69554], [53.768847, -2.691188], [53.763798, -2.709158], [53.763503, -2.69823], [53.760813, -2.696972], [53.761571, -2.69031], [53.759376, -2.712117], [53.760134, -2.705607], [53.762854, -2.701557], [53.758436, -2.719078], [53.765858, -2.663377], [53.76866, -2.707723], [53.760134, -2.705607], [53.76006, -2.702876], [53.760441, -2.699241], [53.759973, -2.686795], [53.762617, -2.69594], [53.759389, -2.694522], [53.769068, -2.699536], [53.757362, -2.703134], [53.762587, -2.701097], [53.768946, -2.704996], [53.762069, -2.697448], [53.758474, -2.697389], [53.765691, -2.708279], [53.762794, -2.696398], [53.757677, -2.695252], [53.765078, -2.720557], [53.758969, -2.704981], [53.760773, -2.688477], [53.762378, -2.7061], [53.757435, -2.706017], [53.760186, -2.696658], [53.765289, -2.700232], [53.756314, -2.682185], [53.75694, -2.682802], [53.758989, -2.716813], [53.762697, -2.69761], [53.765046, -2.695525], [53.762881, -2.696855], [53.762697, -2.69761], [53.761306, -2.70502], [53.768946, -2.704996], [53.756057, -2.710999], [53.767779, -2.704673], [53.760894, -2.698642], [53.758285, -2.699054], [53.75687, -2.694935], [53.755512, -2.712052], [53.757718, -2.703747], [53.768486, -2.691334], [53.769174, -2.696807], [53.760848, -2.706378], [53.759207, -2.694974], [53.757437, -2.705714], [53.766336, -2.705559], [53.757534, -2.704502], [53.761212, -2.690304], [53.757624, -2.704352], [53.759299, -2.694672], [53.757519, -2.691609], [53.761654, -2.706998], [53.759778, -2.720011], [53.759061, -2.704527], [53.756314, -2.682185], [53.764486, -2.699157], [53.758474, -2.697389], [53.759908, -2.698019], [53.791964, -2.703712], [53.782835, -2.665314], [53.781254, -2.67485], [53.790435, -2.639629], [53.772507, -2.679717], [53.792245, -2.68626], [53.76326, -2.677899], [53.770219, -2.671032], [53.784362, -2.649098], [53.765556, -2.685066], [53.797827, -2.715349], [53.765788, -2.691593], [53.792972, -2.684754], [53.765565, -2.667468], [53.76683, -2.682356], [53.785802, -2.712109], [53.778426, -2.697719], [53.780612, -2.677116], [53.804449, -2.720321], [53.765696, -2.660188], [53.802218, -2.71755], [53.802147, -2.634492], [53.76639, -2.68068], [53.772672, -2.666367], [53.76683, -2.682356], [53.820543, -2.734269], [53.768217, -2.69133], [53.796663, -2.71457], [53.765718, -2.656092], [53.76796, -2.673271], [53.802218, -2.71755], [53.773659, -2.713573], [53.771196, -2.657088], [53.775082, -2.685373], [53.764367, -2.672759], [53.772735, -2.687155], [53.804596, -2.630278], [53.762901, -2.677741], [53.776048, -2.689334], [53.766573, -2.680076], [53.765161, -2.691279], [53.799364, -2.698674], [53.786219, -2.702402], [53.821261, -2.734433], [53.768479, -2.676921], [53.877943, -2.663172], [53.769069, -2.683758], [53.774517, -2.689764], [53.82135, -2.734587], [53.782464, -2.667433], [53.763728, -2.674569], [53.7613, -2.690609], [53.791097, -2.713413], [53.769152, -2.669042], [53.795798, -2.693605], [53.762901, -2.677741], [53.778337, -2.666001], [53.767766, -2.675847], [53.785209, -2.706028], [53.77303, -2.682608], [53.761209, -2.690759], [53.777766, -2.687541], [53.769427, -2.684067], [53.773206, -2.68337], [53.765948, -2.663378], [53.782583, -2.67821], [53.770219, -2.671032], [53.777034, -2.657786], [53.770959, -2.667402], [53.776477, -2.660964], [53.809823, -2.723451], [53.761209, -2.690759], [53.781254, -2.67485], [53.769394, -2.673901], [53.770036, -2.671635], [53.762023, -2.689863], [53.782015, -2.650883], [53.763384, -2.687609], [53.806365, -2.759381], [53.773558, -2.652421], [53.766208, -2.68098], [53.842539, -2.62796], [53.769579, -2.672994], [53.775442, -2.669446], [53.769056, -2.701509], [53.830001, -2.619112], [53.783171, -2.653329], [53.763657, -2.67123], [53.761377, -2.67711], [53.782555, -2.667131], [53.810539, -2.723918], [53.767046, -2.691766], [53.769174, -2.696656], [53.765788, -2.691593], [53.791099, -2.71311], [53.770944, -2.685912], [53.776048, -2.689334], [53.760879, -2.685597], [53.770049, -2.685291], [53.769172, -2.697111], [53.77079, -2.697137], [53.785802, -2.712109], [53.773196, -2.715841], [53.786782, -2.698313], [53.76577, -2.663072], [53.761545, -2.679085], [53.765465, -2.669287], [53.761863, -2.686371], [53.769313, -2.688162], [53.770141, -2.684989], [53.768481, -2.676466], [53.769296, -2.691196], [53.764368, -2.672607], [53.762168, -2.680308], [53.76695, -2.692674], [53.767209, -2.678873], [53.77123, -2.683034], [53.761123, -2.69], [53.767766, -2.691474], [53.774774, -2.707522], [53.786502, -2.70013], [53.765058, -2.645311], [53.762168, -2.680308], [53.77615, -2.687211], [53.765719, -2.655941], [53.763452, -2.675626], [53.792904, -2.696593], [53.760882, -2.685142], [53.769174, -2.696807], [53.79125, -2.70279], [53.762443, -2.679251], [53.763384, -2.687609], [53.770128, -2.70274], [53.770944, -2.685912], [53.767209, -2.678873], [53.792127, -2.706448], [53.769296, -2.691196], [53.76157, -2.690462], [53.764004, -2.673511], [53.775003, -2.683399], [53.770863, -2.700022], [53.765565, -2.66762], [53.761645, -2.677266], [53.782109, -2.698084], [53.762902, -2.67759], [53.763728, -2.674569], [53.765754, -2.681883], [53.762202, -2.690017], [53.772507, -2.679717], [53.763367, -2.690643], [53.76639, -2.68068], [53.772914, -2.687158], [53.769296, -2.691196], [53.770741, -2.705482], [53.769029, -2.674957], [53.763636, -2.690799], [53.765663, -2.666104], [53.778425, -2.697871], [53.77079, -2.697137], [53.769395, -2.673749], [53.773142, -2.678817], [53.76572, -2.655789], [53.765594, -2.678391], [53.791609, -2.702948], [53.767027, -2.679325], [53.778426, -2.697719], [53.761545, -2.679085], [53.769746, -2.691051], [53.768481, -2.676466], [53.765788, -2.691593], [53.764237, -2.679887], [53.769804, -2.726859], [53.781193, -2.745723], [53.770784, -2.728393], [53.762902, -2.73842], [53.767547, -2.713621], [53.78302, -2.711303], [53.794084, -2.739727], [53.770346, -2.711392], [53.778388, -2.734291], [53.768946, -2.704996], [53.769809, -2.71108], [53.769964, -2.744765], [53.779078, -2.724287], [53.770784, -2.728393], [53.784448, -2.757012], [53.795291, -2.733372], [53.769108, -2.723054], [53.768851, -2.705905], [53.765768, -2.663375], [53.768376, -2.710145], [53.774774, -2.707522], [53.7681, -2.726223], [53.810204, -2.749275], [53.767361, -2.714679], [53.80988, -2.757925], [53.765079, -2.720406], [53.768576, -2.751113], [53.770292, -2.705322], [53.777854, -2.733371], [53.76687, -2.750779], [53.771525, -2.724613], [53.769036, -2.704998], [53.784277, -2.711628], [53.789805, -2.748456], [53.782107, -2.743311], [53.770958, -2.714285], [53.784773, -2.718922], [53.764928, -2.730567], [53.767915, -2.71211], [53.783716, -2.744705], [53.76945, -2.710922], [53.777546, -2.709845], [53.769151, -2.745357], [53.761335, -2.800587], [53.764076, -2.722816], [53.780816, -2.719157], [53.795669, -2.730342], [53.785514, -2.744737], [53.784904, -2.784036], [53.762708, -2.740844], [53.765169, -2.720407], [53.762121, -2.733856], [53.76881, -2.742469], [53.777816, -2.709849], [53.794073, -2.755971], [53.784401, -2.778411], [53.767535, -2.759438], [53.787908, -2.74994], [53.762797, -2.740846], [53.78613, -2.717427], [53.758314, -2.724385], [53.790828, -2.713409], [53.759689, -2.72001], [53.767625, -2.75944], [53.791322, -2.721007], [53.761835, -2.765252], [53.774679, -2.708279], [53.769851, -2.762666], [53.78631, -2.71743], [53.776372, -2.710887], [53.765958, -2.723758], [53.785385, -2.750957], [53.777612, -2.728815], [53.77142, -2.712169], [53.776613, -2.715595], [53.758435, -2.71923], [53.774268, -2.746359], [53.77478, -2.765032], [53.778354, -2.71001], [53.798812, -2.715973], [53.768649, -2.739432], [53.760542, -2.727457], [53.774133, -2.724506], [53.762708, -2.740692], [53.762797, -2.740846], [53.775063, -2.748649], [53.776971, -2.730776], [53.769761, -2.733989], [53.772266, -2.720984], [53.77366, -2.713421], [53.764412, -2.755741], [53.780841, -2.773034], [53.799527, -2.716745], [53.783063, -2.719196], [53.757611, -2.721643], [53.774554, -2.714195], [53.782198, -2.74316], [53.767914, -2.712261], [53.775063, -2.748649], [53.766886, -2.733787], [53.792417, -2.718141], [53.761441, -2.756598], [53.769574, -2.735048], [53.764875, -2.724498], [53.763764, -2.744352], [53.770957, -2.714437], [53.775136, -2.765493], [53.762705, -2.741299], [53.787058, -2.712434], [53.767903, -2.75808], [53.777546, -2.709845], [53.766315, -2.724219], [53.763697, -2.74071], [53.771154, -2.726579], [53.760093, -2.72745], [53.764513, -2.724795], [53.791051, -2.750451], [53.764847, -2.729049], [53.76838, -2.753688], [53.761294, -2.793153], [53.773479, -2.71357], [53.769812, -2.725493], [53.765785, -2.722542], [53.762708, -2.740844], [53.782519, -2.749389], [53.777772, -2.717284], [53.76652, -2.704804], [53.794084, -2.739727], [53.762608, -2.727796], [53.769019, -2.737617], [53.782912, -2.743932], [53.774774, -2.707522], [53.774326, -2.707211], [53.765166, -2.720862], [53.809733, -2.73818], [53.767915, -2.71211], [53.778444, -2.710012], [53.771817, -2.705803], [53.78302, -2.711303], [53.763968, -2.740563], [53.773659, -2.713573], [53.763698, -2.740558], [53.784815, -2.711789], [53.780322, -2.741306], [53.774774, -2.707522], [53.778623, -2.710166], [53.771154, -2.726579], [53.773659, -2.713573], [53.76267, -2.732348], [53.768005, -2.712111], [53.761387, -2.7927], [53.782198, -2.74316], [53.773286, -2.715842], [53.779792, -2.739779], [53.778444, -2.710012], [53.786578, -2.717586], [53.794509, -2.714078], [53.773748, -2.713726], [53.777636, -2.709846], [53.769153, -2.745054], [53.795577, -2.730796], [53.762873, -2.785446], [53.765756, -2.712377], [53.784343, -2.745171], [53.762999, -2.73736], [53.770679, -2.71595], [53.763529, -2.72402], [53.782614, -2.719188], [53.769854, -2.733384], [53.796664, -2.714419], [53.772584, -2.712947], [53.763698, -2.740558], [53.763805, -2.722963], [53.796681, -2.726564], [53.764839, -2.730414], [53.768766, -2.704993], [53.781905, -2.670914], [53.804539, -2.720323], [53.816956, -2.702916], [53.82431, -2.73555], [53.799188, -2.697912], [53.774755, -2.663669], [53.818031, -2.733465], [53.810002, -2.723605], [53.7991, -2.697607], [53.791052, -2.7503], [53.77803, -2.688608], [53.768084, -2.667205], [53.778008, -2.660533], [53.77013, -2.67103], [53.777675, -2.687691], [53.794386, -2.704512], [53.799188, -2.697912], [53.781098, -2.654359], [53.822332, -2.658344], [53.783578, -2.661076], [53.777856, -2.687542], [53.778614, -2.680726], [53.77013, -2.67103], [53.782831, -2.697641], [53.88053, -2.650282], [53.808783, -2.731937], [53.77862, -2.695294], [53.792063, -2.68656], [53.788046, -2.712602], [53.792992, -2.696898], [53.799439, -2.716288], [53.798923, -2.697149], [53.780866, -2.679852], [53.777857, -2.687391], [53.863171, -2.652446], [53.781556, -2.668936], [53.854152, -2.690161], [53.777653, -2.659617], [53.810124, -2.747603], [53.804401, -2.63316], [53.800358, -2.712963], [53.777563, -2.659767], [53.771667, -2.669386], [53.811623, -2.609728], [53.778425, -2.698023], [53.795011, -2.735189], [53.832304, -2.721711], [53.77013, -2.67103], [53.770829, -2.658448], [53.840749, -2.626413], [53.793687, -2.701009], [53.798726, -2.759243], [53.831277, -2.771227], [53.796197, -2.686628], [53.780174, -2.690767], [53.790808, -2.637206], [53.777386, -2.659158], [53.767461, -2.665981], [53.800335, -2.716758], [53.813878, -2.792931], [53.781621, -2.657251], [53.78953, -2.749362], [53.787344, -2.646108], [53.785235, -2.653817], [53.77042, -2.651007], [53.771875, -2.647843], [53.837527, -2.749459], [53.796663, -2.71457], [53.773937, -2.665173], [53.794939, -2.702092], [53.799081, -2.71613], [53.82256, -2.665943], [53.818661, -2.7034], [53.799439, -2.716288], [53.77889, -2.679516], [53.789016, -2.700627], [53.801414, -2.716777], [53.799454, -2.698524], [53.784101, -2.680056], [53.822089, -2.669733], [53.768707, -2.668276], [53.802502, -2.715125], [53.780627, -2.690168], [53.770308, -2.671336], [53.771281, -2.674083], [53.783831, -2.680052], [53.823525, -2.637246], [53.793992, -2.740029], [53.775844, -2.661713], [53.787956, -2.712601], [53.775594, -2.658067], [53.780522, -2.677115], [53.775977, -2.670061], [53.810002, -2.723605], [53.774517, -2.689764], [53.810726, -2.643886], [53.814322, -2.793698], [53.775754, -2.661712], [53.777766, -2.687541], [53.810374, -2.750797], [53.787863, -2.757225], [53.766364, -2.636229], [53.766275, -2.636075], [53.815297, -2.709875], [53.776031, -2.643962], [53.799074, -2.686523], [53.839215, -2.723349], [53.794373, -2.675516], [53.766273, -2.636531], [53.807275, -2.69835], [53.796502, -2.680408], [53.806018, -2.698177], [53.80005, -2.688816], [53.801915, -2.692643], [53.798183, -2.75984], [53.808794, -2.699894], [53.842709, -2.725233], [53.789251, -2.659192], [53.773619, -2.641194], [53.819315, -2.714348], [53.787292, -2.65567], [53.772905, -2.640121], [53.79349, -2.672769], [53.83823, -2.722876], [53.806471, -2.697577], [53.826125, -2.717958], [53.789963, -2.660417], [53.766273, -2.636531], [53.823165, -2.716844], [53.831506, -2.719874], [53.822358, -2.716527], [53.795528, -2.677963], [53.787562, -2.655674], [53.779336, -2.647806], [53.798983, -2.686825], [53.756119, -2.700535], [53.826676, -2.759748], [53.829871, -2.737622], [53.765058, -2.645311], [53.765695, -2.66034], [53.759923, -2.695592], [53.76231, -2.702306], [53.757623, -2.704503], [53.75819, -2.699811], [53.756582, -2.682493], [53.757297, -2.683263], [53.76006, -2.702876], [53.765011, -2.701593], [53.762775, -2.714905], [53.769172, -2.697111], [53.754652, -2.705364], [53.758038, -2.695106], [53.760983, -2.698644], [53.756824, -2.702822], [53.758346, -2.719077], [53.76033, -2.687256], [53.767689, -2.704672], [53.762085, -2.694718], [53.76121, -2.690608], [53.759745, -2.710606], [53.759024, -2.695577], [53.753654, -2.691545], [53.76124, -2.700923], [53.76006, -2.702876], [53.758615, -2.719233], [53.759465, -2.71227], [53.765078, -2.720557], [53.75353, -2.712776], [53.763034, -2.71673], [53.756716, -2.690534], [53.758697, -2.705431], [53.760563, -2.693631], [53.767551, -2.697539], [53.756046, -2.682029], [53.752725, -2.712004], [53.764885, -2.707659], [53.757156, -2.707529], [53.755689, -2.697191], [53.760257, -2.699845], [53.763185, -2.706417], [53.768228, -2.704833], [53.761059, -2.701072], [53.759335, -2.703925], [53.752993, -2.712312], [53.761484, -2.705326], [53.758883, -2.719389], [53.756487, -2.699024], [53.760724, -2.696971], [53.758697, -2.705431], [53.75946, -2.71318], [53.756314, -2.682185], [53.760151, -2.702725], [53.761299, -2.721251], [53.760186, -2.696658], [53.758903, -2.685261], [53.755855, -2.714788], [53.765161, -2.691279], [53.758089, -2.68631], [53.75345, -2.680167], [53.755512, -2.712052], [53.764066, -2.709466], [53.75697, -2.708588], [53.760095, -2.696809], [53.760681, -2.704251], [53.7652, -2.700079], [53.760186, -2.696658], [53.762428, -2.697606], [53.764296, -2.700974], [53.766033, -2.695845], [53.758787, -2.705281], [53.756961, -2.694785], [53.758378, -2.698449], [53.759465, -2.71227], [53.759833, -2.695591], [53.758603, -2.706037], [53.756623, -2.706458], [53.760134, -2.705607], [53.759389, -2.694522], [53.758095, -2.700719], [53.75336, -2.680166], [53.762518, -2.697607], [53.757884, -2.690705], [53.760134, -2.705607], [53.758899, -2.716811], [53.763823, -2.704911], [53.766532, -2.702832], [53.770286, -2.690908], [53.760684, -2.688324], [53.760844, -2.691664], [53.756046, -2.682029], [53.763987, -2.722662], [53.759795, -2.686489], [53.765006, -2.717674], [53.762696, -2.697762], [53.758337, -2.705425], [53.760289, -2.694385], [53.761382, -2.691976], [53.755629, -2.692033], [53.755959, -2.697044], [53.759206, -2.695125], [53.759748, -2.71], [53.758285, -2.699054], [53.756046, -2.682029], [53.75819, -2.699811], [53.761567, -2.691069], [53.76362, -2.708851], [53.754321, -2.715823], [53.757174, -2.689025], [53.758748, -2.711955], [53.760379, -2.694386], [53.755869, -2.697042], [53.755945, -2.714789], [53.759656, -2.710453], [53.757127, -2.697215], [53.761116, -2.691213], [53.763988, -2.722511], [53.767075, -2.702082], [53.756671, -2.682646], [53.760059, -2.703027], [53.759418, -2.704988], [53.76707, -2.702993], [53.753689, -2.716267], [53.762591, -2.700491], [53.756592, -2.696447], [53.760545, -2.696816], [53.75694, -2.682802], [53.754952, -2.684742], [53.759061, -2.704679], [53.757251, -2.706621], [53.754586, -2.716586], [53.760684, -2.688324], [53.760186, -2.696658], [53.757251, -2.706772], [53.765289, -2.700232], [53.755289, -2.688539], [53.760149, -2.703029], [53.756314, -2.682185], [53.765719, -2.655941], [53.763177, -2.676684], [53.773383, -2.683828], [53.765663, -2.666104], [53.765486, -2.64911], [53.762901, -2.677741], [53.76327, -2.676078], [53.768946, -2.704996], [53.76577, -2.663072], [53.776318, -2.689187], [53.770737, -2.690764], [53.765727, -2.654424], [53.770219, -2.671032], [53.784936, -2.70663], [53.770141, -2.684989], [53.764367, -2.672759], [53.783559, -2.711464], [53.768946, -2.704996], [53.776741, -2.709224], [53.765717, -2.656244], [53.805171, -2.623453], [53.770237, -2.683777], [53.767926, -2.679339], [53.770934, -2.703209], [53.765788, -2.691593], [53.769775, -2.701521], [53.761434, -2.682875], [53.773474, -2.71448], [53.769664, -2.70516], [53.76639, -2.68068], [53.772768, -2.68139], [53.770741, -2.705482], [53.783649, -2.711465], [53.765058, -2.645311], [53.761108, -2.676954], [53.762371, -2.676064], [53.769196, -2.693015], [53.76683, -2.682356], [53.766037, -2.663531], [53.762188, -2.676668], [53.766755, -2.679776], [53.767739, -2.68055], [53.785623, -2.711954], [53.765352, -2.673533], [53.762113, -2.689864], [53.788925, -2.700778], [53.768885, -2.668583], [53.770944, -2.685912], [53.76336, -2.67608], [53.774167, -2.688241], [53.768613, -2.684964], [53.765727, -2.654424], [53.766573, -2.680076], [53.792131, -2.70584], [53.765731, -2.653665], [53.760882, -2.685142], [53.777408, -2.70271], [53.764971, -2.644703], [53.770933, -2.703361], [53.771604, -2.680613], [53.762829, -2.674554], [53.769313, -2.688162], [53.762096, -2.677121], [53.773293, -2.683826], [53.769044, -2.688157], [53.763637, -2.674719], [53.766414, -2.676432], [53.786782, -2.698313], [53.765058, -2.645311], [53.772858, -2.681391], [53.775961, -2.688877], [53.764936, -2.683387], [53.785482, -2.705425], [53.767322, -2.690556], [53.771432, -2.725218], [53.764367, -2.672759], [53.768707, -2.668276], [53.767229, -2.675384], [53.812573, -2.75843], [53.769054, -2.701964], [53.770944, -2.685912], [53.77803, -2.688608], [53.76525, -2.691433], [53.777456, -2.709843], [53.777806, -2.696192], [53.764936, -2.683387], [53.760514, -2.686501], [53.76639, -2.68068], [53.762023, -2.689863], [53.769067, -2.699688], [53.772858, -2.681391], [53.765191, -2.670193], [53.764734, -2.671551], [53.767046, -2.691614], [53.769069, -2.683758], [53.76577, -2.663072], [53.771548, -2.705799], [53.769134, -2.688159], [53.763384, -2.687609], [53.770141, -2.684989], [53.763545, -2.675173], [53.770141, -2.684989], [53.766572, -2.680228], [53.767256, -2.686459], [53.775812, -2.683412], [53.763197, -2.673043], [53.763546, -2.690798], [53.774517, -2.689916], [53.774517, -2.689916], [53.764825, -2.671249], [53.769206, -2.691194], [53.764367, -2.672759], [53.759739, -2.755657], [53.777258, -2.713027], [53.76945, -2.710922], [53.769844, -2.705163], [53.768647, -2.739735], [53.76678, -2.765038], [53.76766, -2.709678], [53.771028, -2.761322], [53.767155, -2.762617], [53.762708, -2.740844], [53.773748, -2.713726], [53.762301, -2.733859], [53.788996, -2.748441], [53.773748, -2.713726], [53.761388, -2.792548], [53.78962, -2.749363], [53.775492, -2.766107], [53.765106, -2.730874], [53.768946, -2.704996], [53.761484, -2.79164], [53.772176, -2.721134], [53.791097, -2.713413], [53.791097, -2.713413], [53.790289, -2.713248], [53.773659, -2.713573], [53.768649, -2.739432], [53.769864, -2.760694], [53.769794, -2.713507], [53.770316, -2.731419], [53.783358, -2.714951], [53.761569, -2.73597], [53.789805, -2.748456], [53.774774, -2.707522], [53.781364, -2.775472], [53.775449, -2.714817], [53.760829, -2.724732], [53.764601, -2.7251], [53.777636, -2.709846], [53.757435, -2.721033], [53.787148, -2.712435], [53.770784, -2.728393], [53.78953, -2.749362], [53.770947, -2.716106], [53.765559, -2.759251], [53.762796, -2.740997], [53.778477, -2.734445], [53.762796, -2.740997], [53.787671, -2.730203], [53.775044, -2.692049], [53.797039, -2.726874], [53.774863, -2.707523], [53.762708, -2.740692], [53.772266, -2.720984], [53.771141, -2.713833], [53.767155, -2.718924], [53.76623, -2.723308], [53.775334, -2.748502], [53.772445, -2.706117], [53.763066, -2.726287], [53.784178, -2.785085], [53.773682, -2.70978], [53.762887, -2.740847], [53.787148, -2.712435], [53.779267, -2.737494], [53.78324, -2.777327], [53.77144, -2.723853], [53.769297, -2.736257], [53.774196, -2.713885], [53.768372, -2.754902], [53.779539, -2.751612], [53.791726, -2.713576], [53.769662, -2.720636], [53.763864, -2.728122], [53.775449, -2.714817], [53.770784, -2.728393], [53.768565, -2.708631], [53.76865, -2.73928], [53.784367, -2.711629], [53.761948, -2.789373], [53.777546, -2.709845], [53.786251, -2.712117], [53.791008, -2.713412], [53.766758, -2.725137], [53.782193, -2.714476], [53.782919, -2.757288], [53.782122, -2.740883], [53.769739, -2.707741], [53.789443, -2.748905], [53.761295, -2.793002], [53.765167, -2.72071], [53.768814, -2.74171], [53.771322, -2.728554], [53.776971, -2.730776], [53.778991, -2.723831], [53.774709, -2.718294], [53.76897, -2.759919], [53.774952, -2.707677], [53.771906, -2.705956], [53.771028, -2.761322], [53.796405, -2.727622], [53.764078, -2.722512], [53.785354, -2.71195], [53.775449, -2.714817], [53.762796, -2.740997], [53.776096, -2.711945], [53.766492, -2.724678], [53.765785, -2.722542], [53.765106, -2.730874], [53.772584, -2.712947], [53.768851, -2.705905], [53.760093, -2.72745], [53.775386, -2.710415], [53.763625, -2.723111], [53.791904, -2.71373], [53.769811, -2.725645], [53.769003, -2.710611], [53.764075, -2.722967], [53.770113, -2.705319], [53.764075, -2.722967], [53.777457, -2.709692], [53.77142, -2.712169], [53.78519, -2.753382], [53.769389, -2.735955], [53.778645, -2.792722], [53.773286, -2.715842], [53.785317, -2.71802], [53.757876, -2.722557], [53.777456, -2.709843], [53.800335, -2.716758], [53.791051, -2.750451], [53.77803, -2.688608], [53.800246, -2.716757], [53.770219, -2.671032], [53.782831, -2.697641], [53.783831, -2.680052], [53.802219, -2.717398], [53.812914, -2.789115], [53.830589, -2.737787], [53.782344, -2.656504], [53.786299, -2.672806], [53.780522, -2.677115], [53.778426, -2.697719], [53.789802, -2.640378], [53.855866, -2.688973], [53.772593, -2.648006], [53.781964, -2.660292], [53.788925, -2.700778], [53.818471, -2.641119], [53.810003, -2.723454], [53.791973, -2.63783], [53.772461, -2.655742], [53.795588, -2.714097], [53.765768, -2.663375], [53.777563, -2.659767], [53.793126, -2.77751], [53.777563, -2.659767], [53.805178, -2.622087], [53.780003, -2.657226], [53.778817, -2.692263], [53.828435, -2.737141], [53.788167, -2.660086], [53.778379, -2.690283], [53.765948, -2.663378], [53.805762, -2.664158], [53.804806, -2.720631], [53.77013, -2.67103], [53.810002, -2.723605], [53.781098, -2.654359], [53.815236, -2.763794], [53.783113, -2.6638], [53.787956, -2.712601], [53.780597, -2.710655], [53.803501, -2.682647], [53.822729, -2.800086], [53.821261, -2.734433], [53.78871, -2.642942], [53.79837, -2.634891], [53.792104, -2.710394], [53.791156, -2.688064], [53.799168, -2.716587], [53.77267, -2.650435], [53.778607, -2.665854], [53.786803, -2.646555], [53.791498, -2.750915], [53.77013, -2.67103], [53.791156, -2.688064], [53.76958, -2.656608], [53.791598, -2.749247], [53.859348, -2.661205], [53.774104, -2.651216], [53.852487, -2.69819], [53.799101, -2.784757], [53.810539, -2.723918], [53.786508, -2.667497], [53.784801, -2.683406], [53.793264, -2.696599], [53.780612, -2.677116], [53.787009, -2.674335], [53.787616, -2.645657], [53.78324, -2.777327], [53.801503, -2.71693], [53.778817, -2.692414], [53.782835, -2.665314], [53.821982, -2.67277], [53.785068, -2.683866], [53.770663, -2.672101], [53.789862, -2.781852], [53.776246, -2.670217], [53.773028, -2.66698], [53.77803, -2.688608], [53.777856, -2.687542], [53.76455, -2.672155], [53.781621, -2.657251], [53.796036, -2.714256], [53.777636, -2.709846], [53.805915, -2.759524], [53.81034, -2.64874], [53.810002, -2.723605], [53.780702, -2.676966], [53.792127, -2.706448], [53.777941, -2.688303], [53.847111, -2.647028], [53.824895, -2.633165], [53.782254, -2.656502], [53.771458, -2.674541], [53.795669, -2.730342], [53.793656, -2.690989], [53.778033, -2.703479], [53.803022, -2.718474], [53.800978, -2.634627], [53.803556, -2.719243], [53.796421, -2.694678], [53.773119, -2.666829], [53.808398, -2.658733], [53.821722, -2.65484], [53.779888, -2.677863], [53.774343, -2.688851], [53.800335, -2.716758], [53.784723, -2.6488], [53.782762, -2.678365], [53.792245, -2.686108], [53.793894, -2.696458], [53.807546, -2.616199], [53.832313, -2.720191], [53.80593, -2.697872], [53.798543, -2.685148], [53.822358, -2.716527], [53.798241, -2.736005], [53.801916, -2.692491], [53.792001, -2.665611], [53.768968, -2.636723], [53.767171, -2.636696], [53.769772, -2.637646], [53.806471, -2.697577], [53.802533, -2.795905], [53.79963, -2.772468], [53.797387, -2.682852], [53.78551, -2.65291], [53.797568, -2.682703], [53.814582, -2.709255], [53.790759, -2.662707], [53.794284, -2.675363], [53.80058, -2.690344], [53.794284, -2.675363], [53.800216, -2.721767], [53.786758, -2.654751], [53.805757, -2.696655], [53.777549, -2.645806], [53.791821, -2.66576], [53.814403, -2.7091], [53.800971, -2.715706], [53.801436, -2.785104], [53.798603, -2.764403], [53.798008, -2.759078], [53.803434, -2.694186]],\n",
       "                {\n",
       "  &quot;minOpacity&quot;: 0.5,\n",
       "  &quot;maxZoom&quot;: 18,\n",
       "  &quot;radius&quot;: 25,\n",
       "  &quot;blur&quot;: 15,\n",
       "}\n",
       "            );\n",
       "        \n",
       "    \n",
       "            heat_map_7078082bcf996fc2c40908294fc77c49.addTo(map_a157bffb00ce80adc2e501921102fc84);\n",
       "        \n",
       "    \n",
       "            tile_layer_22243dbd77f0b3b404ca83df494e206d.addTo(map_a157bffb00ce80adc2e501921102fc84);\n",
       "        \n",
       "    \n",
       "            heat_map_7078082bcf996fc2c40908294fc77c49.addTo(map_a157bffb00ce80adc2e501921102fc84);\n",
       "        \n",
       "&lt;/script&gt;\n",
       "&lt;/html&gt;\" style=\"position:absolute;width:100%;height:100%;left:0;top:0;border:none !important;\" allowfullscreen webkitallowfullscreen mozallowfullscreen></iframe></div></div>"
      ],
      "text/plain": [
       "<folium.folium.Map at 0x17d10f06950>"
      ]
     },
     "execution_count": 35,
     "metadata": {},
     "output_type": "execute_result"
    }
   ],
   "source": [
    "preston = data[data['District Area'] == 'Preston']\n",
    "preston_loc = list(zip(preston['Latitude'], preston['Longitude']))\n",
    "preston_map = folium.Map(location=[preston['Latitude'].mean(), preston['Longitude'].mean()], zoom_start=10)\n",
    "HeatMap(preston_loc).add_to(preston_map)\n",
    "preston_map.save('preston_heatmap.html')\n",
    "preston_map"
   ]
  },
  {
   "cell_type": "markdown",
   "id": "71bd7a15-95ee-4894-9d18-e1b3d62aaac0",
   "metadata": {},
   "source": [
    "<h1>Insight</h1>\n",
    "<h2>The accidents in Preston as shown in the HeatMap is alittle bit less than islington</h2>"
   ]
  },
  {
   "cell_type": "markdown",
   "id": "d6e6e902-2c08-4582-aea8-2979e702f810",
   "metadata": {},
   "source": [
    "<h1>Insight</h1>\n",
    "<h2>One accident is a Cyclist hit by van near Victoria Tavern, serious leg injury, taken to Royal London Hospital</h2>"
   ]
  },
  {
   "cell_type": "markdown",
   "id": "6b69023e-d0b2-4a14-bf2b-4cd2405f33f6",
   "metadata": {},
   "source": [
    "<h1>Insight</h1>\n",
    "<h2>Volkswagen driver seriously injured in Preston crash which closed Edith Rigby Way for 4 hours last night</h2>"
   ]
  },
  {
   "cell_type": "markdown",
   "id": "66b5cdcb-16eb-407b-bc88-12a4e1e12edc",
   "metadata": {},
   "source": [
    "<h1>Insight</h1>\n",
    "<h2>Ringway disruption as bus and car involved in crash</h2>"
   ]
  },
  {
   "cell_type": "markdown",
   "id": "059a56b0-67cb-4ffc-a618-aec92b37f38b",
   "metadata": {},
   "source": [
    "<h1>Insight</h1>\n",
    "<h2>Major Preston road closed by cops after serious crash</h2>"
   ]
  },
  {
   "cell_type": "markdown",
   "id": "a0d40695-53ce-4de5-9a05-6ae7693b72da",
   "metadata": {},
   "source": [
    "<h1>Insight</h1>\n",
    "<h2>Westbound exit slip at junction J2 </h2>"
   ]
  },
  {
   "cell_type": "code",
   "execution_count": null,
   "id": "ab5673d0-d0ef-4cce-bdcb-8c573ad2a33a",
   "metadata": {},
   "outputs": [],
   "source": []
  }
 ],
 "metadata": {
  "kernelspec": {
   "display_name": "Python 3 (ipykernel)",
   "language": "python",
   "name": "python3"
  },
  "language_info": {
   "codemirror_mode": {
    "name": "ipython",
    "version": 3
   },
   "file_extension": ".py",
   "mimetype": "text/x-python",
   "name": "python",
   "nbconvert_exporter": "python",
   "pygments_lexer": "ipython3",
   "version": "3.11.9"
  }
 },
 "nbformat": 4,
 "nbformat_minor": 5
}
