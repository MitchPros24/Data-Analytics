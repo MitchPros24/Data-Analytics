{
 "cells": [
  {
   "cell_type": "markdown",
   "id": "e67d1fb4-97e5-4029-b299-aea8bb36be6c",
   "metadata": {},
   "source": [
    "<h1>UK Road Accidents</h1>\n",
    "<hr>\n",
    "<h3>Data: Ken Lloyd Alcoreza</h3>"
   ]
  },
  {
   "cell_type": "code",
   "execution_count": 1,
   "id": "9818e426-9369-4e81-bf76-ed33240d84cb",
   "metadata": {},
   "outputs": [],
   "source": [
    "import numpy as np\n",
    "import pandas as pd\n",
    "from scipy.stats import f_oneway\n",
    "import matplotlib.pyplot as plt\n",
    "\n",
    "data = pd.read_csv('dataset\\\\uk_road_accident.csv')"
   ]
  },
  {
   "cell_type": "code",
   "execution_count": 2,
   "id": "2b739d14-4986-40ce-a2b1-c5e9e8675c5d",
   "metadata": {},
   "outputs": [
    {
     "data": {
      "text/html": [
       "<div>\n",
       "<style scoped>\n",
       "    .dataframe tbody tr th:only-of-type {\n",
       "        vertical-align: middle;\n",
       "    }\n",
       "\n",
       "    .dataframe tbody tr th {\n",
       "        vertical-align: top;\n",
       "    }\n",
       "\n",
       "    .dataframe thead th {\n",
       "        text-align: right;\n",
       "    }\n",
       "</style>\n",
       "<table border=\"1\" class=\"dataframe\">\n",
       "  <thead>\n",
       "    <tr style=\"text-align: right;\">\n",
       "      <th></th>\n",
       "      <th>Index</th>\n",
       "      <th>Accident_Severity</th>\n",
       "      <th>Accident Date</th>\n",
       "      <th>Latitude</th>\n",
       "      <th>Light_Conditions</th>\n",
       "      <th>District Area</th>\n",
       "      <th>Longitude</th>\n",
       "      <th>Number_of_Casualties</th>\n",
       "      <th>Number_of_Vehicles</th>\n",
       "      <th>Road_Surface_Conditions</th>\n",
       "      <th>Road_Type</th>\n",
       "      <th>Urban_or_Rural_Area</th>\n",
       "      <th>Weather_Conditions</th>\n",
       "      <th>Vehicle_Type</th>\n",
       "    </tr>\n",
       "  </thead>\n",
       "  <tbody>\n",
       "    <tr>\n",
       "      <th>0</th>\n",
       "      <td>200701BS64157</td>\n",
       "      <td>Serious</td>\n",
       "      <td>5/6/2019</td>\n",
       "      <td>51.506187</td>\n",
       "      <td>Darkness - lights lit</td>\n",
       "      <td>Kensington and Chelsea</td>\n",
       "      <td>-0.209082</td>\n",
       "      <td>1</td>\n",
       "      <td>2</td>\n",
       "      <td>Dry</td>\n",
       "      <td>Single carriageway</td>\n",
       "      <td>Urban</td>\n",
       "      <td>Fine no high winds</td>\n",
       "      <td>Car</td>\n",
       "    </tr>\n",
       "    <tr>\n",
       "      <th>1</th>\n",
       "      <td>200701BS65737</td>\n",
       "      <td>Serious</td>\n",
       "      <td>2/7/2019</td>\n",
       "      <td>51.495029</td>\n",
       "      <td>Daylight</td>\n",
       "      <td>Kensington and Chelsea</td>\n",
       "      <td>-0.173647</td>\n",
       "      <td>1</td>\n",
       "      <td>2</td>\n",
       "      <td>Wet or damp</td>\n",
       "      <td>Single carriageway</td>\n",
       "      <td>Urban</td>\n",
       "      <td>Raining no high winds</td>\n",
       "      <td>Car</td>\n",
       "    </tr>\n",
       "    <tr>\n",
       "      <th>2</th>\n",
       "      <td>200701BS66127</td>\n",
       "      <td>Serious</td>\n",
       "      <td>26-08-2019</td>\n",
       "      <td>51.517715</td>\n",
       "      <td>Darkness - lighting unknown</td>\n",
       "      <td>Kensington and Chelsea</td>\n",
       "      <td>-0.210215</td>\n",
       "      <td>1</td>\n",
       "      <td>3</td>\n",
       "      <td>Dry</td>\n",
       "      <td>NaN</td>\n",
       "      <td>Urban</td>\n",
       "      <td>NaN</td>\n",
       "      <td>Taxi/Private hire car</td>\n",
       "    </tr>\n",
       "    <tr>\n",
       "      <th>3</th>\n",
       "      <td>200701BS66128</td>\n",
       "      <td>Serious</td>\n",
       "      <td>16-08-2019</td>\n",
       "      <td>51.495478</td>\n",
       "      <td>Daylight</td>\n",
       "      <td>Kensington and Chelsea</td>\n",
       "      <td>-0.202731</td>\n",
       "      <td>1</td>\n",
       "      <td>4</td>\n",
       "      <td>Dry</td>\n",
       "      <td>Single carriageway</td>\n",
       "      <td>Urban</td>\n",
       "      <td>Fine no high winds</td>\n",
       "      <td>Bus or coach (17 or more pass seats)</td>\n",
       "    </tr>\n",
       "    <tr>\n",
       "      <th>4</th>\n",
       "      <td>200701BS66837</td>\n",
       "      <td>Slight</td>\n",
       "      <td>3/9/2019</td>\n",
       "      <td>51.488576</td>\n",
       "      <td>Darkness - lights lit</td>\n",
       "      <td>Kensington and Chelsea</td>\n",
       "      <td>-0.192487</td>\n",
       "      <td>1</td>\n",
       "      <td>2</td>\n",
       "      <td>Dry</td>\n",
       "      <td>NaN</td>\n",
       "      <td>Urban</td>\n",
       "      <td>NaN</td>\n",
       "      <td>Other vehicle</td>\n",
       "    </tr>\n",
       "    <tr>\n",
       "      <th>...</th>\n",
       "      <td>...</td>\n",
       "      <td>...</td>\n",
       "      <td>...</td>\n",
       "      <td>...</td>\n",
       "      <td>...</td>\n",
       "      <td>...</td>\n",
       "      <td>...</td>\n",
       "      <td>...</td>\n",
       "      <td>...</td>\n",
       "      <td>...</td>\n",
       "      <td>...</td>\n",
       "      <td>...</td>\n",
       "      <td>...</td>\n",
       "      <td>...</td>\n",
       "    </tr>\n",
       "    <tr>\n",
       "      <th>660674</th>\n",
       "      <td>201091NM01760</td>\n",
       "      <td>Slight</td>\n",
       "      <td>18-02-2022</td>\n",
       "      <td>57.374005</td>\n",
       "      <td>Daylight</td>\n",
       "      <td>Highland</td>\n",
       "      <td>-3.467828</td>\n",
       "      <td>2</td>\n",
       "      <td>1</td>\n",
       "      <td>Dry</td>\n",
       "      <td>Single carriageway</td>\n",
       "      <td>Rural</td>\n",
       "      <td>Fine no high winds</td>\n",
       "      <td>Car</td>\n",
       "    </tr>\n",
       "    <tr>\n",
       "      <th>660675</th>\n",
       "      <td>201091NM01881</td>\n",
       "      <td>Slight</td>\n",
       "      <td>21-02-2022</td>\n",
       "      <td>57.232273</td>\n",
       "      <td>Darkness - no lighting</td>\n",
       "      <td>Highland</td>\n",
       "      <td>-3.809281</td>\n",
       "      <td>1</td>\n",
       "      <td>1</td>\n",
       "      <td>Frost or ice</td>\n",
       "      <td>Single carriageway</td>\n",
       "      <td>Rural</td>\n",
       "      <td>Fine no high winds</td>\n",
       "      <td>Car</td>\n",
       "    </tr>\n",
       "    <tr>\n",
       "      <th>660676</th>\n",
       "      <td>201091NM01935</td>\n",
       "      <td>Slight</td>\n",
       "      <td>23-02-2022</td>\n",
       "      <td>57.585044</td>\n",
       "      <td>Daylight</td>\n",
       "      <td>Highland</td>\n",
       "      <td>-3.862727</td>\n",
       "      <td>1</td>\n",
       "      <td>3</td>\n",
       "      <td>Frost or ice</td>\n",
       "      <td>Single carriageway</td>\n",
       "      <td>Rural</td>\n",
       "      <td>Fine no high winds</td>\n",
       "      <td>Car</td>\n",
       "    </tr>\n",
       "    <tr>\n",
       "      <th>660677</th>\n",
       "      <td>201091NM01964</td>\n",
       "      <td>Serious</td>\n",
       "      <td>23-02-2022</td>\n",
       "      <td>57.214898</td>\n",
       "      <td>Darkness - no lighting</td>\n",
       "      <td>Highland</td>\n",
       "      <td>-3.823997</td>\n",
       "      <td>1</td>\n",
       "      <td>2</td>\n",
       "      <td>Wet or damp</td>\n",
       "      <td>Single carriageway</td>\n",
       "      <td>Rural</td>\n",
       "      <td>Fine no high winds</td>\n",
       "      <td>Motorcycle over 500cc</td>\n",
       "    </tr>\n",
       "    <tr>\n",
       "      <th>660678</th>\n",
       "      <td>201091NM02142</td>\n",
       "      <td>Serious</td>\n",
       "      <td>28-02-2022</td>\n",
       "      <td>57.575210</td>\n",
       "      <td>Daylight</td>\n",
       "      <td>Highland</td>\n",
       "      <td>-3.895673</td>\n",
       "      <td>1</td>\n",
       "      <td>1</td>\n",
       "      <td>Wet or damp</td>\n",
       "      <td>Dual carriageway</td>\n",
       "      <td>Rural</td>\n",
       "      <td>Snowing no high winds</td>\n",
       "      <td>Car</td>\n",
       "    </tr>\n",
       "  </tbody>\n",
       "</table>\n",
       "<p>660679 rows × 14 columns</p>\n",
       "</div>"
      ],
      "text/plain": [
       "                Index Accident_Severity Accident Date   Latitude  \\\n",
       "0       200701BS64157           Serious      5/6/2019  51.506187   \n",
       "1       200701BS65737           Serious      2/7/2019  51.495029   \n",
       "2       200701BS66127           Serious    26-08-2019  51.517715   \n",
       "3       200701BS66128           Serious    16-08-2019  51.495478   \n",
       "4       200701BS66837            Slight      3/9/2019  51.488576   \n",
       "...               ...               ...           ...        ...   \n",
       "660674  201091NM01760            Slight    18-02-2022  57.374005   \n",
       "660675  201091NM01881            Slight    21-02-2022  57.232273   \n",
       "660676  201091NM01935            Slight    23-02-2022  57.585044   \n",
       "660677  201091NM01964           Serious    23-02-2022  57.214898   \n",
       "660678  201091NM02142           Serious    28-02-2022  57.575210   \n",
       "\n",
       "                   Light_Conditions           District Area  Longitude  \\\n",
       "0             Darkness - lights lit  Kensington and Chelsea  -0.209082   \n",
       "1                          Daylight  Kensington and Chelsea  -0.173647   \n",
       "2       Darkness - lighting unknown  Kensington and Chelsea  -0.210215   \n",
       "3                          Daylight  Kensington and Chelsea  -0.202731   \n",
       "4             Darkness - lights lit  Kensington and Chelsea  -0.192487   \n",
       "...                             ...                     ...        ...   \n",
       "660674                     Daylight                Highland  -3.467828   \n",
       "660675       Darkness - no lighting                Highland  -3.809281   \n",
       "660676                     Daylight                Highland  -3.862727   \n",
       "660677       Darkness - no lighting                Highland  -3.823997   \n",
       "660678                     Daylight                Highland  -3.895673   \n",
       "\n",
       "        Number_of_Casualties  Number_of_Vehicles Road_Surface_Conditions  \\\n",
       "0                          1                   2                     Dry   \n",
       "1                          1                   2             Wet or damp   \n",
       "2                          1                   3                     Dry   \n",
       "3                          1                   4                     Dry   \n",
       "4                          1                   2                     Dry   \n",
       "...                      ...                 ...                     ...   \n",
       "660674                     2                   1                     Dry   \n",
       "660675                     1                   1            Frost or ice   \n",
       "660676                     1                   3            Frost or ice   \n",
       "660677                     1                   2             Wet or damp   \n",
       "660678                     1                   1             Wet or damp   \n",
       "\n",
       "                 Road_Type Urban_or_Rural_Area     Weather_Conditions  \\\n",
       "0       Single carriageway               Urban     Fine no high winds   \n",
       "1       Single carriageway               Urban  Raining no high winds   \n",
       "2                      NaN               Urban                    NaN   \n",
       "3       Single carriageway               Urban     Fine no high winds   \n",
       "4                      NaN               Urban                    NaN   \n",
       "...                    ...                 ...                    ...   \n",
       "660674  Single carriageway               Rural     Fine no high winds   \n",
       "660675  Single carriageway               Rural     Fine no high winds   \n",
       "660676  Single carriageway               Rural     Fine no high winds   \n",
       "660677  Single carriageway               Rural     Fine no high winds   \n",
       "660678    Dual carriageway               Rural  Snowing no high winds   \n",
       "\n",
       "                                Vehicle_Type  \n",
       "0                                        Car  \n",
       "1                                        Car  \n",
       "2                      Taxi/Private hire car  \n",
       "3       Bus or coach (17 or more pass seats)  \n",
       "4                              Other vehicle  \n",
       "...                                      ...  \n",
       "660674                                   Car  \n",
       "660675                                   Car  \n",
       "660676                                   Car  \n",
       "660677                 Motorcycle over 500cc  \n",
       "660678                                   Car  \n",
       "\n",
       "[660679 rows x 14 columns]"
      ]
     },
     "execution_count": 2,
     "metadata": {},
     "output_type": "execute_result"
    }
   ],
   "source": [
    "data"
   ]
  },
  {
   "cell_type": "code",
   "execution_count": 3,
   "id": "839388a8-3d8c-4e0d-aef5-1315d8fca706",
   "metadata": {},
   "outputs": [
    {
     "name": "stdout",
     "output_type": "stream",
     "text": [
      "<class 'pandas.core.frame.DataFrame'>\n",
      "RangeIndex: 660679 entries, 0 to 660678\n",
      "Data columns (total 14 columns):\n",
      " #   Column                   Non-Null Count   Dtype  \n",
      "---  ------                   --------------   -----  \n",
      " 0   Index                    660679 non-null  object \n",
      " 1   Accident_Severity        660679 non-null  object \n",
      " 2   Accident Date            660679 non-null  object \n",
      " 3   Latitude                 660654 non-null  float64\n",
      " 4   Light_Conditions         660679 non-null  object \n",
      " 5   District Area            660679 non-null  object \n",
      " 6   Longitude                660653 non-null  float64\n",
      " 7   Number_of_Casualties     660679 non-null  int64  \n",
      " 8   Number_of_Vehicles       660679 non-null  int64  \n",
      " 9   Road_Surface_Conditions  659953 non-null  object \n",
      " 10  Road_Type                656159 non-null  object \n",
      " 11  Urban_or_Rural_Area      660664 non-null  object \n",
      " 12  Weather_Conditions       646551 non-null  object \n",
      " 13  Vehicle_Type             660679 non-null  object \n",
      "dtypes: float64(2), int64(2), object(10)\n",
      "memory usage: 70.6+ MB\n"
     ]
    }
   ],
   "source": [
    "data.info()"
   ]
  },
  {
   "cell_type": "code",
   "execution_count": 4,
   "id": "4da7fc0f-1561-4a64-aa0f-13b1a33d564d",
   "metadata": {},
   "outputs": [
    {
     "data": {
      "text/plain": [
       "Index                          0\n",
       "Accident_Severity              0\n",
       "Accident Date                  0\n",
       "Latitude                      25\n",
       "Light_Conditions               0\n",
       "District Area                  0\n",
       "Longitude                     26\n",
       "Number_of_Casualties           0\n",
       "Number_of_Vehicles             0\n",
       "Road_Surface_Conditions      726\n",
       "Road_Type                   4520\n",
       "Urban_or_Rural_Area           15\n",
       "Weather_Conditions         14128\n",
       "Vehicle_Type                   0\n",
       "dtype: int64"
      ]
     },
     "execution_count": 4,
     "metadata": {},
     "output_type": "execute_result"
    }
   ],
   "source": [
    "data.isnull().sum()"
   ]
  },
  {
   "cell_type": "code",
   "execution_count": 5,
   "id": "ea793195-3eae-4926-a9c2-d27beca894b7",
   "metadata": {},
   "outputs": [
    {
     "data": {
      "text/plain": [
       "Index                           0\n",
       "Accident_Severity               0\n",
       "Accident Date              395672\n",
       "Latitude                       25\n",
       "Light_Conditions                0\n",
       "District Area                   0\n",
       "Longitude                      26\n",
       "Number_of_Casualties            0\n",
       "Number_of_Vehicles              0\n",
       "Road_Surface_Conditions       726\n",
       "Road_Type                    4520\n",
       "Urban_or_Rural_Area            15\n",
       "Weather_Conditions          14128\n",
       "Vehicle_Type                    0\n",
       "dtype: int64"
      ]
     },
     "execution_count": 5,
     "metadata": {},
     "output_type": "execute_result"
    }
   ],
   "source": [
    "data['Accident Date'] = pd.to_datetime(data['Accident Date'], dayfirst = True, errors = 'coerce')\n",
    "\n",
    "data.isnull().sum()"
   ]
  },
  {
   "cell_type": "code",
   "execution_count": 6,
   "id": "6636ddcb-e2f7-46aa-9fd8-ed54e36642ed",
   "metadata": {},
   "outputs": [
    {
     "data": {
      "text/plain": [
       "Index                           0\n",
       "Accident_Severity               0\n",
       "Accident Date              395672\n",
       "Latitude                       25\n",
       "Light_Conditions                0\n",
       "District Area                   0\n",
       "Longitude                      26\n",
       "Number_of_Casualties            0\n",
       "Number_of_Vehicles              0\n",
       "Road_Surface_Conditions       726\n",
       "Road_Type                    4520\n",
       "Urban_or_Rural_Area            15\n",
       "Weather_Conditions          14128\n",
       "Vehicle_Type                    0\n",
       "Year                       395672\n",
       "Month                      395672\n",
       "Day                        395672\n",
       "DayOfWeek                  395672\n",
       "dtype: int64"
      ]
     },
     "execution_count": 6,
     "metadata": {},
     "output_type": "execute_result"
    }
   ],
   "source": [
    "data['Year'] = data['Accident Date'].dt.year\n",
    "data['Month'] = data['Accident Date'].dt.month\n",
    "data['Day'] = data['Accident Date'].dt.day\n",
    "data['DayOfWeek'] = data['Accident Date'].dt.dayofweek\n",
    "data.isnull().sum()"
   ]
  },
  {
   "cell_type": "code",
   "execution_count": 7,
   "id": "9bbfbb91-eca9-436b-a3c4-cced02eee171",
   "metadata": {},
   "outputs": [
    {
     "data": {
      "text/plain": [
       "Index                      0\n",
       "Accident_Severity          0\n",
       "Accident Date              0\n",
       "Latitude                   0\n",
       "Light_Conditions           0\n",
       "District Area              0\n",
       "Longitude                  0\n",
       "Number_of_Casualties       0\n",
       "Number_of_Vehicles         0\n",
       "Road_Surface_Conditions    0\n",
       "Road_Type                  0\n",
       "Urban_or_Rural_Area        0\n",
       "Weather_Conditions         0\n",
       "Vehicle_Type               0\n",
       "Year                       0\n",
       "Month                      0\n",
       "Day                        0\n",
       "DayOfWeek                  0\n",
       "dtype: int64"
      ]
     },
     "execution_count": 7,
     "metadata": {},
     "output_type": "execute_result"
    }
   ],
   "source": [
    "data['Accident Date'] = data['Accident Date'].fillna('Unaccounted')\n",
    "data['Year'] = data['Year'].fillna(data['Year'].mode()[0])\n",
    "data['Day'] = data['Day'].fillna(data['Day'].mode()[0])\n",
    "data['Month'] = data['Month'].fillna(data['Month'].mode()[0])\n",
    "data['DayOfWeek'] = data['DayOfWeek'].fillna(data['DayOfWeek'].mode()[0])\n",
    "data['Latitude'] = data['Latitude'].fillna(data['Latitude'].mean())\n",
    "data['Longitude'] = data['Longitude'].fillna(data['Longitude'].mean())\n",
    "data['Road_Surface_Conditions'] = data['Road_Surface_Conditions'].fillna(data['Road_Surface_Conditions'].mode()[0])\n",
    "data['Road_Type'] = data['Road_Type'].fillna(data['Road_Type'].mode()[0])\n",
    "data['Urban_or_Rural_Area'] = data['Urban_or_Rural_Area'].fillna(data['Urban_or_Rural_Area'].mode()[0])\n",
    "data['Weather_Conditions'] = data['Weather_Conditions'].fillna('Unaccounted')\n",
    "\n",
    "\n",
    "data.isnull().sum()"
   ]
  },
  {
   "cell_type": "markdown",
   "id": "02a4e2e9-78e4-4da8-9e1d-f5c14e069c02",
   "metadata": {},
   "source": [
    "<h1>Questions</h1>"
   ]
  },
  {
   "cell_type": "markdown",
   "id": "dbbb6366-4dfb-43c4-b2e5-f03367d5ec1e",
   "metadata": {},
   "source": [
    "<h1>1.How many Fatal Accidents has happened in Aberdeen City?</h1>"
   ]
  },
  {
   "cell_type": "code",
   "execution_count": 8,
   "id": "af2f9f0d-1a14-46ff-8edc-d550320513de",
   "metadata": {},
   "outputs": [
    {
     "name": "stdout",
     "output_type": "stream",
     "text": [
      "12\n"
     ]
    }
   ],
   "source": [
    "fatal = data['Accident_Severity'] == 'Fatal'\n",
    "Aberdeen = data['District Area'] == 'Aberdeen City'\n",
    "f_c_count = (fatal & Aberdeen).sum()\n",
    "print(f_c_count)"
   ]
  },
  {
   "cell_type": "markdown",
   "id": "685c985f-168c-4f5e-8613-67150b4d63d3",
   "metadata": {},
   "source": [
    "<h1>Insight:</h1>\n",
    "<h2>There have been 12 fatal accidents in Aberdeen City.</h2>\n",
    "\n"
   ]
  },
  {
   "cell_type": "markdown",
   "id": "93d8eeea-7eff-4a6a-8265-1c3819f4bc03",
   "metadata": {},
   "source": [
    "<h1>2. Which District area has the most Fatal Accidents?</h1>"
   ]
  },
  {
   "cell_type": "code",
   "execution_count": 9,
   "id": "bafd35c1-bfcb-4edd-b7bd-dfe503751303",
   "metadata": {},
   "outputs": [
    {
     "name": "stdout",
     "output_type": "stream",
     "text": [
      "Birmingham\n",
      "105\n"
     ]
    }
   ],
   "source": [
    "fatal = data['Accident_Severity'] == 'Fatal'\n",
    "fatal_counts = data[fatal]['District Area'].value_counts()\n",
    "top_district = fatal_counts.index[0]\n",
    "top_count = fatal_counts.values[0]\n",
    "print(top_district)\n",
    "print(top_count)"
   ]
  },
  {
   "cell_type": "markdown",
   "id": "30970df9-51dc-4960-b057-7a056e86e33d",
   "metadata": {},
   "source": [
    "<h1>Insight:</h1>\n",
    "<h2>Birmingham has the highest number of fatal accidents with 105 cases.</h2>\n"
   ]
  },
  {
   "cell_type": "markdown",
   "id": "aad1b1c3-71aa-4440-a6d4-4d007b5c12e3",
   "metadata": {},
   "source": [
    "<h1>3. How many district are in this dataset?</h1>"
   ]
  },
  {
   "cell_type": "code",
   "execution_count": 10,
   "id": "8eb2b809-354e-47fd-ac39-a4e8af6a2396",
   "metadata": {},
   "outputs": [
    {
     "data": {
      "text/plain": [
       "np.int64(422)"
      ]
     },
     "execution_count": 10,
     "metadata": {},
     "output_type": "execute_result"
    }
   ],
   "source": [
    "data['District Area'].value_counts().count()\n"
   ]
  },
  {
   "cell_type": "markdown",
   "id": "b6e15967-48a6-40d9-b484-9b290b495579",
   "metadata": {},
   "source": [
    "<h1>Insight:</h1>\n",
    "<h2>There are 422 districts included in this dataset.</h2>\n"
   ]
  },
  {
   "cell_type": "markdown",
   "id": "d2140869-755a-4759-9e91-02b1041785a9",
   "metadata": {},
   "source": [
    "<h1>4. What road type has the most accidents?</h1>"
   ]
  },
  {
   "cell_type": "code",
   "execution_count": 11,
   "id": "ccda00d2-29ad-420e-ba68-384d425f7338",
   "metadata": {},
   "outputs": [
    {
     "data": {
      "text/plain": [
       "Road_Type\n",
       "Single carriageway    496663\n",
       "Dual carriageway       99424\n",
       "Roundabout             43992\n",
       "One way street         13559\n",
       "Slip road               7041\n",
       "Name: count, dtype: int64"
      ]
     },
     "execution_count": 11,
     "metadata": {},
     "output_type": "execute_result"
    }
   ],
   "source": [
    "data['Road_Type'].value_counts()"
   ]
  },
  {
   "cell_type": "markdown",
   "id": "50e8d0a4-354a-403b-8a3e-0261b3868514",
   "metadata": {},
   "source": [
    "<h1>Insight:</h1>\n",
    "<h2>Single carriageway has the most accidents with 496,663 cases, making it the most common road type for accidents.</h2>\n",
    "<h2>Dual carriageway is a distant second with 99,424 accidents, showing a much lower rate than single carriageways.</h2>\n",
    "<h2>Slip roads have the fewest accidents at only 7,041 cases, indicating they are relatively safer compared to other road types.</h2>\n"
   ]
  },
  {
   "cell_type": "markdown",
   "id": "7e6e075a-2540-4343-955f-910cd7e77f4d",
   "metadata": {},
   "source": [
    "<h1>5. In the rural, how many fatalities are in the data?</h1>"
   ]
  },
  {
   "cell_type": "code",
   "execution_count": 12,
   "id": "358246c6-b077-4990-add1-2deb59860895",
   "metadata": {},
   "outputs": [
    {
     "name": "stdout",
     "output_type": "stream",
     "text": [
      "5601\n"
     ]
    }
   ],
   "source": [
    "rural = data['Urban_or_Rural_Area'] == 'Rural'\n",
    "fatal = data['Accident_Severity'] == 'Fatal'\n",
    "r_f = (rural & fatal).sum()\n",
    "print(r_f)"
   ]
  },
  {
   "cell_type": "markdown",
   "id": "5cf6aea8-0e1c-444b-ac0d-abc42845ff67",
   "metadata": {},
   "source": [
    "<h1>6. Which vehicle has the highest fatalities?</h1>"
   ]
  },
  {
   "cell_type": "code",
   "execution_count": 13,
   "id": "5cb73b33-7072-41bd-8b38-5c3e33684a2c",
   "metadata": {},
   "outputs": [
    {
     "name": "stdout",
     "output_type": "stream",
     "text": [
      "Car\n",
      "6577\n"
     ]
    }
   ],
   "source": [
    "fatal = data['Accident_Severity'] == 'Fatal'\n",
    "fatal_vehicle = data[fatal]['Vehicle_Type'].value_counts()\n",
    "top_vehicle = fatal_vehicle.index[0]\n",
    "top_counter = fatal_vehicle.values[0]\n",
    "print(top_vehicle)\n",
    "print(top_counter)"
   ]
  },
  {
   "cell_type": "markdown",
   "id": "35576f0e-bffb-4dfd-aec5-71d48026d3c6",
   "metadata": {},
   "source": [
    "<h1>Insight:</h1>\n",
    "<h2>In rural areas, cars account for 6,577 fatal accidents, making them the most common vehicle type involved in rural fatalities.</h2>\n"
   ]
  },
  {
   "cell_type": "markdown",
   "id": "33438808-6ec3-4d82-a474-b957b9656eea",
   "metadata": {},
   "source": [
    "<h1>7. In Aberdeen, how many serious injury has happened during the year 2019?</h1>"
   ]
  },
  {
   "cell_type": "code",
   "execution_count": 14,
   "id": "a46b6da0-8ac8-4eff-9ffe-adeb2a453309",
   "metadata": {},
   "outputs": [
    {
     "name": "stdout",
     "output_type": "stream",
     "text": [
      "162\n"
     ]
    }
   ],
   "source": [
    "london = data['District Area'] ==  'London City'\n",
    "serious = data['Accident_Severity'] == 'Serious'\n",
    "year_2019 = data['Year'] == 2019\n",
    "l_S_2019 = (year_2019 & serious & Aberdeen).sum()\n",
    "print(l_S_2019)\n"
   ]
  },
  {
   "cell_type": "markdown",
   "id": "a04e9649-bf51-4dbc-9ce8-9086ee63708a",
   "metadata": {},
   "source": [
    "<h1>Insight:</h1>\n",
    "<h2>In 2019, Aberdeen recorded 162 serious injury accidents, highlighting a significant safety concern for that year.</h2>\n"
   ]
  },
  {
   "cell_type": "markdown",
   "id": "c3221323-086b-441a-a9a4-51b6de3c9e1e",
   "metadata": {},
   "source": [
    "<h1>8.How many accidents had happened in daylight?</h1>"
   ]
  },
  {
   "cell_type": "code",
   "execution_count": 15,
   "id": "9cc7eaa9-ca7f-44c1-b7a9-769127b16be1",
   "metadata": {},
   "outputs": [
    {
     "data": {
      "text/plain": [
       "np.int64(484880)"
      ]
     },
     "execution_count": 15,
     "metadata": {},
     "output_type": "execute_result"
    }
   ],
   "source": [
    "(data['Light_Conditions'] == 'Daylight').sum()"
   ]
  },
  {
   "cell_type": "markdown",
   "id": "d3459b7d-a6fa-415c-ba4c-0f198b90abdf",
   "metadata": {},
   "source": [
    "<h1>Insight:</h1>\n",
    "<h2>There were 484,880 accidents that happened during daylight, showing that most accidents occur in well-lit conditions rather than at night.</h2>\n"
   ]
  },
  {
   "cell_type": "markdown",
   "id": "9d1973f7-7c06-4ec1-9327-6ae67d17e19e",
   "metadata": {},
   "source": [
    "<h1>9.How many car accidents had happened in the year 2019?</h1>"
   ]
  },
  {
   "cell_type": "code",
   "execution_count": 16,
   "id": "54ff4f3a-d013-4082-91bf-ff24a698812c",
   "metadata": {},
   "outputs": [
    {
     "name": "stdout",
     "output_type": "stream",
     "text": [
      "349931\n"
     ]
    }
   ],
   "source": [
    "car = data['Vehicle_Type'] == 'Car'\n",
    "c_2019 = (year_2019 & car).sum()\n",
    "print(c_2019)"
   ]
  },
  {
   "cell_type": "markdown",
   "id": "945b1eea-792c-48e8-82ff-e0adb3bc62c6",
   "metadata": {},
   "source": [
    "<h1>Insight:</h1>\n",
    "<h2>There were 349,931 car accidents recorded in the year 2019, showing that cars are a major contributor to overall road accidents that year.</h2>\n"
   ]
  },
  {
   "cell_type": "markdown",
   "id": "a932b952-d10c-4bd6-b339-b228443d5245",
   "metadata": {},
   "source": [
    "<h1>10.How many taxi or private car has been in the accidents in the data set</h1>"
   ]
  },
  {
   "cell_type": "code",
   "execution_count": 17,
   "id": "25d8f5fa-a24e-4e7f-8572-a67cfd62680e",
   "metadata": {},
   "outputs": [
    {
     "data": {
      "text/plain": [
       "np.int64(13294)"
      ]
     },
     "execution_count": 17,
     "metadata": {},
     "output_type": "execute_result"
    }
   ],
   "source": [
    "(data['Vehicle_Type'] =='Taxi/Private hire car').sum()"
   ]
  },
  {
   "cell_type": "markdown",
   "id": "070c7aba-be2a-4df4-9c2e-6ab87e91015f",
   "metadata": {},
   "source": [
    "<h1>Insight:</h1>\n",
    "<h2>There were 13,294 accidents involving taxis or private hire cars, highlighting their notable presence in road incidents.</h2>\n"
   ]
  },
  {
   "cell_type": "markdown",
   "id": "ead10d19-ae27-4019-9c4c-555c1f8206d4",
   "metadata": {},
   "source": [
    "<h1>11. What is the overall average number of vehicles involved in accidents?</h1>"
   ]
  },
  {
   "cell_type": "code",
   "execution_count": 18,
   "id": "66951978-b91b-4802-b525-07f82badcdea",
   "metadata": {},
   "outputs": [
    {
     "data": {
      "text/plain": [
       "np.int64(16)"
      ]
     },
     "execution_count": 18,
     "metadata": {},
     "output_type": "execute_result"
    }
   ],
   "source": [
    "all_vehicle = data['Vehicle_Type'].value_counts().count()\n",
    "all_vehicle"
   ]
  },
  {
   "cell_type": "markdown",
   "id": "e77db02b-12df-473d-9a2c-aae61070b2a2",
   "metadata": {},
   "source": [
    "<h1>Insight:</h1>\n",
    "<h2>The overall average number of vehicles involved in accidents is 16, showing that most accidents typically involve multiple vehicles.</h2>\n"
   ]
  },
  {
   "cell_type": "markdown",
   "id": "4a01ee15-bcc6-4e85-b2c9-a638808ee0ac",
   "metadata": {},
   "source": [
    "<h1>12. How many accidents were classified as Fatal, Serious, and Slight?</h1>"
   ]
  },
  {
   "cell_type": "code",
   "execution_count": 19,
   "id": "7a9631de-8c3c-4418-8009-f9e888d62356",
   "metadata": {},
   "outputs": [
    {
     "name": "stdout",
     "output_type": "stream",
     "text": [
      "Fatal = 8661\n",
      "Serious = 88217\n",
      "Slight = 563801\n"
     ]
    }
   ],
   "source": [
    "slight = data['Accident_Severity'] == 'Slight'\n",
    "print(\"Fatal =\" , fatal.sum())\n",
    "print(\"Serious =\" , serious.sum())\n",
    "print(\"Slight =\" ,slight.sum())"
   ]
  },
  {
   "cell_type": "markdown",
   "id": "14c66897-cc1b-43e1-b76b-084bba01b883",
   "metadata": {},
   "source": [
    "<h1>Insight:</h1>\n",
    "<h2>There were 8,661 accidents classified as Fatal, which is the least common severity level.</h2>\n",
    "<h2>Serious accidents numbered 88,217, indicating a significant portion of high-impact crashes.</h2>\n",
    "<h2>Slight accidents were the most frequent with 563,801 cases, showing that most reported accidents result in minor injuries.</h2>\n"
   ]
  },
  {
   "cell_type": "markdown",
   "id": "298a56b0-4b73-49bd-9aed-8df880f9977f",
   "metadata": {},
   "source": [
    "<h1>13. Which vehicle has the most fatalities?</h1>"
   ]
  },
  {
   "cell_type": "code",
   "execution_count": 20,
   "id": "5b6e9a41-e6a6-4eb1-abf7-ef20214bcd91",
   "metadata": {},
   "outputs": [
    {
     "data": {
      "image/png": "[encoded data removed]",
      "text/plain": [
       "<Figure size 1000x500 with 1 Axes>"
      ]
     },
     "metadata": {},
     "output_type": "display_data"
    }
   ],
   "source": [
    "fatal_data = data[data['Accident_Severity'] == 'Fatal']\n",
    "\n",
    "# Group by vehicle type and count how many fatal accidents each has\n",
    "fatalities_by_vehicle = fatal_data['Vehicle_Type'].value_counts()\n",
    "\n",
    "# Plot\n",
    "fatalities_by_vehicle.plot(kind='bar', figsize=(10,5))\n",
    "\n",
    "plt.title(\"Fatal Accidents by Vehicle Type\")\n",
    "plt.xlabel(\"Vehicle Type\")\n",
    "plt.ylabel(\"Number of Fatal Accidents\")\n",
    "plt.show()"
   ]
  },
  {
   "cell_type": "markdown",
   "id": "c3a30418-e7ae-43c6-aabb-f96363348ca5",
   "metadata": {},
   "source": [
    "<h1>Insight:</h1>\n",
    "<h2>Car has the highest number of fatal accidents, making it the most involved vehicle type in fatal crashes.</h2>\n"
   ]
  },
  {
   "cell_type": "markdown",
   "id": "3bd55b53-d5c3-49f0-b6f4-e49acdedb0df",
   "metadata": {},
   "source": [
    "<h1>14. Which road surface condition has the most accidents?</h1>"
   ]
  },
  {
   "cell_type": "code",
   "execution_count": 21,
   "id": "aada9e9a-39b9-4cb2-bfae-28baf6347733",
   "metadata": {},
   "outputs": [
    {
     "data": {
      "text/plain": [
       "array(['Dry', 'Wet or damp', 'Snow', 'Frost or ice',\n",
       "       'Flood over 3cm. deep'], dtype=object)"
      ]
     },
     "execution_count": 21,
     "metadata": {},
     "output_type": "execute_result"
    }
   ],
   "source": [
    "data['Road_Surface_Conditions'].unique()"
   ]
  },
  {
   "cell_type": "code",
   "execution_count": 22,
   "id": "61610f27-35f8-431e-b9c6-775ebac02c4e",
   "metadata": {},
   "outputs": [
    {
     "name": "stdout",
     "output_type": "stream",
     "text": [
      "Dry =  448547\n",
      "Wet or damp =  186708\n",
      "Snow =  5890\n",
      "Frost or ice =  18517\n",
      "Flood over 3cm. deep =  1017\n"
     ]
    }
   ],
   "source": [
    "dry = data['Road_Surface_Conditions'] == 'Dry'\n",
    "wet_d= data['Road_Surface_Conditions'] == 'Wet or damp'\n",
    "snow = data['Road_Surface_Conditions'] == 'Snow'\n",
    "frost_ice = data['Road_Surface_Conditions'] == 'Frost or ice'\n",
    "flood = data['Road_Surface_Conditions'] == 'Flood over 3cm. deep'\n",
    "\n",
    "print(\"Dry = \",dry.sum())\n",
    "print(\"Wet or damp = \",wet_d.sum())\n",
    "print(\"Snow = \",snow.sum())\n",
    "print(\"Frost or ice = \",frost_ice.sum())\n",
    "print(\"Flood over 3cm. deep = \",flood.sum())"
   ]
  },
  {
   "cell_type": "markdown",
   "id": "fa0d2604-bbd5-4c36-a071-82f7ea26e6cb",
   "metadata": {},
   "source": [
    "<h1>Insight:</h1>\n",
    "<h2>Dry road surfaces have the most accidents with 448,547 cases, showing that most crashes occur in normal driving conditions.</h2>\n",
    "<h2>Flooded roads have the fewest accidents at only 1,017 cases, likely because drivers avoid these roads during hazardous conditions.</h2>\n"
   ]
  },
  {
   "cell_type": "markdown",
   "id": "607b85ff-69b9-406c-a783-9bf9043884e4",
   "metadata": {},
   "source": [
    "<h1>15. Which road type (single carriageway, dual carriageway, etc.) has the most accidents?</h1>"
   ]
  },
  {
   "cell_type": "code",
   "execution_count": 23,
   "id": "9a8a232f-c5c1-44ac-a594-ecb2d19e3f9b",
   "metadata": {},
   "outputs": [
    {
     "data": {
      "text/plain": [
       "array(['Single carriageway', 'Dual carriageway', 'One way street',\n",
       "       'Roundabout', 'Slip road'], dtype=object)"
      ]
     },
     "execution_count": 23,
     "metadata": {},
     "output_type": "execute_result"
    }
   ],
   "source": [
    "data['Road_Type'].unique()"
   ]
  },
  {
   "cell_type": "code",
   "execution_count": 24,
   "id": "cc886dc5-d9ef-4813-9560-0bbf11e31c47",
   "metadata": {},
   "outputs": [
    {
     "name": "stdout",
     "output_type": "stream",
     "text": [
      "Single carriageway =  496663\n",
      "Dual carriageway  =  99424\n",
      "One way street =  13559\n",
      "Roundabout =  43992\n",
      "Slip road =  7041\n"
     ]
    }
   ],
   "source": [
    "single_carr = data['Road_Type'] == 'Single carriageway'\n",
    "dual_carr = data['Road_Type'] == 'Dual carriageway'\n",
    "One_w_street = data['Road_Type'] == 'One way street'\n",
    "roundabout = data['Road_Type'] == 'Roundabout'\n",
    "slip_road = data['Road_Type'] == 'Slip road'\n",
    "\n",
    "print(\"Single carriageway = \",single_carr.sum())\n",
    "print(\"Dual carriageway  = \",dual_carr.sum())\n",
    "print(\"One way street = \",One_w_street.sum())\n",
    "print(\"Roundabout = \",roundabout.sum())\n",
    "print(\"Slip road = \",slip_road.sum())"
   ]
  },
  {
   "cell_type": "markdown",
   "id": "a753e967-877a-42c7-80ae-7eed09161383",
   "metadata": {},
   "source": [
    "<h1>Insight:</h1>\n",
    "<h2>Single carriageways have the highest number of accidents with 496,663 cases, making them the most accident-prone road type.</h2>\n",
    "<h2>Slip roads have the fewest accidents at only 7,041 cases, showing they are relatively safer compared to other road types.</h2>\n"
   ]
  },
  {
   "cell_type": "markdown",
   "id": "f3c54ac1-cf16-4bb9-975c-86352ec0f369",
   "metadata": {},
   "source": [
    "<h1>16.In which year did most accidents occur? </h1>"
   ]
  },
  {
   "cell_type": "code",
   "execution_count": 25,
   "id": "5538d22f-b609-4fd4-8e0e-463b4ca70a46",
   "metadata": {},
   "outputs": [
    {
     "data": {
      "text/plain": [
       "array([2019., 2020., 2021., 2022.])"
      ]
     },
     "execution_count": 25,
     "metadata": {},
     "output_type": "execute_result"
    }
   ],
   "source": [
    "data['Year'].unique()"
   ]
  },
  {
   "cell_type": "code",
   "execution_count": 26,
   "id": "f9fec2af-2418-4a2d-bfbc-87474cbb66c7",
   "metadata": {},
   "outputs": [
    {
     "name": "stdout",
     "output_type": "stream",
     "text": [
      "Year 2019 = 467539\n",
      "Year 2020 = 70163\n",
      "Year 2021 = 66172\n",
      "Year 2022 = 56805\n"
     ]
    }
   ],
   "source": [
    "y_2019 = data['Year'] == 2019\n",
    "y_2020 = data['Year'] == 2020\n",
    "y_2021 = data['Year'] == 2021\n",
    "y_2022 = data['Year'] == 2022\n",
    "\n",
    "print(\"Year 2019 =\", y_2019.sum())\n",
    "print(\"Year 2020 =\", y_2020.sum())\n",
    "print(\"Year 2021 =\", y_2021.sum())\n",
    "print(\"Year 2022 =\", y_2022.sum())"
   ]
  },
  {
   "cell_type": "markdown",
   "id": "c784b933-74ad-448d-9a01-e511e00af065",
   "metadata": {},
   "source": [
    "<h1>Insight:</h1>\n",
    "<h2>The year 2019 had the highest number of accidents with 467,539 cases, significantly higher than the following years.</h2>\n",
    "<h2>Accidents steadily decreased from 2020 to 2022, which may indicate improved road safety or reduced travel during these years.</h2>\n"
   ]
  },
  {
   "cell_type": "markdown",
   "id": "87900792-a728-40de-864c-4af29dbe2b7d",
   "metadata": {},
   "source": [
    "<h1>17. Is there a correlation between number of vehicles and number of casualties</h1>"
   ]
  },
  {
   "cell_type": "code",
   "execution_count": 27,
   "id": "e695a279-c008-4f97-8e47-ba9e2b49c617",
   "metadata": {},
   "outputs": [
    {
     "data": {
      "text/plain": [
       "np.float64(0.22888886126927557)"
      ]
     },
     "execution_count": 27,
     "metadata": {},
     "output_type": "execute_result"
    }
   ],
   "source": [
    "data['Number_of_Vehicles'].corr(data['Number_of_Casualties'])"
   ]
  },
  {
   "cell_type": "markdown",
   "id": "02dd458a-0c53-473b-a73b-ee001757880e",
   "metadata": {},
   "source": [
    "<h1>Insight:</h1>  \n",
    "<h2>There is a weak positive correlation (0.23) between the number of vehicles and the number of casualties, meaning more vehicles slightly increase the chance of more people getting hurt.</h2>  \n",
    "<h2>This suggests that multi-vehicle accidents tend to involve more casualties, but the relationship is not very strong.</h2>"
   ]
  },
  {
   "cell_type": "markdown",
   "id": "9941b61e-e5ba-4331-aa56-6cfe02a99e70",
   "metadata": {},
   "source": [
    "<h1>18. How many car accidents happened during rainy weather in Aberdeen on the year 2020?</h1>"
   ]
  },
  {
   "cell_type": "code",
   "execution_count": 33,
   "id": "db33081f-3a28-4c73-a698-8cae111d9f43",
   "metadata": {},
   "outputs": [
    {
     "data": {
      "text/plain": [
       "array(['Fine no high winds', 'Raining no high winds', 'Unaccounted',\n",
       "       'Other', 'Fine + high winds', 'Raining + high winds',\n",
       "       'Snowing no high winds', 'Fog or mist', 'Snowing + high winds'],\n",
       "      dtype=object)"
      ]
     },
     "execution_count": 33,
     "metadata": {},
     "output_type": "execute_result"
    }
   ],
   "source": [
    "data['Weather_Conditions'].unique()"
   ]
  },
  {
   "cell_type": "code",
   "execution_count": 52,
   "id": "fd73a461-b557-4083-9e8f-f1b8ba24fdd3",
   "metadata": {},
   "outputs": [
    {
     "name": "stdout",
     "output_type": "stream",
     "text": [
      "Rain and no wind = 23\n",
      "Rain and wind = 5\n"
     ]
    }
   ],
   "source": [
    "raining = data['Weather_Conditions'] == 'Raining no high winds'\n",
    "raining_wind = data['Weather_Conditions'] == 'Raining + high winds'\n",
    "\n",
    "rain = (raining & car &Aberdeen & y_2020).sum()\n",
    "rainier = (raining_wind & car & Aberdeen & y_2020).sum()\n",
    "\n",
    "print(\"Rain and no wind =\", rain)\n",
    "print(\"Rain and wind =\", rainier)"
   ]
  },
  {
   "cell_type": "markdown",
   "id": "a78451ef-4aea-4498-b184-efcff963460f",
   "metadata": {},
   "source": [
    "<h1>Insight:</h1>  \n",
    "<h2>The data show two data, a rain without wind and rain with wind accidents from the year 2020 in Aberdeen</h2>  \n"
   ]
  },
  {
   "cell_type": "markdown",
   "id": "9b1d3f70-85e2-439d-9b43-b93fa5171f47",
   "metadata": {},
   "source": [
    "<h1>19.How does the correlation between vehicles and casualties differ in urban vs rural areas?</h1>"
   ]
  },
  {
   "cell_type": "code",
   "execution_count": 29,
   "id": "9af109cc-34c3-4d16-b962-e30910a2ddf8",
   "metadata": {},
   "outputs": [
    {
     "name": "stdout",
     "output_type": "stream",
     "text": [
      "Urban correlation: 0.2176153598713953\n",
      "Rural correlation: 0.23607811844076115\n"
     ]
    }
   ],
   "source": [
    "urban_corr = data[data['Urban_or_Rural_Area'] == 'Urban']['Number_of_Vehicles'].corr(data[data['Urban_or_Rural_Area'] == 'Urban']['Number_of_Casualties'])\n",
    "rural_corr = data[data['Urban_or_Rural_Area'] == 'Rural']['Number_of_Vehicles'].corr(data[data['Urban_or_Rural_Area'] == 'Rural']['Number_of_Casualties'])\n",
    "\n",
    "print(f\"Urban correlation: {urban_corr}\")\n",
    "print(f\"Rural correlation: {rural_corr}\")"
   ]
  },
  {
   "cell_type": "markdown",
   "id": "676205dc-0e11-400d-9e94-1c3a0f57d3e5",
   "metadata": {},
   "source": [
    "<h1>Insight:</h1>  \n",
    "<h2>In both urban and rural areas, more vehicles tend to lead to more casualties, but the relationship is slightly stronger in rural areas (0.24 vs 0.22).</h2>  \n",
    "<h2>This suggests that rural accidents involving multiple vehicles may be more dangerous, possibly due to higher speeds or less immediate medical response.</h2>"
   ]
  },
  {
   "cell_type": "markdown",
   "id": "f8e889c4-3a2d-4c9b-8f5b-eb54c17d02ea",
   "metadata": {},
   "source": [
    "<h1>20. Which vehicle type is most often involved in accidents?</h1>"
   ]
  },
  {
   "cell_type": "code",
   "execution_count": 30,
   "id": "cd4fc779-8cdb-44b0-af01-480dc89fe715",
   "metadata": {},
   "outputs": [
    {
     "data": {
      "text/plain": [
       "array(['Car', 'Taxi/Private hire car',\n",
       "       'Bus or coach (17 or more pass seats)', 'Other vehicle',\n",
       "       'Van / Goods 3.5 tonnes mgw or under',\n",
       "       'Motorcycle over 125cc and up to 500cc',\n",
       "       'Goods 7.5 tonnes mgw and over', 'Motorcycle 125cc and under',\n",
       "       'Motorcycle over 500cc', 'Motorcycle 50cc and under',\n",
       "       'Minibus (8 - 16 passenger seats)',\n",
       "       'Goods over 3.5t. and under 7.5t', 'Pedal cycle',\n",
       "       'Agricultural vehicle', 'Ridden horse',\n",
       "       'Data missing or out of range'], dtype=object)"
      ]
     },
     "execution_count": 30,
     "metadata": {},
     "output_type": "execute_result"
    }
   ],
   "source": [
    "data['Vehicle_Type'].unique()"
   ]
  },
  {
   "cell_type": "code",
   "execution_count": 31,
   "id": "374154e6-79b5-468b-86f8-6d9d86781de5",
   "metadata": {},
   "outputs": [
    {
     "data": {
      "image/png": "[encoded data removed]",
      "text/plain": [
       "<Figure size 1000x500 with 1 Axes>"
      ]
     },
     "metadata": {},
     "output_type": "display_data"
    }
   ],
   "source": [
    "vehicle_counts = data['Vehicle_Type'].value_counts()\n",
    "vehicle_counts.plot(kind='bar', figsize=(10,5))\n",
    "\n",
    "plt.title(\"Number of Accidents by Vehicle Type\")\n",
    "plt.xlabel(\"Vehicle Type\")\n",
    "plt.ylabel(\"Count\")\n",
    "\n",
    "plt.show()"
   ]
  },
  {
   "cell_type": "markdown",
   "id": "221fbf83-5a3e-474c-9670-a1d61cc96b89",
   "metadata": {},
   "source": [
    "<h1>Insight:</h1>  \n",
    "<h2>Cars are the most frequently involved vehicle type in accidents, showing their dominant presence on the roads.</h2>  \n",
    "<h2>Vans rank second, indicating that light commercial vehicles also contribute significantly to road incidents.</h2>"
   ]
  },
  {
   "cell_type": "code",
   "execution_count": 32,
   "id": "6ff2f450-664a-44e1-a501-e84deba9c9e7",
   "metadata": {},
   "outputs": [
    {
     "data": {
      "text/plain": [
       "Vehicle_Type\n",
       "False    660675\n",
       "True          4\n",
       "Name: count, dtype: int64"
      ]
     },
     "execution_count": 32,
     "metadata": {},
     "output_type": "execute_result"
    }
   ],
   "source": [
    "horse = data['Vehicle_Type']== 'Ridden horse'\n",
    "horse.value_counts()"
   ]
  },
  {
   "cell_type": "markdown",
   "id": "3bfe3917-0d91-4968-84cc-5bd42d43d102",
   "metadata": {},
   "source": [
    "<h1>Insight:</h1>  \n",
    "<h2>Having this data makes me realize that it might be impossible to have a accident on a Ridden horse but data shows its low but not zero.</h2>  \n"
   ]
  },
  {
   "cell_type": "code",
   "execution_count": null,
   "id": "6cf12b74-ae1f-4abc-8051-4315f0937e1e",
   "metadata": {},
   "outputs": [],
   "source": []
  }
 ],
 "metadata": {
  "kernelspec": {
   "display_name": "Python 3 (ipykernel)",
   "language": "python",
   "name": "python3"
  },
  "language_info": {
   "codemirror_mode": {
    "name": "ipython",
    "version": 3
   },
   "file_extension": ".py",
   "mimetype": "text/x-python",
   "name": "python",
   "nbconvert_exporter": "python",
   "pygments_lexer": "ipython3",
   "version": "3.11.9"
  }
 },
 "nbformat": 4,
 "nbformat_minor": 5
}
